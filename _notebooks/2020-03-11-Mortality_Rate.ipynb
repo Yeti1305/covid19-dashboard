{
 "cells": [
  {
   "cell_type": "markdown",
   "metadata": {
    "colab_type": "text",
    "id": "bMoe_6i9CVfd",
    "papermill": {
     "duration": 0.015343,
     "end_time": "2020-03-20T08:14:35.195279",
     "exception": false,
     "start_time": "2020-03-20T08:14:35.179936",
     "status": "completed"
    },
    "tags": []
   },
   "source": [
    "# Estimating The Mortality Rate For COVID-19\n",
    "> Using Country-Level Covariates To Correct For Testing & Reporting Biases And Estimate a True Mortality Rate.\n",
    "- author: Joseph Richards\n",
    "- image: images/corvid-mortality.png\n",
    "- comments: true\n",
    "- categories: [MCMC, mortality]\n",
    "- permalink: /covid-19-mortality-estimation/\n",
    "- toc: true"
   ]
  },
  {
   "cell_type": "code",
   "execution_count": 1,
   "metadata": {
    "colab": {
     "base_uri": "https://localhost:8080/",
     "height": 358
    },
    "colab_type": "code",
    "id": "XtQpnxQeDuc4",
    "outputId": "fdce59d4-f94b-4f92-e9b1-c749c7512b6f",
    "papermill": {
     "duration": 0.018495,
     "end_time": "2020-03-20T08:14:35.225644",
     "exception": false,
     "start_time": "2020-03-20T08:14:35.207149",
     "status": "completed"
    },
    "tags": []
   },
   "outputs": [],
   "source": [
    "#hide\n",
    "# ! pip install pymc3 arviz xlrd"
   ]
  },
  {
   "cell_type": "code",
   "execution_count": 2,
   "metadata": {
    "colab": {},
    "colab_type": "code",
    "id": "gYLQETHHEsHR",
    "papermill": {
     "duration": 1.603801,
     "end_time": "2020-03-20T08:14:36.840718",
     "exception": false,
     "start_time": "2020-03-20T08:14:35.236917",
     "status": "completed"
    },
    "tags": []
   },
   "outputs": [
    {
     "name": "stderr",
     "output_type": "stream",
     "text": [
      "WARNING (theano.tensor.blas): Using NumPy C-API based implementation for BLAS functions.\n"
     ]
    }
   ],
   "source": [
    "#hide\n",
    "\n",
    "# Setup and imports\n",
    "%matplotlib inline\n",
    "\n",
    "import warnings\n",
    "warnings.simplefilter('ignore')\n",
    "\n",
    "import matplotlib.pyplot as plt\n",
    "import numpy as np\n",
    "import pandas as pd\n",
    "import pymc3 as pm\n",
    "from IPython.display import display, Markdown"
   ]
  },
  {
   "cell_type": "code",
   "execution_count": 3,
   "metadata": {
    "colab": {},
    "colab_type": "code",
    "id": "-SYMy6oJMw9t",
    "papermill": {
     "duration": 0.023526,
     "end_time": "2020-03-20T08:14:36.876709",
     "exception": false,
     "start_time": "2020-03-20T08:14:36.853183",
     "status": "completed"
    },
    "tags": []
   },
   "outputs": [],
   "source": [
    "#hide\n",
    "\n",
    "# constants\n",
    "\n",
    "ignore_countries = [\n",
    "    'Others',\n",
    "    'Cruise Ship'\n",
    "]\n",
    "\n",
    "cpi_country_mapping = {\n",
    "    'United States of America': 'US',\n",
    "    'China': 'Mainland China'\n",
    "}\n",
    "\n",
    "wb_country_mapping = {\n",
    "    'United States': 'US',\n",
    "    'Egypt, Arab Rep.': 'Egypt',\n",
    "    'Hong Kong SAR, China': 'Hong Kong',\n",
    "    'Iran, Islamic Rep.': 'Iran',\n",
    "    'China': 'Mainland China',\n",
    "    'Russian Federation': 'Russia',\n",
    "    'Slovak Republic': 'Slovakia',\n",
    "    'Korea, Rep.': 'Korea, South'\n",
    "}\n",
    "\n",
    "wb_covariates = [\n",
    "    ('SH.XPD.OOPC.CH.ZS',\n",
    "        'healthcare_oop_expenditure'),\n",
    "    ('SH.MED.BEDS.ZS',\n",
    "        'hospital_beds'),\n",
    "    ('HD.HCI.OVRL',\n",
    "        'hci'),\n",
    "    ('SP.POP.65UP.TO.ZS',\n",
    "        'population_perc_over65'),\n",
    "    ('SP.RUR.TOTL.ZS',\n",
    "        'population_perc_rural')\n",
    "]"
   ]
  },
  {
   "cell_type": "code",
   "execution_count": 4,
   "metadata": {
    "colab": {},
    "colab_type": "code",
    "id": "phZcRKGJMzJ3",
    "papermill": {
     "duration": 0.039154,
     "end_time": "2020-03-20T08:14:36.927949",
     "exception": false,
     "start_time": "2020-03-20T08:14:36.888795",
     "status": "completed"
    },
    "tags": []
   },
   "outputs": [],
   "source": [
    "#hide\n",
    "\n",
    "# data loading and manipulation\n",
    "\n",
    "from datetime import datetime\n",
    "import os\n",
    "\n",
    "import numpy as np\n",
    "import pandas as pd\n",
    "\n",
    "\n",
    "def get_all_data():\n",
    "    '''\n",
    "    Main routine that grabs all COVID and covariate data and\n",
    "    returns them as a single dataframe that contains:\n",
    "\n",
    "    * count of cumulative cases and deaths by country (by today's date)\n",
    "    * days since first case for each country\n",
    "    * CPI gov't transparency index\n",
    "    * World Bank data on population, healthcare, etc. by country\n",
    "    '''\n",
    "\n",
    "    all_covid_data = _get_latest_covid_timeseries()\n",
    "\n",
    "    covid_cases_rollup = _rollup_by_country(all_covid_data['Confirmed'])\n",
    "    covid_deaths_rollup = _rollup_by_country(all_covid_data['Deaths'])\n",
    "\n",
    "    todays_date = covid_cases_rollup.columns.max()\n",
    "\n",
    "    # Create DataFrame with today's cumulative case and death count, by country\n",
    "    df_out = pd.DataFrame({'cases': covid_cases_rollup[todays_date],\n",
    "                           'deaths': covid_deaths_rollup[todays_date]})\n",
    "\n",
    "    _clean_country_list(df_out)\n",
    "    _clean_country_list(covid_cases_rollup)\n",
    "\n",
    "    # Add observed death rate:\n",
    "    df_out['death_rate_observed'] = df_out.apply(\n",
    "        lambda row: row['deaths'] / float(row['cases']),\n",
    "        axis=1)\n",
    "\n",
    "    # Add covariate for days since first case\n",
    "    df_out['days_since_first_case'] = _compute_days_since_first_case(\n",
    "        covid_cases_rollup)\n",
    "\n",
    "    # Add CPI covariate:\n",
    "    _add_cpi_data(df_out)\n",
    "\n",
    "    # Add World Bank covariates:\n",
    "    _add_wb_data(df_out)\n",
    "\n",
    "    # Drop any country w/o covariate data:\n",
    "    num_null = df_out.isnull().sum(axis=1)\n",
    "    to_drop_idx = df_out.index[num_null > 1]\n",
    "    print('Dropping %i/%i countries due to lack of data' %\n",
    "          (len(to_drop_idx), len(df_out)))\n",
    "    df_out.drop(to_drop_idx, axis=0, inplace=True)\n",
    "\n",
    "    return df_out, todays_date\n",
    "\n",
    "\n",
    "def _get_latest_covid_timeseries():\n",
    "    ''' Pull latest time-series data from JHU CSSE database '''\n",
    "\n",
    "    repo = 'https://raw.githubusercontent.com/CSSEGISandData/COVID-19/master/'\n",
    "    data_path = 'csse_covid_19_data/csse_covid_19_time_series/'\n",
    "\n",
    "    all_data = {}\n",
    "    for status in ['Confirmed', 'Deaths', 'Recovered']:\n",
    "        file_name = 'time_series_19-covid-%s.csv' % status\n",
    "        all_data[status] = pd.read_csv(\n",
    "            '%s%s%s' % (repo, data_path, file_name))\n",
    "\n",
    "    return all_data\n",
    "\n",
    "\n",
    "def _rollup_by_country(df):\n",
    "    '''\n",
    "    Roll up each raw time-series by country, adding up the cases\n",
    "    across the individual states/provinces within the country\n",
    "\n",
    "    :param df: Pandas DataFrame of raw data from CSSE\n",
    "    :return: DataFrame of country counts\n",
    "    '''\n",
    "    gb = df.groupby('Country/Region')\n",
    "    df_rollup = gb.sum()\n",
    "    df_rollup.drop(['Lat', 'Long'], axis=1, inplace=True, errors='ignore')\n",
    "    \n",
    "    # Drop dates with all 0 count data\n",
    "    df_rollup.drop(df_rollup.columns[df_rollup.sum(axis=0) == 0],\n",
    "                   axis=1,\n",
    "                   inplace=True)\n",
    "\n",
    "    # Convert column strings to dates:\n",
    "    idx_as_dt = [datetime.strptime(x, '%m/%d/%y') for x in df_rollup.columns]\n",
    "    df_rollup.columns = idx_as_dt\n",
    "    return df_rollup\n",
    "\n",
    "\n",
    "def _clean_country_list(df):\n",
    "    ''' Clean up input country list in df '''\n",
    "    # handle recent changes in country names:\n",
    "    country_rename = {\n",
    "        'Hong Kong SAR': 'Hong Kong',\n",
    "        'Taiwan*': 'Taiwan',\n",
    "        'Czechia': 'Czech Republic',\n",
    "        'Brunei': 'Brunei Darussalam',\n",
    "        'Iran (Islamic Republic of)': 'Iran',\n",
    "        'Viet Nam': 'Vietnam',\n",
    "        'Russian Federation': 'Russia',\n",
    "        'Republic of Korea': 'South Korea',\n",
    "        'Republic of Moldova': 'Moldova',\n",
    "        'China': 'Mainland China'\n",
    "    }\n",
    "    df.rename(country_rename, axis=0, inplace=True)\n",
    "    df.drop(ignore_countries, axis=0, inplace=True, errors='ignore')\n",
    "\n",
    "\n",
    "def _compute_days_since_first_case(df_cases):\n",
    "    ''' Compute the country-wise days since first confirmed case\n",
    "\n",
    "    :param df_cases: country-wise time-series of confirmed case counts\n",
    "    :return: Series of country-wise days since first case\n",
    "    '''\n",
    "    date_first_case = df_cases[df_cases > 0].idxmin(axis=1)\n",
    "    days_since_first_case = date_first_case.apply(\n",
    "        lambda x: (df_cases.columns.max() - x).days)\n",
    "    # Add 1 month for China, since outbreak started late 2019:\n",
    "    days_since_first_case.loc['Mainland China'] += 30\n",
    "\n",
    "    return days_since_first_case\n",
    "\n",
    "\n",
    "def _add_cpi_data(df_input):\n",
    "    '''\n",
    "    Add the Government transparency (CPI - corruption perceptions index)\n",
    "    data (by country) as a column in the COVID cases dataframe.\n",
    "\n",
    "    :param df_input: COVID-19 data rolled up country-wise\n",
    "    :return: None, add CPI data to df_input in place\n",
    "    '''\n",
    "    cpi_data = pd.read_excel(\n",
    "        'https://github.com/jwrichar/COVID19-mortality/blob/master/data/CPI2019.xlsx?raw=true',\n",
    "        skiprows=2)\n",
    "    cpi_data.set_index('Country', inplace=True, drop=True)\n",
    "    cpi_data.rename(cpi_country_mapping, axis=0, inplace=True)\n",
    "\n",
    "    # Add CPI score to input df:\n",
    "    df_input['cpi_score_2019'] = cpi_data['CPI score 2019']\n",
    "\n",
    "\n",
    "def _add_wb_data(df_input):\n",
    "    '''\n",
    "    Add the World Bank data covariates as columns in the COVID cases dataframe.\n",
    "\n",
    "    :param df_input: COVID-19 data rolled up country-wise\n",
    "    :return: None, add World Bank data to df_input in place\n",
    "    '''\n",
    "    wb_data = pd.read_csv(\n",
    "        'https://raw.githubusercontent.com/jwrichar/COVID19-mortality/master/data/world_bank_data.csv',\n",
    "        na_values='..')\n",
    "\n",
    "    for (wb_name, var_name) in wb_covariates:\n",
    "        wb_series = wb_data.loc[wb_data['Series Code'] == wb_name]\n",
    "        wb_series.set_index('Country Name', inplace=True, drop=True)\n",
    "        wb_series.rename(wb_country_mapping, axis=0, inplace=True)\n",
    "\n",
    "        # Add WB data:\n",
    "        df_input[var_name] = _get_most_recent_value(wb_series)\n",
    "\n",
    "\n",
    "def _get_most_recent_value(wb_series):\n",
    "    '''\n",
    "    Get most recent non-null value for each country in the World Bank\n",
    "    time-series data\n",
    "    '''\n",
    "    ts_data = wb_series[wb_series.columns[3::]]\n",
    "\n",
    "    def _helper(row):\n",
    "        row_nn = row[row.notnull()]\n",
    "        if len(row_nn):\n",
    "            return row_nn[-1]\n",
    "        else:\n",
    "            return np.nan\n",
    "\n",
    "    return ts_data.apply(_helper, axis=1)\n"
   ]
  },
  {
   "cell_type": "code",
   "execution_count": 5,
   "metadata": {
    "colab": {
     "base_uri": "https://localhost:8080/",
     "height": 33
    },
    "colab_type": "code",
    "id": "AlGjkxH9N4Bt",
    "outputId": "746bd546-5ded-4565-e10e-64aa5af0df0c",
    "papermill": {
     "duration": 2.044535,
     "end_time": "2020-03-20T08:14:38.984998",
     "exception": false,
     "start_time": "2020-03-20T08:14:36.940463",
     "status": "completed"
    },
    "tags": []
   },
   "outputs": [
    {
     "name": "stdout",
     "output_type": "stream",
     "text": [
      "Dropping 19/154 countries due to lack of data\n"
     ]
    }
   ],
   "source": [
    "#hide\n",
    "\n",
    "# Load the data (see source/data.py):\n",
    "df, todays_date = get_all_data()\n",
    "# Impute NA's column-wise:\n",
    "df = df.apply(lambda x: x.fillna(x.mean()),axis=0)"
   ]
  },
  {
   "cell_type": "markdown",
   "metadata": {
    "colab_type": "text",
    "id": "dwPgV5dBO1Ll",
    "papermill": {
     "duration": 0.012163,
     "end_time": "2020-03-20T08:14:39.009475",
     "exception": false,
     "start_time": "2020-03-20T08:14:38.997312",
     "status": "completed"
    },
    "tags": []
   },
   "source": [
    "# Observed mortality rates"
   ]
  },
  {
   "cell_type": "code",
   "execution_count": 6,
   "metadata": {
    "colab": {
     "base_uri": "https://localhost:8080/",
     "height": 618
    },
    "colab_type": "code",
    "id": "afCZhOL-OSOd",
    "outputId": "227444ff-df43-4936-e652-9974a7843a56",
    "papermill": {
     "duration": 0.335807,
     "end_time": "2020-03-20T08:14:39.357384",
     "exception": false,
     "start_time": "2020-03-20T08:14:39.021577",
     "status": "completed"
    },
    "tags": []
   },
   "outputs": [
    {
     "data": {
      "text/markdown": [
       "Data as of 2020-03-19 00:00:00"
      ],
      "text/plain": [
       "<IPython.core.display.Markdown object>"
      ]
     },
     "metadata": {},
     "output_type": "display_data"
    },
    {
     "data": {
      "text/markdown": [
       "Overall reported mortality rate: 4.08%"
      ],
      "text/plain": [
       "<IPython.core.display.Markdown object>"
      ]
     },
     "metadata": {},
     "output_type": "display_data"
    },
    {
     "data": {
      "image/png": "[encoded data removed]",
      "text/plain": [
       "<Figure size 1008x504 with 1 Axes>"
      ]
     },
     "metadata": {
      "needs_background": "light"
     },
     "output_type": "display_data"
    }
   ],
   "source": [
    "#collapse-hide\n",
    "\n",
    "display(Markdown('Data as of %s' % todays_date))\n",
    "\n",
    "reported_mortality_rate = df['deaths'].sum() / df['cases'].sum()\n",
    "display(Markdown('Overall reported mortality rate: %.2f%%' % (100.0 * reported_mortality_rate)))\n",
    "\n",
    "df_highest = df.sort_values('cases', ascending=False).head(15)\n",
    "mortality_rate = pd.Series(\n",
    "    data=(df_highest['deaths']/df_highest['cases']).values,\n",
    "    index=map(lambda x: '%s (%i cases)' % (x, df_highest.loc[x]['cases']),\n",
    "              df_highest.index))\n",
    "ax = mortality_rate.plot.bar(\n",
    "    figsize=(14,7), title='Reported Mortality Rate by Country (countries w/ highest case counts)')\n",
    "ax.axhline(reported_mortality_rate, color='k', ls='--')\n",
    "\n",
    "plt.show()"
   ]
  },
  {
   "cell_type": "markdown",
   "metadata": {
    "colab_type": "text",
    "id": "Z5qTKZtBTTCb",
    "papermill": {
     "duration": 0.013978,
     "end_time": "2020-03-20T08:14:39.386083",
     "exception": false,
     "start_time": "2020-03-20T08:14:39.372105",
     "status": "completed"
    },
    "tags": []
   },
   "source": [
    "# Model"
   ]
  },
  {
   "cell_type": "markdown",
   "metadata": {
    "papermill": {
     "duration": 0.014326,
     "end_time": "2020-03-20T08:14:39.414962",
     "exception": false,
     "start_time": "2020-03-20T08:14:39.400636",
     "status": "completed"
    },
    "tags": []
   },
   "source": [
    "Estimate COVID-19 mortality rate, controling for country factors."
   ]
  },
  {
   "cell_type": "code",
   "execution_count": 7,
   "metadata": {
    "colab": {},
    "colab_type": "code",
    "id": "SZeyDBm3O8g6",
    "papermill": {
     "duration": 0.037337,
     "end_time": "2020-03-20T08:14:39.466446",
     "exception": false,
     "start_time": "2020-03-20T08:14:39.429109",
     "status": "completed"
    },
    "tags": []
   },
   "outputs": [],
   "source": [
    "#hide\n",
    "\n",
    "import numpy as np\n",
    "\n",
    "import pymc3 as pm\n",
    "\n",
    "\n",
    "def initialize_model(df):\n",
    "\n",
    "    # Normalize input covariates in a way that is sensible:\n",
    "\n",
    "    # (1) days since first case: upper\n",
    "    # mu_0 to reflect asymptotic mortality rate months after outbreak\n",
    "    _normalize_col(df, 'days_since_first_case', how='upper')\n",
    "    # (2) CPI score: upper\n",
    "    # mu_0 to reflect scenario in absence of corrupt govts\n",
    "    _normalize_col(df, 'cpi_score_2019', how='upper')\n",
    "    # (3) healthcare OOP spending: mean\n",
    "    # not sure which way this will go\n",
    "    _normalize_col(df, 'healthcare_oop_expenditure', how='mean')\n",
    "    # (4) hospital beds: upper\n",
    "    # more beds, more healthcare and tests\n",
    "    _normalize_col(df, 'hospital_beds', how='mean')\n",
    "    # (5) hci = human capital index: upper\n",
    "    # HCI measures education/health; mu_0 should reflect best scenario\n",
    "    _normalize_col(df, 'hci', how='mean')\n",
    "    # (6) % over 65: mean\n",
    "    # mu_0 to reflect average world demographic\n",
    "    _normalize_col(df, 'population_perc_over65', how='mean')\n",
    "    # (7) % rural: mean\n",
    "    # mu_0 to reflect average world demographic\n",
    "    _normalize_col(df, 'population_perc_rural', how='mean')\n",
    "\n",
    "    n = len(df)\n",
    "\n",
    "    covid_mortality_model = pm.Model()\n",
    "\n",
    "    with covid_mortality_model:\n",
    "\n",
    "        # Priors:\n",
    "        mu_0 = pm.Beta('mu_0', alpha=0.3, beta=10)\n",
    "        sig_0 = pm.Uniform('sig_0', lower=0.0, upper=mu_0 * (1 - mu_0))\n",
    "        beta = pm.Normal('beta', mu=0, sigma=5, shape=7)\n",
    "        sigma = pm.HalfNormal('sigma', sigma=5)\n",
    "\n",
    "        # Model mu from country-wise covariates:\n",
    "        # Apply logit transformation so logistic regression performed\n",
    "        mu_0_logit = np.log(mu_0 / (1 - mu_0))\n",
    "        mu_est = mu_0_logit + \\\n",
    "            beta[0] * df['days_since_first_case_normalized'].values + \\\n",
    "            beta[1] * df['cpi_score_2019_normalized'].values + \\\n",
    "            beta[2] * df['healthcare_oop_expenditure_normalized'].values + \\\n",
    "            beta[3] * df['hospital_beds_normalized'].values + \\\n",
    "            beta[4] * df['hci_normalized'].values + \\\n",
    "            beta[5] * df['population_perc_over65_normalized'].values + \\\n",
    "            beta[6] * df['population_perc_rural_normalized'].values\n",
    "        mu_model_logit = pm.Normal('mu_model_logit',\n",
    "                                   mu=mu_est,\n",
    "                                   sigma=sigma,\n",
    "                                   shape=n)\n",
    "        # Transform back to probability space:\n",
    "        mu_model = np.exp(mu_model_logit) / (np.exp(mu_model_logit) + 1)\n",
    "\n",
    "        # tau_i, mortality rate for each country\n",
    "        # Parametrize with (mu, sigma)\n",
    "        # instead of (alpha, beta) to ease interpretability.\n",
    "        tau = pm.Beta('tau', mu=mu_model, sigma=sig_0, shape=n)\n",
    "        # tau = pm.Beta('tau', mu=mu_0, sigma=sig_0, shape=n)\n",
    "\n",
    "        # Binomial likelihood:\n",
    "        d_obs = pm.Binomial('d_obs',\n",
    "                            n=df['cases'].values,\n",
    "                            p=tau,\n",
    "                            observed=df['deaths'].values)\n",
    "\n",
    "    return covid_mortality_model\n",
    "\n",
    "\n",
    "def _normalize_col(df, colname, how='mean'):\n",
    "    '''\n",
    "    Normalize an input column in one of 3 ways:\n",
    "\n",
    "    * how=mean: unit normal N(0,1)\n",
    "    * how=upper: normalize to [-1, 0] with highest value set to 0\n",
    "    * how=lower: normalize to [0, 1] with lowest value set to 0\n",
    "\n",
    "    Returns df modified in place with extra column added.\n",
    "    '''\n",
    "    colname_new = '%s_normalized' % colname\n",
    "    if how == 'mean':\n",
    "        mu = df[colname].mean()\n",
    "        sig = df[colname].std()\n",
    "        df[colname_new] = (df[colname] - mu) / sig\n",
    "    elif how == 'upper':\n",
    "        maxval = df[colname].max()\n",
    "        minval = df[colname].min()\n",
    "        df[colname_new] = (df[colname] - maxval) / (maxval - minval)\n",
    "    elif how == 'lower':\n",
    "        maxval = df[colname].max()\n",
    "        minval = df[colname].min()\n",
    "        df[colname_new] = (df[colname] - minval) / (maxval - minval)"
   ]
  },
  {
   "cell_type": "code",
   "execution_count": 8,
   "metadata": {
    "colab": {
     "base_uri": "https://localhost:8080/",
     "height": 228
    },
    "colab_type": "code",
    "id": "W8t6hN76TiCE",
    "outputId": "83c6739f-2868-4b53-b36e-78283e58ea14",
    "papermill": {
     "duration": 183.302117,
     "end_time": "2020-03-20T08:17:42.782693",
     "exception": false,
     "start_time": "2020-03-20T08:14:39.480576",
     "status": "completed"
    },
    "tags": []
   },
   "outputs": [
    {
     "name": "stderr",
     "output_type": "stream",
     "text": [
      "Only 300 samples in chain.\n"
     ]
    },
    {
     "name": "stderr",
     "output_type": "stream",
     "text": [
      "Auto-assigning NUTS sampler...\n"
     ]
    },
    {
     "name": "stderr",
     "output_type": "stream",
     "text": [
      "Initializing NUTS using jitter+adapt_diag...\n"
     ]
    },
    {
     "name": "stderr",
     "output_type": "stream",
     "text": [
      "Multiprocess sampling (3 chains in 2 jobs)\n"
     ]
    },
    {
     "name": "stderr",
     "output_type": "stream",
     "text": [
      "NUTS: [tau, mu_model_logit, sigma, beta, sig_0, mu_0]\n"
     ]
    },
    {
     "name": "stderr",
     "output_type": "stream",
     "text": [
      "\r",
      "Sampling 3 chains, 0 divergences:   0%|          | 0/1200 [00:00<?, ?draws/s]"
     ]
    },
    {
     "name": "stderr",
     "output_type": "stream",
     "text": [
      "\r",
      "Sampling 3 chains, 0 divergences:   1%|          | 12/1200 [00:00<00:14, 82.20draws/s]"
     ]
    },
    {
     "name": "stderr",
     "output_type": "stream",
     "text": [
      "\r",
      "Sampling 3 chains, 0 divergences:   1%|▏         | 15/1200 [00:00<00:25, 46.82draws/s]"
     ]
    },
    {
     "name": "stderr",
     "output_type": "stream",
     "text": [
      "\r",
      "Sampling 3 chains, 0 divergences:   2%|▏         | 18/1200 [00:00<00:31, 37.37draws/s]"
     ]
    },
    {
     "name": "stderr",
     "output_type": "stream",
     "text": [
      "\r",
      "Sampling 3 chains, 0 divergences:   2%|▏         | 21/1200 [00:00<00:36, 31.94draws/s]"
     ]
    },
    {
     "name": "stderr",
     "output_type": "stream",
     "text": [
      "\r",
      "Sampling 3 chains, 0 divergences:   2%|▏         | 24/1200 [00:00<00:37, 31.06draws/s]"
     ]
    },
    {
     "name": "stderr",
     "output_type": "stream",
     "text": [
      "\r",
      "Sampling 3 chains, 0 divergences:   2%|▏         | 27/1200 [00:00<00:40, 28.91draws/s]"
     ]
    },
    {
     "name": "stderr",
     "output_type": "stream",
     "text": [
      "\r",
      "Sampling 3 chains, 0 divergences:   3%|▎         | 31/1200 [00:00<00:43, 26.82draws/s]"
     ]
    },
    {
     "name": "stderr",
     "output_type": "stream",
     "text": [
      "\r",
      "Sampling 3 chains, 0 divergences:   3%|▎         | 34/1200 [00:01<00:44, 26.34draws/s]"
     ]
    },
    {
     "name": "stderr",
     "output_type": "stream",
     "text": [
      "\r",
      "Sampling 3 chains, 0 divergences:   3%|▎         | 38/1200 [00:01<00:39, 29.17draws/s]"
     ]
    },
    {
     "name": "stderr",
     "output_type": "stream",
     "text": [
      "\r",
      "Sampling 3 chains, 0 divergences:   3%|▎         | 41/1200 [00:01<00:42, 27.10draws/s]"
     ]
    },
    {
     "name": "stderr",
     "output_type": "stream",
     "text": [
      "\r",
      "Sampling 3 chains, 0 divergences:   4%|▍         | 45/1200 [00:01<00:42, 26.92draws/s]"
     ]
    },
    {
     "name": "stderr",
     "output_type": "stream",
     "text": [
      "\r",
      "Sampling 3 chains, 0 divergences:   4%|▍         | 48/1200 [00:01<00:42, 27.22draws/s]"
     ]
    },
    {
     "name": "stderr",
     "output_type": "stream",
     "text": [
      "\r",
      "Sampling 3 chains, 0 divergences:   4%|▍         | 51/1200 [00:01<00:41, 27.80draws/s]"
     ]
    },
    {
     "name": "stderr",
     "output_type": "stream",
     "text": [
      "\r",
      "Sampling 3 chains, 0 divergences:   5%|▍         | 55/1200 [00:01<00:41, 27.58draws/s]"
     ]
    },
    {
     "name": "stderr",
     "output_type": "stream",
     "text": [
      "\r",
      "Sampling 3 chains, 0 divergences:   5%|▍         | 58/1200 [00:01<00:41, 27.85draws/s]"
     ]
    },
    {
     "name": "stderr",
     "output_type": "stream",
     "text": [
      "\r",
      "Sampling 3 chains, 0 divergences:   5%|▌         | 62/1200 [00:02<00:42, 27.00draws/s]"
     ]
    },
    {
     "name": "stderr",
     "output_type": "stream",
     "text": [
      "\r",
      "Sampling 3 chains, 0 divergences:   5%|▌         | 65/1200 [00:02<00:42, 26.50draws/s]"
     ]
    },
    {
     "name": "stderr",
     "output_type": "stream",
     "text": [
      "\r",
      "Sampling 3 chains, 0 divergences:   6%|▌         | 68/1200 [00:02<00:44, 25.20draws/s]"
     ]
    },
    {
     "name": "stderr",
     "output_type": "stream",
     "text": [
      "\r",
      "Sampling 3 chains, 0 divergences:   6%|▌         | 71/1200 [00:02<00:45, 24.67draws/s]"
     ]
    },
    {
     "name": "stderr",
     "output_type": "stream",
     "text": [
      "\r",
      "Sampling 3 chains, 0 divergences:   6%|▌         | 74/1200 [00:02<00:43, 25.90draws/s]"
     ]
    },
    {
     "name": "stderr",
     "output_type": "stream",
     "text": [
      "\r",
      "Sampling 3 chains, 0 divergences:   6%|▋         | 77/1200 [00:02<00:42, 26.29draws/s]"
     ]
    },
    {
     "name": "stderr",
     "output_type": "stream",
     "text": [
      "\r",
      "Sampling 3 chains, 0 divergences:   7%|▋         | 80/1200 [00:02<00:46, 24.33draws/s]"
     ]
    },
    {
     "name": "stderr",
     "output_type": "stream",
     "text": [
      "\r",
      "Sampling 3 chains, 0 divergences:   7%|▋         | 83/1200 [00:02<00:48, 22.95draws/s]"
     ]
    },
    {
     "name": "stderr",
     "output_type": "stream",
     "text": [
      "\r",
      "Sampling 3 chains, 0 divergences:   7%|▋         | 87/1200 [00:03<00:42, 26.29draws/s]"
     ]
    },
    {
     "name": "stderr",
     "output_type": "stream",
     "text": [
      "\r",
      "Sampling 3 chains, 0 divergences:   8%|▊         | 90/1200 [00:03<00:44, 24.90draws/s]"
     ]
    },
    {
     "name": "stderr",
     "output_type": "stream",
     "text": [
      "\r",
      "Sampling 3 chains, 0 divergences:   8%|▊         | 93/1200 [00:03<00:44, 24.99draws/s]"
     ]
    },
    {
     "name": "stderr",
     "output_type": "stream",
     "text": [
      "\r",
      "Sampling 3 chains, 0 divergences:   8%|▊         | 96/1200 [00:03<00:47, 23.44draws/s]"
     ]
    },
    {
     "name": "stderr",
     "output_type": "stream",
     "text": [
      "\r",
      "Sampling 3 chains, 0 divergences:   8%|▊         | 99/1200 [00:03<00:46, 23.68draws/s]"
     ]
    },
    {
     "name": "stderr",
     "output_type": "stream",
     "text": [
      "\r",
      "Sampling 3 chains, 0 divergences:   9%|▊         | 103/1200 [00:03<00:44, 24.56draws/s]"
     ]
    },
    {
     "name": "stderr",
     "output_type": "stream",
     "text": [
      "\r",
      "Sampling 3 chains, 0 divergences:   9%|▉         | 106/1200 [00:03<00:46, 23.54draws/s]"
     ]
    },
    {
     "name": "stderr",
     "output_type": "stream",
     "text": [
      "\r",
      "Sampling 3 chains, 0 divergences:   9%|▉         | 109/1200 [00:03<00:49, 22.26draws/s]"
     ]
    },
    {
     "name": "stderr",
     "output_type": "stream",
     "text": [
      "\r",
      "Sampling 3 chains, 0 divergences:   9%|▉         | 112/1200 [00:04<00:46, 23.64draws/s]"
     ]
    },
    {
     "name": "stderr",
     "output_type": "stream",
     "text": [
      "\r",
      "Sampling 3 chains, 0 divergences:  10%|▉         | 115/1200 [00:04<00:52, 20.65draws/s]"
     ]
    },
    {
     "name": "stderr",
     "output_type": "stream",
     "text": [
      "\r",
      "Sampling 3 chains, 0 divergences:  10%|▉         | 119/1200 [00:04<00:46, 23.14draws/s]"
     ]
    },
    {
     "name": "stderr",
     "output_type": "stream",
     "text": [
      "\r",
      "Sampling 3 chains, 0 divergences:  10%|█         | 123/1200 [00:04<00:47, 22.78draws/s]"
     ]
    },
    {
     "name": "stderr",
     "output_type": "stream",
     "text": [
      "\r",
      "Sampling 3 chains, 0 divergences:  10%|█         | 126/1200 [00:04<00:44, 23.98draws/s]"
     ]
    },
    {
     "name": "stderr",
     "output_type": "stream",
     "text": [
      "\r",
      "Sampling 3 chains, 0 divergences:  11%|█         | 129/1200 [00:04<00:42, 25.33draws/s]"
     ]
    },
    {
     "name": "stderr",
     "output_type": "stream",
     "text": [
      "\r",
      "Sampling 3 chains, 0 divergences:  11%|█         | 132/1200 [00:04<00:40, 26.47draws/s]"
     ]
    },
    {
     "name": "stderr",
     "output_type": "stream",
     "text": [
      "\r",
      "Sampling 3 chains, 0 divergences:  11%|█▏        | 135/1200 [00:05<00:47, 22.43draws/s]"
     ]
    },
    {
     "name": "stderr",
     "output_type": "stream",
     "text": [
      "\r",
      "Sampling 3 chains, 0 divergences:  12%|█▏        | 138/1200 [00:05<00:45, 23.33draws/s]"
     ]
    },
    {
     "name": "stderr",
     "output_type": "stream",
     "text": [
      "\r",
      "Sampling 3 chains, 0 divergences:  12%|█▏        | 141/1200 [00:05<00:52, 20.25draws/s]"
     ]
    },
    {
     "name": "stderr",
     "output_type": "stream",
     "text": [
      "\r",
      "Sampling 3 chains, 0 divergences:  12%|█▏        | 144/1200 [00:05<00:47, 22.09draws/s]"
     ]
    },
    {
     "name": "stderr",
     "output_type": "stream",
     "text": [
      "\r",
      "Sampling 3 chains, 0 divergences:  12%|█▏        | 148/1200 [00:05<00:42, 24.98draws/s]"
     ]
    },
    {
     "name": "stderr",
     "output_type": "stream",
     "text": [
      "\r",
      "Sampling 3 chains, 0 divergences:  13%|█▎        | 151/1200 [00:05<00:42, 24.72draws/s]"
     ]
    },
    {
     "name": "stderr",
     "output_type": "stream",
     "text": [
      "\r",
      "Sampling 3 chains, 0 divergences:  13%|█▎        | 154/1200 [00:05<00:43, 24.24draws/s]"
     ]
    },
    {
     "name": "stderr",
     "output_type": "stream",
     "text": [
      "\r",
      "Sampling 3 chains, 0 divergences:  13%|█▎        | 158/1200 [00:06<00:45, 22.92draws/s]"
     ]
    },
    {
     "name": "stderr",
     "output_type": "stream",
     "text": [
      "\r",
      "Sampling 3 chains, 0 divergences:  14%|█▎        | 162/1200 [00:06<00:42, 24.48draws/s]"
     ]
    },
    {
     "name": "stderr",
     "output_type": "stream",
     "text": [
      "\r",
      "Sampling 3 chains, 0 divergences:  14%|█▍        | 165/1200 [00:06<00:40, 25.47draws/s]"
     ]
    },
    {
     "name": "stderr",
     "output_type": "stream",
     "text": [
      "\r",
      "Sampling 3 chains, 0 divergences:  14%|█▍        | 169/1200 [00:06<00:43, 23.77draws/s]"
     ]
    },
    {
     "name": "stderr",
     "output_type": "stream",
     "text": [
      "\r",
      "Sampling 3 chains, 0 divergences:  14%|█▍        | 172/1200 [00:06<00:40, 25.32draws/s]"
     ]
    },
    {
     "name": "stderr",
     "output_type": "stream",
     "text": [
      "\r",
      "Sampling 3 chains, 0 divergences:  15%|█▍        | 175/1200 [00:06<00:49, 20.77draws/s]"
     ]
    },
    {
     "name": "stderr",
     "output_type": "stream",
     "text": [
      "\r",
      "Sampling 3 chains, 0 divergences:  15%|█▍        | 179/1200 [00:06<00:47, 21.50draws/s]"
     ]
    },
    {
     "name": "stderr",
     "output_type": "stream",
     "text": [
      "\r",
      "Sampling 3 chains, 0 divergences:  15%|█▌        | 182/1200 [00:07<00:45, 22.38draws/s]"
     ]
    },
    {
     "name": "stderr",
     "output_type": "stream",
     "text": [
      "\r",
      "Sampling 3 chains, 0 divergences:  15%|█▌        | 185/1200 [00:07<00:43, 23.31draws/s]"
     ]
    },
    {
     "name": "stderr",
     "output_type": "stream",
     "text": [
      "\r",
      "Sampling 3 chains, 0 divergences:  16%|█▌        | 188/1200 [00:07<00:49, 20.65draws/s]"
     ]
    },
    {
     "name": "stderr",
     "output_type": "stream",
     "text": [
      "\r",
      "Sampling 3 chains, 0 divergences:  16%|█▌        | 191/1200 [00:07<00:45, 22.00draws/s]"
     ]
    },
    {
     "name": "stderr",
     "output_type": "stream",
     "text": [
      "\r",
      "Sampling 3 chains, 0 divergences:  16%|█▌        | 194/1200 [00:07<00:45, 22.03draws/s]"
     ]
    },
    {
     "name": "stderr",
     "output_type": "stream",
     "text": [
      "\r",
      "Sampling 3 chains, 0 divergences:  16%|█▋        | 197/1200 [00:07<00:51, 19.43draws/s]"
     ]
    },
    {
     "name": "stderr",
     "output_type": "stream",
     "text": [
      "\r",
      "Sampling 3 chains, 0 divergences:  17%|█▋        | 200/1200 [00:08<00:55, 18.05draws/s]"
     ]
    },
    {
     "name": "stderr",
     "output_type": "stream",
     "text": [
      "\r",
      "Sampling 3 chains, 0 divergences:  17%|█▋        | 202/1200 [00:08<01:00, 16.42draws/s]"
     ]
    },
    {
     "name": "stderr",
     "output_type": "stream",
     "text": [
      "\r",
      "Sampling 3 chains, 0 divergences:  17%|█▋        | 205/1200 [00:08<00:59, 16.65draws/s]"
     ]
    },
    {
     "name": "stderr",
     "output_type": "stream",
     "text": [
      "\r",
      "Sampling 3 chains, 1 divergences:  17%|█▋        | 205/1200 [00:08<00:59, 16.65draws/s]"
     ]
    },
    {
     "name": "stderr",
     "output_type": "stream",
     "text": [
      "\r",
      "Sampling 3 chains, 1 divergences:  17%|█▋        | 208/1200 [00:08<01:01, 16.20draws/s]"
     ]
    },
    {
     "name": "stderr",
     "output_type": "stream",
     "text": [
      "\r",
      "Sampling 3 chains, 2 divergences:  18%|█▊        | 210/1200 [00:08<01:01, 16.20draws/s]"
     ]
    },
    {
     "name": "stderr",
     "output_type": "stream",
     "text": [
      "\r",
      "Sampling 3 chains, 2 divergences:  18%|█▊        | 211/1200 [00:08<00:56, 17.42draws/s]"
     ]
    },
    {
     "name": "stderr",
     "output_type": "stream",
     "text": [
      "\r",
      "Sampling 3 chains, 2 divergences:  18%|█▊        | 213/1200 [00:08<01:10, 14.07draws/s]"
     ]
    },
    {
     "name": "stderr",
     "output_type": "stream",
     "text": [
      "\r",
      "Sampling 3 chains, 3 divergences:  18%|█▊        | 214/1200 [00:08<01:10, 14.07draws/s]"
     ]
    },
    {
     "name": "stderr",
     "output_type": "stream",
     "text": [
      "\r",
      "Sampling 3 chains, 3 divergences:  18%|█▊        | 216/1200 [00:09<01:03, 15.61draws/s]"
     ]
    },
    {
     "name": "stderr",
     "output_type": "stream",
     "text": [
      "\r",
      "Sampling 3 chains, 3 divergences:  18%|█▊        | 219/1200 [00:09<01:03, 15.56draws/s]"
     ]
    },
    {
     "name": "stderr",
     "output_type": "stream",
     "text": [
      "\r",
      "Sampling 3 chains, 4 divergences:  18%|█▊        | 219/1200 [00:09<01:03, 15.56draws/s]"
     ]
    },
    {
     "name": "stderr",
     "output_type": "stream",
     "text": [
      "\r",
      "Sampling 3 chains, 4 divergences:  18%|█▊        | 222/1200 [00:09<01:03, 15.50draws/s]"
     ]
    },
    {
     "name": "stderr",
     "output_type": "stream",
     "text": [
      "\r",
      "Sampling 3 chains, 5 divergences:  18%|█▊        | 222/1200 [00:09<01:03, 15.50draws/s]"
     ]
    },
    {
     "name": "stderr",
     "output_type": "stream",
     "text": [
      "\r",
      "Sampling 3 chains, 6 divergences:  19%|█▊        | 224/1200 [00:09<01:02, 15.50draws/s]"
     ]
    },
    {
     "name": "stderr",
     "output_type": "stream",
     "text": [
      "\r",
      "Sampling 3 chains, 7 divergences:  19%|█▉        | 225/1200 [00:09<01:02, 15.50draws/s]"
     ]
    },
    {
     "name": "stderr",
     "output_type": "stream",
     "text": [
      "\r",
      "Sampling 3 chains, 7 divergences:  19%|█▉        | 226/1200 [00:09<00:51, 18.83draws/s]"
     ]
    },
    {
     "name": "stderr",
     "output_type": "stream",
     "text": [
      "\r",
      "Sampling 3 chains, 7 divergences:  19%|█▉        | 229/1200 [00:09<00:55, 17.56draws/s]"
     ]
    },
    {
     "name": "stderr",
     "output_type": "stream",
     "text": [
      "\r",
      "Sampling 3 chains, 7 divergences:  19%|█▉        | 232/1200 [00:10<01:07, 14.28draws/s]"
     ]
    },
    {
     "name": "stderr",
     "output_type": "stream",
     "text": [
      "\r",
      "Sampling 3 chains, 7 divergences:  20%|█▉        | 235/1200 [00:10<01:06, 14.52draws/s]"
     ]
    },
    {
     "name": "stderr",
     "output_type": "stream",
     "text": [
      "\r",
      "Sampling 3 chains, 7 divergences:  20%|█▉        | 238/1200 [00:10<01:10, 13.74draws/s]"
     ]
    },
    {
     "name": "stderr",
     "output_type": "stream",
     "text": [
      "\r",
      "Sampling 3 chains, 7 divergences:  20%|██        | 240/1200 [00:10<01:17, 12.46draws/s]"
     ]
    },
    {
     "name": "stderr",
     "output_type": "stream",
     "text": [
      "\r",
      "Sampling 3 chains, 7 divergences:  20%|██        | 242/1200 [00:10<01:08, 13.92draws/s]"
     ]
    },
    {
     "name": "stderr",
     "output_type": "stream",
     "text": [
      "\r",
      "Sampling 3 chains, 7 divergences:  20%|██        | 244/1200 [00:11<01:29, 10.64draws/s]"
     ]
    },
    {
     "name": "stderr",
     "output_type": "stream",
     "text": [
      "\r",
      "Sampling 3 chains, 7 divergences:  21%|██        | 247/1200 [00:11<01:21, 11.75draws/s]"
     ]
    },
    {
     "name": "stderr",
     "output_type": "stream",
     "text": [
      "\r",
      "Sampling 3 chains, 7 divergences:  21%|██        | 249/1200 [00:11<01:24, 11.23draws/s]"
     ]
    },
    {
     "name": "stderr",
     "output_type": "stream",
     "text": [
      "\r",
      "Sampling 3 chains, 7 divergences:  21%|██        | 252/1200 [00:11<01:17, 12.20draws/s]"
     ]
    },
    {
     "name": "stderr",
     "output_type": "stream",
     "text": [
      "\r",
      "Sampling 3 chains, 7 divergences:  21%|██        | 254/1200 [00:11<01:09, 13.65draws/s]"
     ]
    },
    {
     "name": "stderr",
     "output_type": "stream",
     "text": [
      "\r",
      "Sampling 3 chains, 7 divergences:  21%|██▏       | 256/1200 [00:11<01:05, 14.35draws/s]"
     ]
    },
    {
     "name": "stderr",
     "output_type": "stream",
     "text": [
      "\r",
      "Sampling 3 chains, 7 divergences:  22%|██▏       | 258/1200 [00:12<01:11, 13.20draws/s]"
     ]
    },
    {
     "name": "stderr",
     "output_type": "stream",
     "text": [
      "\r",
      "Sampling 3 chains, 7 divergences:  22%|██▏       | 260/1200 [00:12<01:05, 14.38draws/s]"
     ]
    },
    {
     "name": "stderr",
     "output_type": "stream",
     "text": [
      "\r",
      "Sampling 3 chains, 7 divergences:  22%|██▏       | 262/1200 [00:12<01:27, 10.75draws/s]"
     ]
    },
    {
     "name": "stderr",
     "output_type": "stream",
     "text": [
      "\r",
      "Sampling 3 chains, 8 divergences:  22%|██▏       | 262/1200 [00:12<01:27, 10.75draws/s]"
     ]
    },
    {
     "name": "stderr",
     "output_type": "stream",
     "text": [
      "\r",
      "Sampling 3 chains, 9 divergences:  22%|██▏       | 263/1200 [00:12<01:27, 10.75draws/s]"
     ]
    },
    {
     "name": "stderr",
     "output_type": "stream",
     "text": [
      "\r",
      "Sampling 3 chains, 10 divergences:  22%|██▏       | 264/1200 [00:12<01:27, 10.75draws/s]"
     ]
    },
    {
     "name": "stderr",
     "output_type": "stream",
     "text": [
      "\r",
      "Sampling 3 chains, 11 divergences:  22%|██▏       | 265/1200 [00:12<01:26, 10.75draws/s]"
     ]
    },
    {
     "name": "stderr",
     "output_type": "stream",
     "text": [
      "\r",
      "Sampling 3 chains, 11 divergences:  22%|██▏       | 266/1200 [00:12<01:09, 13.53draws/s]"
     ]
    },
    {
     "name": "stderr",
     "output_type": "stream",
     "text": [
      "\r",
      "Sampling 3 chains, 12 divergences:  22%|██▏       | 267/1200 [00:12<01:08, 13.53draws/s]"
     ]
    },
    {
     "name": "stderr",
     "output_type": "stream",
     "text": [
      "\r",
      "Sampling 3 chains, 12 divergences:  22%|██▏       | 268/1200 [00:12<01:03, 14.59draws/s]"
     ]
    },
    {
     "name": "stderr",
     "output_type": "stream",
     "text": [
      "\r",
      "Sampling 3 chains, 12 divergences:  22%|██▎       | 270/1200 [00:12<01:12, 12.82draws/s]"
     ]
    },
    {
     "name": "stderr",
     "output_type": "stream",
     "text": [
      "\r",
      "Sampling 3 chains, 12 divergences:  23%|██▎       | 272/1200 [00:13<01:17, 11.97draws/s]"
     ]
    },
    {
     "name": "stderr",
     "output_type": "stream",
     "text": [
      "\r",
      "Sampling 3 chains, 12 divergences:  23%|██▎       | 274/1200 [00:13<01:23, 11.12draws/s]"
     ]
    },
    {
     "name": "stderr",
     "output_type": "stream",
     "text": [
      "\r",
      "Sampling 3 chains, 13 divergences:  23%|██▎       | 274/1200 [00:13<01:23, 11.12draws/s]"
     ]
    },
    {
     "name": "stderr",
     "output_type": "stream",
     "text": [
      "\r",
      "Sampling 3 chains, 13 divergences:  23%|██▎       | 276/1200 [00:13<01:18, 11.83draws/s]"
     ]
    },
    {
     "name": "stderr",
     "output_type": "stream",
     "text": [
      "\r",
      "Sampling 3 chains, 13 divergences:  23%|██▎       | 278/1200 [00:13<01:16, 12.11draws/s]"
     ]
    },
    {
     "name": "stderr",
     "output_type": "stream",
     "text": [
      "\r",
      "Sampling 3 chains, 14 divergences:  23%|██▎       | 278/1200 [00:13<01:16, 12.11draws/s]"
     ]
    },
    {
     "name": "stderr",
     "output_type": "stream",
     "text": [
      "\r",
      "Sampling 3 chains, 14 divergences:  23%|██▎       | 280/1200 [00:13<01:07, 13.68draws/s]"
     ]
    },
    {
     "name": "stderr",
     "output_type": "stream",
     "text": [
      "\r",
      "Sampling 3 chains, 14 divergences:  24%|██▎       | 282/1200 [00:13<01:14, 12.34draws/s]"
     ]
    },
    {
     "name": "stderr",
     "output_type": "stream",
     "text": [
      "\r",
      "Sampling 3 chains, 14 divergences:  24%|██▎       | 284/1200 [00:14<01:18, 11.68draws/s]"
     ]
    },
    {
     "name": "stderr",
     "output_type": "stream",
     "text": [
      "\r",
      "Sampling 3 chains, 14 divergences:  24%|██▍       | 286/1200 [00:14<01:11, 12.74draws/s]"
     ]
    },
    {
     "name": "stderr",
     "output_type": "stream",
     "text": [
      "\r",
      "Sampling 3 chains, 15 divergences:  24%|██▍       | 286/1200 [00:14<01:11, 12.74draws/s]"
     ]
    },
    {
     "name": "stderr",
     "output_type": "stream",
     "text": [
      "\r",
      "Sampling 3 chains, 15 divergences:  24%|██▍       | 288/1200 [00:14<01:05, 13.90draws/s]"
     ]
    },
    {
     "name": "stderr",
     "output_type": "stream",
     "text": [
      "\r",
      "Sampling 3 chains, 15 divergences:  24%|██▍       | 290/1200 [00:14<01:12, 12.48draws/s]"
     ]
    },
    {
     "name": "stderr",
     "output_type": "stream",
     "text": [
      "\r",
      "Sampling 3 chains, 16 divergences:  24%|██▍       | 290/1200 [00:14<01:12, 12.48draws/s]"
     ]
    },
    {
     "name": "stderr",
     "output_type": "stream",
     "text": [
      "\r",
      "Sampling 3 chains, 16 divergences:  24%|██▍       | 292/1200 [00:14<01:05, 13.87draws/s]"
     ]
    },
    {
     "name": "stderr",
     "output_type": "stream",
     "text": [
      "\r",
      "Sampling 3 chains, 17 divergences:  24%|██▍       | 292/1200 [00:14<01:05, 13.87draws/s]"
     ]
    },
    {
     "name": "stderr",
     "output_type": "stream",
     "text": [
      "\r",
      "Sampling 3 chains, 17 divergences:  24%|██▍       | 294/1200 [00:14<01:01, 14.70draws/s]"
     ]
    },
    {
     "name": "stderr",
     "output_type": "stream",
     "text": [
      "\r",
      "Sampling 3 chains, 17 divergences:  25%|██▍       | 296/1200 [00:14<01:10, 12.91draws/s]"
     ]
    },
    {
     "name": "stderr",
     "output_type": "stream",
     "text": [
      "\r",
      "Sampling 3 chains, 17 divergences:  25%|██▍       | 298/1200 [00:15<01:02, 14.42draws/s]"
     ]
    },
    {
     "name": "stderr",
     "output_type": "stream",
     "text": [
      "\r",
      "Sampling 3 chains, 18 divergences:  25%|██▍       | 298/1200 [00:15<01:02, 14.42draws/s]"
     ]
    },
    {
     "name": "stderr",
     "output_type": "stream",
     "text": [
      "\r",
      "Sampling 3 chains, 18 divergences:  25%|██▌       | 300/1200 [00:15<01:07, 13.32draws/s]"
     ]
    },
    {
     "name": "stderr",
     "output_type": "stream",
     "text": [
      "\r",
      "Sampling 3 chains, 18 divergences:  25%|██▌       | 302/1200 [00:15<01:13, 12.28draws/s]"
     ]
    },
    {
     "name": "stderr",
     "output_type": "stream",
     "text": [
      "\r",
      "Sampling 3 chains, 18 divergences:  25%|██▌       | 304/1200 [00:15<01:16, 11.67draws/s]"
     ]
    },
    {
     "name": "stderr",
     "output_type": "stream",
     "text": [
      "\r",
      "Sampling 3 chains, 18 divergences:  26%|██▌       | 306/1200 [00:15<01:17, 11.49draws/s]"
     ]
    },
    {
     "name": "stderr",
     "output_type": "stream",
     "text": [
      "\r",
      "Sampling 3 chains, 18 divergences:  26%|██▌       | 308/1200 [00:15<01:07, 13.16draws/s]"
     ]
    },
    {
     "name": "stderr",
     "output_type": "stream",
     "text": [
      "\r",
      "Sampling 3 chains, 18 divergences:  26%|██▌       | 310/1200 [00:16<01:01, 14.36draws/s]"
     ]
    },
    {
     "name": "stderr",
     "output_type": "stream",
     "text": [
      "\r",
      "Sampling 3 chains, 19 divergences:  26%|██▌       | 311/1200 [00:16<01:01, 14.36draws/s]"
     ]
    },
    {
     "name": "stderr",
     "output_type": "stream",
     "text": [
      "\r",
      "Sampling 3 chains, 19 divergences:  26%|██▌       | 312/1200 [00:16<01:02, 14.14draws/s]"
     ]
    },
    {
     "name": "stderr",
     "output_type": "stream",
     "text": [
      "\r",
      "Sampling 3 chains, 19 divergences:  26%|██▌       | 314/1200 [00:16<01:09, 12.75draws/s]"
     ]
    },
    {
     "name": "stderr",
     "output_type": "stream",
     "text": [
      "\r",
      "Sampling 3 chains, 20 divergences:  26%|██▌       | 314/1200 [00:16<01:09, 12.75draws/s]"
     ]
    },
    {
     "name": "stderr",
     "output_type": "stream",
     "text": [
      "\r",
      "Sampling 3 chains, 20 divergences:  26%|██▋       | 316/1200 [00:16<01:05, 13.53draws/s]"
     ]
    },
    {
     "name": "stderr",
     "output_type": "stream",
     "text": [
      "\r",
      "Sampling 3 chains, 20 divergences:  27%|██▋       | 319/1200 [00:16<01:02, 14.06draws/s]"
     ]
    },
    {
     "name": "stderr",
     "output_type": "stream",
     "text": [
      "\r",
      "Sampling 3 chains, 21 divergences:  27%|██▋       | 319/1200 [00:16<01:02, 14.06draws/s]"
     ]
    },
    {
     "name": "stderr",
     "output_type": "stream",
     "text": [
      "\r",
      "Sampling 3 chains, 21 divergences:  27%|██▋       | 321/1200 [00:16<01:09, 12.62draws/s]"
     ]
    },
    {
     "name": "stderr",
     "output_type": "stream",
     "text": [
      "\r",
      "Sampling 3 chains, 22 divergences:  27%|██▋       | 322/1200 [00:16<01:09, 12.62draws/s]"
     ]
    },
    {
     "name": "stderr",
     "output_type": "stream",
     "text": [
      "\r",
      "Sampling 3 chains, 23 divergences:  27%|██▋       | 323/1200 [00:16<01:09, 12.62draws/s]"
     ]
    },
    {
     "name": "stderr",
     "output_type": "stream",
     "text": [
      "\r",
      "Sampling 3 chains, 23 divergences:  27%|██▋       | 325/1200 [00:17<01:01, 14.27draws/s]"
     ]
    },
    {
     "name": "stderr",
     "output_type": "stream",
     "text": [
      "\r",
      "Sampling 3 chains, 24 divergences:  27%|██▋       | 325/1200 [00:17<01:01, 14.27draws/s]"
     ]
    },
    {
     "name": "stderr",
     "output_type": "stream",
     "text": [
      "\r",
      "Sampling 3 chains, 25 divergences:  27%|██▋       | 327/1200 [00:17<01:01, 14.27draws/s]"
     ]
    },
    {
     "name": "stderr",
     "output_type": "stream",
     "text": [
      "\r",
      "Sampling 3 chains, 25 divergences:  27%|██▋       | 329/1200 [00:17<00:58, 14.97draws/s]"
     ]
    },
    {
     "name": "stderr",
     "output_type": "stream",
     "text": [
      "\r",
      "Sampling 3 chains, 26 divergences:  28%|██▊       | 330/1200 [00:17<00:58, 14.97draws/s]"
     ]
    },
    {
     "name": "stderr",
     "output_type": "stream",
     "text": [
      "\r",
      "Sampling 3 chains, 26 divergences:  28%|██▊       | 331/1200 [00:17<00:54, 16.04draws/s]"
     ]
    },
    {
     "name": "stderr",
     "output_type": "stream",
     "text": [
      "\r",
      "Sampling 3 chains, 27 divergences:  28%|██▊       | 331/1200 [00:17<00:54, 16.04draws/s]"
     ]
    },
    {
     "name": "stderr",
     "output_type": "stream",
     "text": [
      "\r",
      "Sampling 3 chains, 28 divergences:  28%|██▊       | 332/1200 [00:17<00:54, 16.04draws/s]"
     ]
    },
    {
     "name": "stderr",
     "output_type": "stream",
     "text": [
      "\r",
      "Sampling 3 chains, 29 divergences:  28%|██▊       | 334/1200 [00:17<00:54, 16.04draws/s]"
     ]
    },
    {
     "name": "stderr",
     "output_type": "stream",
     "text": [
      "\r",
      "Sampling 3 chains, 29 divergences:  28%|██▊       | 335/1200 [00:17<00:44, 19.44draws/s]"
     ]
    },
    {
     "name": "stderr",
     "output_type": "stream",
     "text": [
      "\r",
      "Sampling 3 chains, 30 divergences:  28%|██▊       | 335/1200 [00:17<00:44, 19.44draws/s]"
     ]
    },
    {
     "name": "stderr",
     "output_type": "stream",
     "text": [
      "\r",
      "Sampling 3 chains, 31 divergences:  28%|██▊       | 336/1200 [00:17<00:44, 19.44draws/s]"
     ]
    },
    {
     "name": "stderr",
     "output_type": "stream",
     "text": [
      "\r",
      "Sampling 3 chains, 32 divergences:  28%|██▊       | 337/1200 [00:17<00:44, 19.44draws/s]"
     ]
    },
    {
     "name": "stderr",
     "output_type": "stream",
     "text": [
      "\r",
      "Sampling 3 chains, 32 divergences:  28%|██▊       | 338/1200 [00:17<00:41, 20.68draws/s]"
     ]
    },
    {
     "name": "stderr",
     "output_type": "stream",
     "text": [
      "\r",
      "Sampling 3 chains, 32 divergences:  28%|██▊       | 341/1200 [00:17<00:46, 18.66draws/s]"
     ]
    },
    {
     "name": "stderr",
     "output_type": "stream",
     "text": [
      "\r",
      "Sampling 3 chains, 32 divergences:  29%|██▊       | 344/1200 [00:18<00:49, 17.41draws/s]"
     ]
    },
    {
     "name": "stderr",
     "output_type": "stream",
     "text": [
      "\r",
      "Sampling 3 chains, 32 divergences:  29%|██▉       | 346/1200 [00:18<01:00, 14.15draws/s]"
     ]
    },
    {
     "name": "stderr",
     "output_type": "stream",
     "text": [
      "\r",
      "Sampling 3 chains, 33 divergences:  29%|██▉       | 348/1200 [00:18<01:00, 14.15draws/s]"
     ]
    },
    {
     "name": "stderr",
     "output_type": "stream",
     "text": [
      "\r",
      "Sampling 3 chains, 33 divergences:  29%|██▉       | 349/1200 [00:18<00:54, 15.62draws/s]"
     ]
    },
    {
     "name": "stderr",
     "output_type": "stream",
     "text": [
      "\r",
      "Sampling 3 chains, 34 divergences:  29%|██▉       | 350/1200 [00:18<00:54, 15.62draws/s]"
     ]
    },
    {
     "name": "stderr",
     "output_type": "stream",
     "text": [
      "\r",
      "Sampling 3 chains, 34 divergences:  29%|██▉       | 351/1200 [00:18<00:55, 15.32draws/s]"
     ]
    },
    {
     "name": "stderr",
     "output_type": "stream",
     "text": [
      "\r",
      "Sampling 3 chains, 35 divergences:  29%|██▉       | 351/1200 [00:18<00:55, 15.32draws/s]"
     ]
    },
    {
     "name": "stderr",
     "output_type": "stream",
     "text": [
      "\r",
      "Sampling 3 chains, 36 divergences:  29%|██▉       | 352/1200 [00:18<00:55, 15.32draws/s]"
     ]
    },
    {
     "name": "stderr",
     "output_type": "stream",
     "text": [
      "\r",
      "Sampling 3 chains, 36 divergences:  30%|██▉       | 354/1200 [00:18<00:52, 16.01draws/s]"
     ]
    },
    {
     "name": "stderr",
     "output_type": "stream",
     "text": [
      "\r",
      "Sampling 3 chains, 37 divergences:  30%|██▉       | 354/1200 [00:18<00:52, 16.01draws/s]"
     ]
    },
    {
     "name": "stderr",
     "output_type": "stream",
     "text": [
      "\r",
      "Sampling 3 chains, 37 divergences:  30%|██▉       | 356/1200 [00:18<01:01, 13.82draws/s]"
     ]
    },
    {
     "name": "stderr",
     "output_type": "stream",
     "text": [
      "\r",
      "Sampling 3 chains, 38 divergences:  30%|██▉       | 356/1200 [00:18<01:01, 13.82draws/s]"
     ]
    },
    {
     "name": "stderr",
     "output_type": "stream",
     "text": [
      "\r",
      "Sampling 3 chains, 39 divergences:  30%|██▉       | 357/1200 [00:18<01:01, 13.82draws/s]"
     ]
    },
    {
     "name": "stderr",
     "output_type": "stream",
     "text": [
      "\r",
      "Sampling 3 chains, 40 divergences:  30%|██▉       | 358/1200 [00:18<01:00, 13.82draws/s]"
     ]
    },
    {
     "name": "stderr",
     "output_type": "stream",
     "text": [
      "\r",
      "Sampling 3 chains, 40 divergences:  30%|██▉       | 359/1200 [00:18<00:51, 16.21draws/s]"
     ]
    },
    {
     "name": "stderr",
     "output_type": "stream",
     "text": [
      "\r",
      "Sampling 3 chains, 41 divergences:  30%|███       | 360/1200 [00:19<00:51, 16.21draws/s]"
     ]
    },
    {
     "name": "stderr",
     "output_type": "stream",
     "text": [
      "\r",
      "Sampling 3 chains, 42 divergences:  30%|███       | 361/1200 [00:19<00:51, 16.21draws/s]"
     ]
    },
    {
     "name": "stderr",
     "output_type": "stream",
     "text": [
      "\r",
      "Sampling 3 chains, 42 divergences:  30%|███       | 362/1200 [00:19<00:52, 16.08draws/s]"
     ]
    },
    {
     "name": "stderr",
     "output_type": "stream",
     "text": [
      "\r",
      "Sampling 3 chains, 43 divergences:  30%|███       | 362/1200 [00:19<00:52, 16.08draws/s]"
     ]
    },
    {
     "name": "stderr",
     "output_type": "stream",
     "text": [
      "\r",
      "Sampling 3 chains, 44 divergences:  30%|███       | 364/1200 [00:19<00:51, 16.08draws/s]"
     ]
    },
    {
     "name": "stderr",
     "output_type": "stream",
     "text": [
      "\r",
      "Sampling 3 chains, 45 divergences:  30%|███       | 365/1200 [00:19<00:51, 16.08draws/s]"
     ]
    },
    {
     "name": "stderr",
     "output_type": "stream",
     "text": [
      "\r",
      "Sampling 3 chains, 46 divergences:  30%|███       | 366/1200 [00:19<00:51, 16.08draws/s]"
     ]
    },
    {
     "name": "stderr",
     "output_type": "stream",
     "text": [
      "\r",
      "Sampling 3 chains, 46 divergences:  31%|███       | 367/1200 [00:19<00:42, 19.44draws/s]"
     ]
    },
    {
     "name": "stderr",
     "output_type": "stream",
     "text": [
      "\r",
      "Sampling 3 chains, 47 divergences:  31%|███       | 369/1200 [00:19<00:42, 19.44draws/s]"
     ]
    },
    {
     "name": "stderr",
     "output_type": "stream",
     "text": [
      "\r",
      "Sampling 3 chains, 47 divergences:  31%|███       | 370/1200 [00:19<00:44, 18.65draws/s]"
     ]
    },
    {
     "name": "stderr",
     "output_type": "stream",
     "text": [
      "\r",
      "Sampling 3 chains, 48 divergences:  31%|███       | 370/1200 [00:19<00:44, 18.65draws/s]"
     ]
    },
    {
     "name": "stderr",
     "output_type": "stream",
     "text": [
      "\r",
      "Sampling 3 chains, 49 divergences:  31%|███       | 371/1200 [00:19<00:44, 18.65draws/s]"
     ]
    },
    {
     "name": "stderr",
     "output_type": "stream",
     "text": [
      "\r",
      "Sampling 3 chains, 50 divergences:  31%|███       | 372/1200 [00:19<00:44, 18.65draws/s]"
     ]
    },
    {
     "name": "stderr",
     "output_type": "stream",
     "text": [
      "\r",
      "Sampling 3 chains, 50 divergences:  31%|███       | 373/1200 [00:19<00:40, 20.24draws/s]"
     ]
    },
    {
     "name": "stderr",
     "output_type": "stream",
     "text": [
      "\r",
      "Sampling 3 chains, 51 divergences:  31%|███▏      | 375/1200 [00:19<00:40, 20.24draws/s]"
     ]
    },
    {
     "name": "stderr",
     "output_type": "stream",
     "text": [
      "\r",
      "Sampling 3 chains, 51 divergences:  31%|███▏      | 376/1200 [00:19<00:46, 17.85draws/s]"
     ]
    },
    {
     "name": "stderr",
     "output_type": "stream",
     "text": [
      "\r",
      "Sampling 3 chains, 51 divergences:  32%|███▏      | 379/1200 [00:20<00:48, 16.94draws/s]"
     ]
    },
    {
     "name": "stderr",
     "output_type": "stream",
     "text": [
      "\r",
      "Sampling 3 chains, 52 divergences:  32%|███▏      | 379/1200 [00:20<00:48, 16.94draws/s]"
     ]
    },
    {
     "name": "stderr",
     "output_type": "stream",
     "text": [
      "\r",
      "Sampling 3 chains, 53 divergences:  32%|███▏      | 380/1200 [00:20<00:48, 16.94draws/s]"
     ]
    },
    {
     "name": "stderr",
     "output_type": "stream",
     "text": [
      "\r",
      "Sampling 3 chains, 53 divergences:  32%|███▏      | 381/1200 [00:20<00:57, 14.32draws/s]"
     ]
    },
    {
     "name": "stderr",
     "output_type": "stream",
     "text": [
      "\r",
      "Sampling 3 chains, 54 divergences:  32%|███▏      | 382/1200 [00:20<00:57, 14.32draws/s]"
     ]
    },
    {
     "name": "stderr",
     "output_type": "stream",
     "text": [
      "\r",
      "Sampling 3 chains, 54 divergences:  32%|███▏      | 383/1200 [00:20<00:58, 13.91draws/s]"
     ]
    },
    {
     "name": "stderr",
     "output_type": "stream",
     "text": [
      "\r",
      "Sampling 3 chains, 55 divergences:  32%|███▏      | 383/1200 [00:20<00:58, 13.91draws/s]"
     ]
    },
    {
     "name": "stderr",
     "output_type": "stream",
     "text": [
      "\r",
      "Sampling 3 chains, 56 divergences:  32%|███▏      | 385/1200 [00:20<00:58, 13.91draws/s]"
     ]
    },
    {
     "name": "stderr",
     "output_type": "stream",
     "text": [
      "\r",
      "Sampling 3 chains, 57 divergences:  32%|███▏      | 386/1200 [00:20<00:58, 13.91draws/s]"
     ]
    },
    {
     "name": "stderr",
     "output_type": "stream",
     "text": [
      "\r",
      "Sampling 3 chains, 57 divergences:  32%|███▏      | 387/1200 [00:20<00:51, 15.88draws/s]"
     ]
    },
    {
     "name": "stderr",
     "output_type": "stream",
     "text": [
      "\r",
      "Sampling 3 chains, 58 divergences:  32%|███▏      | 387/1200 [00:20<00:51, 15.88draws/s]"
     ]
    },
    {
     "name": "stderr",
     "output_type": "stream",
     "text": [
      "\r",
      "Sampling 3 chains, 58 divergences:  32%|███▏      | 389/1200 [00:20<00:48, 16.64draws/s]"
     ]
    },
    {
     "name": "stderr",
     "output_type": "stream",
     "text": [
      "\r",
      "Sampling 3 chains, 59 divergences:  32%|███▏      | 389/1200 [00:20<00:48, 16.64draws/s]"
     ]
    },
    {
     "name": "stderr",
     "output_type": "stream",
     "text": [
      "\r",
      "Sampling 3 chains, 60 divergences:  32%|███▎      | 390/1200 [00:20<00:48, 16.64draws/s]"
     ]
    },
    {
     "name": "stderr",
     "output_type": "stream",
     "text": [
      "\r",
      "Sampling 3 chains, 60 divergences:  33%|███▎      | 391/1200 [00:20<00:46, 17.47draws/s]"
     ]
    },
    {
     "name": "stderr",
     "output_type": "stream",
     "text": [
      "\r",
      "Sampling 3 chains, 61 divergences:  33%|███▎      | 392/1200 [00:20<00:46, 17.47draws/s]"
     ]
    },
    {
     "name": "stderr",
     "output_type": "stream",
     "text": [
      "\r",
      "Sampling 3 chains, 61 divergences:  33%|███▎      | 393/1200 [00:20<00:57, 14.13draws/s]"
     ]
    },
    {
     "name": "stderr",
     "output_type": "stream",
     "text": [
      "\r",
      "Sampling 3 chains, 61 divergences:  33%|███▎      | 396/1200 [00:21<01:01, 13.08draws/s]"
     ]
    },
    {
     "name": "stderr",
     "output_type": "stream",
     "text": [
      "\r",
      "Sampling 3 chains, 62 divergences:  33%|███▎      | 397/1200 [00:21<01:01, 13.08draws/s]"
     ]
    },
    {
     "name": "stderr",
     "output_type": "stream",
     "text": [
      "\r",
      "Sampling 3 chains, 62 divergences:  33%|███▎      | 398/1200 [00:21<00:58, 13.81draws/s]"
     ]
    },
    {
     "name": "stderr",
     "output_type": "stream",
     "text": [
      "\r",
      "Sampling 3 chains, 62 divergences:  33%|███▎      | 400/1200 [00:21<01:04, 12.48draws/s]"
     ]
    },
    {
     "name": "stderr",
     "output_type": "stream",
     "text": [
      "\r",
      "Sampling 3 chains, 63 divergences:  33%|███▎      | 400/1200 [00:21<01:04, 12.48draws/s]"
     ]
    },
    {
     "name": "stderr",
     "output_type": "stream",
     "text": [
      "\r",
      "Sampling 3 chains, 63 divergences:  34%|███▎      | 403/1200 [00:21<00:55, 14.49draws/s]"
     ]
    },
    {
     "name": "stderr",
     "output_type": "stream",
     "text": [
      "\r",
      "Sampling 3 chains, 63 divergences:  34%|███▍      | 405/1200 [00:21<00:54, 14.52draws/s]"
     ]
    },
    {
     "name": "stderr",
     "output_type": "stream",
     "text": [
      "\r",
      "Sampling 3 chains, 63 divergences:  34%|███▍      | 407/1200 [00:21<00:57, 13.82draws/s]"
     ]
    },
    {
     "name": "stderr",
     "output_type": "stream",
     "text": [
      "\r",
      "Sampling 3 chains, 64 divergences:  34%|███▍      | 408/1200 [00:22<00:57, 13.82draws/s]"
     ]
    },
    {
     "name": "stderr",
     "output_type": "stream",
     "text": [
      "\r",
      "Sampling 3 chains, 64 divergences:  34%|███▍      | 409/1200 [00:22<01:02, 12.67draws/s]"
     ]
    },
    {
     "name": "stderr",
     "output_type": "stream",
     "text": [
      "\r",
      "Sampling 3 chains, 64 divergences:  34%|███▍      | 412/1200 [00:22<00:58, 13.36draws/s]"
     ]
    },
    {
     "name": "stderr",
     "output_type": "stream",
     "text": [
      "\r",
      "Sampling 3 chains, 64 divergences:  34%|███▍      | 414/1200 [00:22<00:53, 14.80draws/s]"
     ]
    },
    {
     "name": "stderr",
     "output_type": "stream",
     "text": [
      "\r",
      "Sampling 3 chains, 65 divergences:  35%|███▍      | 415/1200 [00:22<00:53, 14.80draws/s]"
     ]
    },
    {
     "name": "stderr",
     "output_type": "stream",
     "text": [
      "\r",
      "Sampling 3 chains, 65 divergences:  35%|███▍      | 416/1200 [00:22<00:50, 15.55draws/s]"
     ]
    },
    {
     "name": "stderr",
     "output_type": "stream",
     "text": [
      "\r",
      "Sampling 3 chains, 65 divergences:  35%|███▍      | 419/1200 [00:22<00:50, 15.44draws/s]"
     ]
    },
    {
     "name": "stderr",
     "output_type": "stream",
     "text": [
      "\r",
      "Sampling 3 chains, 65 divergences:  35%|███▌      | 421/1200 [00:22<00:58, 13.40draws/s]"
     ]
    },
    {
     "name": "stderr",
     "output_type": "stream",
     "text": [
      "\r",
      "Sampling 3 chains, 65 divergences:  35%|███▌      | 423/1200 [00:23<00:52, 14.84draws/s]"
     ]
    },
    {
     "name": "stderr",
     "output_type": "stream",
     "text": [
      "\r",
      "Sampling 3 chains, 65 divergences:  35%|███▌      | 425/1200 [00:23<00:49, 15.58draws/s]"
     ]
    },
    {
     "name": "stderr",
     "output_type": "stream",
     "text": [
      "\r",
      "Sampling 3 chains, 66 divergences:  36%|███▌      | 426/1200 [00:23<00:49, 15.58draws/s]"
     ]
    },
    {
     "name": "stderr",
     "output_type": "stream",
     "text": [
      "\r",
      "Sampling 3 chains, 66 divergences:  36%|███▌      | 427/1200 [00:23<00:54, 14.14draws/s]"
     ]
    },
    {
     "name": "stderr",
     "output_type": "stream",
     "text": [
      "\r",
      "Sampling 3 chains, 66 divergences:  36%|███▌      | 429/1200 [00:23<00:50, 15.31draws/s]"
     ]
    },
    {
     "name": "stderr",
     "output_type": "stream",
     "text": [
      "\r",
      "Sampling 3 chains, 66 divergences:  36%|███▌      | 432/1200 [00:23<00:49, 15.38draws/s]"
     ]
    },
    {
     "name": "stderr",
     "output_type": "stream",
     "text": [
      "\r",
      "Sampling 3 chains, 67 divergences:  36%|███▌      | 432/1200 [00:23<00:49, 15.38draws/s]"
     ]
    },
    {
     "name": "stderr",
     "output_type": "stream",
     "text": [
      "\r",
      "Sampling 3 chains, 68 divergences:  36%|███▌      | 433/1200 [00:23<00:49, 15.38draws/s]"
     ]
    },
    {
     "name": "stderr",
     "output_type": "stream",
     "text": [
      "\r",
      "Sampling 3 chains, 68 divergences:  36%|███▋      | 435/1200 [00:23<00:43, 17.64draws/s]"
     ]
    },
    {
     "name": "stderr",
     "output_type": "stream",
     "text": [
      "\r",
      "Sampling 3 chains, 69 divergences:  36%|███▋      | 436/1200 [00:23<00:43, 17.64draws/s]"
     ]
    },
    {
     "name": "stderr",
     "output_type": "stream",
     "text": [
      "\r",
      "Sampling 3 chains, 69 divergences:  36%|███▋      | 437/1200 [00:23<00:51, 14.85draws/s]"
     ]
    },
    {
     "name": "stderr",
     "output_type": "stream",
     "text": [
      "\r",
      "Sampling 3 chains, 69 divergences:  37%|███▋      | 440/1200 [00:24<00:51, 14.73draws/s]"
     ]
    },
    {
     "name": "stderr",
     "output_type": "stream",
     "text": [
      "\r",
      "Sampling 3 chains, 69 divergences:  37%|███▋      | 442/1200 [00:24<01:08, 11.14draws/s]"
     ]
    },
    {
     "name": "stderr",
     "output_type": "stream",
     "text": [
      "\r",
      "Sampling 3 chains, 69 divergences:  37%|███▋      | 444/1200 [00:24<01:10, 10.79draws/s]"
     ]
    },
    {
     "name": "stderr",
     "output_type": "stream",
     "text": [
      "\r",
      "Sampling 3 chains, 69 divergences:  37%|███▋      | 446/1200 [00:24<01:01, 12.33draws/s]"
     ]
    },
    {
     "name": "stderr",
     "output_type": "stream",
     "text": [
      "\r",
      "Sampling 3 chains, 69 divergences:  37%|███▋      | 448/1200 [00:24<01:03, 11.84draws/s]"
     ]
    },
    {
     "name": "stderr",
     "output_type": "stream",
     "text": [
      "\r",
      "Sampling 3 chains, 69 divergences:  38%|███▊      | 451/1200 [00:25<00:59, 12.54draws/s]"
     ]
    },
    {
     "name": "stderr",
     "output_type": "stream",
     "text": [
      "\r",
      "Sampling 3 chains, 70 divergences:  38%|███▊      | 452/1200 [00:25<00:59, 12.54draws/s]"
     ]
    },
    {
     "name": "stderr",
     "output_type": "stream",
     "text": [
      "\r",
      "Sampling 3 chains, 70 divergences:  38%|███▊      | 453/1200 [00:25<00:54, 13.78draws/s]"
     ]
    },
    {
     "name": "stderr",
     "output_type": "stream",
     "text": [
      "\r",
      "Sampling 3 chains, 71 divergences:  38%|███▊      | 453/1200 [00:25<00:54, 13.78draws/s]"
     ]
    },
    {
     "name": "stderr",
     "output_type": "stream",
     "text": [
      "\r",
      "Sampling 3 chains, 71 divergences:  38%|███▊      | 456/1200 [00:25<00:58, 12.67draws/s]"
     ]
    },
    {
     "name": "stderr",
     "output_type": "stream",
     "text": [
      "\r",
      "Sampling 3 chains, 72 divergences:  38%|███▊      | 456/1200 [00:25<00:58, 12.67draws/s]"
     ]
    },
    {
     "name": "stderr",
     "output_type": "stream",
     "text": [
      "\r",
      "Sampling 3 chains, 72 divergences:  38%|███▊      | 458/1200 [00:25<01:03, 11.64draws/s]"
     ]
    },
    {
     "name": "stderr",
     "output_type": "stream",
     "text": [
      "\r",
      "Sampling 3 chains, 73 divergences:  38%|███▊      | 458/1200 [00:25<01:03, 11.64draws/s]"
     ]
    },
    {
     "name": "stderr",
     "output_type": "stream",
     "text": [
      "\r",
      "Sampling 3 chains, 73 divergences:  38%|███▊      | 460/1200 [00:25<00:59, 12.51draws/s]"
     ]
    },
    {
     "name": "stderr",
     "output_type": "stream",
     "text": [
      "\r",
      "Sampling 3 chains, 74 divergences:  38%|███▊      | 461/1200 [00:25<00:59, 12.51draws/s]"
     ]
    },
    {
     "name": "stderr",
     "output_type": "stream",
     "text": [
      "\r",
      "Sampling 3 chains, 74 divergences:  39%|███▊      | 463/1200 [00:26<00:53, 13.81draws/s]"
     ]
    },
    {
     "name": "stderr",
     "output_type": "stream",
     "text": [
      "\r",
      "Sampling 3 chains, 75 divergences:  39%|███▊      | 463/1200 [00:26<00:53, 13.81draws/s]"
     ]
    },
    {
     "name": "stderr",
     "output_type": "stream",
     "text": [
      "\r",
      "Sampling 3 chains, 76 divergences:  39%|███▉      | 465/1200 [00:26<00:53, 13.81draws/s]"
     ]
    },
    {
     "name": "stderr",
     "output_type": "stream",
     "text": [
      "\r",
      "Sampling 3 chains, 77 divergences:  39%|███▉      | 466/1200 [00:26<00:53, 13.81draws/s]"
     ]
    },
    {
     "name": "stderr",
     "output_type": "stream",
     "text": [
      "\r",
      "Sampling 3 chains, 77 divergences:  39%|███▉      | 467/1200 [00:26<00:44, 16.57draws/s]"
     ]
    },
    {
     "name": "stderr",
     "output_type": "stream",
     "text": [
      "\r",
      "Sampling 3 chains, 77 divergences:  39%|███▉      | 469/1200 [00:26<00:48, 15.18draws/s]"
     ]
    },
    {
     "name": "stderr",
     "output_type": "stream",
     "text": [
      "\r",
      "Sampling 3 chains, 78 divergences:  39%|███▉      | 469/1200 [00:26<00:48, 15.18draws/s]"
     ]
    },
    {
     "name": "stderr",
     "output_type": "stream",
     "text": [
      "\r",
      "Sampling 3 chains, 78 divergences:  39%|███▉      | 471/1200 [00:26<00:54, 13.36draws/s]"
     ]
    },
    {
     "name": "stderr",
     "output_type": "stream",
     "text": [
      "\r",
      "Sampling 3 chains, 79 divergences:  39%|███▉      | 471/1200 [00:26<00:54, 13.36draws/s]"
     ]
    },
    {
     "name": "stderr",
     "output_type": "stream",
     "text": [
      "\r",
      "Sampling 3 chains, 79 divergences:  39%|███▉      | 473/1200 [00:26<01:00, 12.07draws/s]"
     ]
    },
    {
     "name": "stderr",
     "output_type": "stream",
     "text": [
      "\r",
      "Sampling 3 chains, 80 divergences:  39%|███▉      | 473/1200 [00:26<01:00, 12.07draws/s]"
     ]
    },
    {
     "name": "stderr",
     "output_type": "stream",
     "text": [
      "\r",
      "Sampling 3 chains, 81 divergences:  40%|███▉      | 474/1200 [00:26<01:00, 12.07draws/s]"
     ]
    },
    {
     "name": "stderr",
     "output_type": "stream",
     "text": [
      "\r",
      "Sampling 3 chains, 81 divergences:  40%|███▉      | 475/1200 [00:26<00:55, 12.96draws/s]"
     ]
    },
    {
     "name": "stderr",
     "output_type": "stream",
     "text": [
      "\r",
      "Sampling 3 chains, 82 divergences:  40%|███▉      | 475/1200 [00:26<00:55, 12.96draws/s]"
     ]
    },
    {
     "name": "stderr",
     "output_type": "stream",
     "text": [
      "\r",
      "Sampling 3 chains, 82 divergences:  40%|███▉      | 478/1200 [00:26<00:49, 14.53draws/s]"
     ]
    },
    {
     "name": "stderr",
     "output_type": "stream",
     "text": [
      "\r",
      "Sampling 3 chains, 82 divergences:  40%|████      | 480/1200 [00:27<00:49, 14.63draws/s]"
     ]
    },
    {
     "name": "stderr",
     "output_type": "stream",
     "text": [
      "\r",
      "Sampling 3 chains, 82 divergences:  40%|████      | 482/1200 [00:27<00:51, 13.94draws/s]"
     ]
    },
    {
     "name": "stderr",
     "output_type": "stream",
     "text": [
      "\r",
      "Sampling 3 chains, 82 divergences:  40%|████      | 485/1200 [00:27<00:49, 14.41draws/s]"
     ]
    },
    {
     "name": "stderr",
     "output_type": "stream",
     "text": [
      "\r",
      "Sampling 3 chains, 82 divergences:  41%|████      | 487/1200 [00:27<00:55, 12.88draws/s]"
     ]
    },
    {
     "name": "stderr",
     "output_type": "stream",
     "text": [
      "\r",
      "Sampling 3 chains, 83 divergences:  41%|████      | 489/1200 [00:27<00:55, 12.88draws/s]"
     ]
    },
    {
     "name": "stderr",
     "output_type": "stream",
     "text": [
      "\r",
      "Sampling 3 chains, 83 divergences:  41%|████      | 490/1200 [00:27<00:52, 13.63draws/s]"
     ]
    },
    {
     "name": "stderr",
     "output_type": "stream",
     "text": [
      "\r",
      "Sampling 3 chains, 84 divergences:  41%|████      | 492/1200 [00:27<00:51, 13.63draws/s]"
     ]
    },
    {
     "name": "stderr",
     "output_type": "stream",
     "text": [
      "\r",
      "Sampling 3 chains, 84 divergences:  41%|████      | 493/1200 [00:27<00:46, 15.20draws/s]"
     ]
    },
    {
     "name": "stderr",
     "output_type": "stream",
     "text": [
      "\r",
      "Sampling 3 chains, 84 divergences:  41%|████▏     | 496/1200 [00:28<00:46, 15.14draws/s]"
     ]
    },
    {
     "name": "stderr",
     "output_type": "stream",
     "text": [
      "\r",
      "Sampling 3 chains, 84 divergences:  42%|████▏     | 498/1200 [00:28<00:43, 16.10draws/s]"
     ]
    },
    {
     "name": "stderr",
     "output_type": "stream",
     "text": [
      "\r",
      "Sampling 3 chains, 85 divergences:  42%|████▏     | 499/1200 [00:28<00:43, 16.10draws/s]"
     ]
    },
    {
     "name": "stderr",
     "output_type": "stream",
     "text": [
      "\r",
      "Sampling 3 chains, 85 divergences:  42%|████▏     | 500/1200 [00:28<00:58, 12.04draws/s]"
     ]
    },
    {
     "name": "stderr",
     "output_type": "stream",
     "text": [
      "\r",
      "Sampling 3 chains, 85 divergences:  42%|████▏     | 502/1200 [00:28<00:51, 13.48draws/s]"
     ]
    },
    {
     "name": "stderr",
     "output_type": "stream",
     "text": [
      "\r",
      "Sampling 3 chains, 86 divergences:  42%|████▏     | 502/1200 [00:28<00:51, 13.48draws/s]"
     ]
    },
    {
     "name": "stderr",
     "output_type": "stream",
     "text": [
      "\r",
      "Sampling 3 chains, 86 divergences:  42%|████▏     | 504/1200 [00:28<00:56, 12.40draws/s]"
     ]
    },
    {
     "name": "stderr",
     "output_type": "stream",
     "text": [
      "\r",
      "Sampling 3 chains, 87 divergences:  42%|████▏     | 504/1200 [00:28<00:56, 12.40draws/s]"
     ]
    },
    {
     "name": "stderr",
     "output_type": "stream",
     "text": [
      "\r",
      "Sampling 3 chains, 88 divergences:  42%|████▏     | 505/1200 [00:28<00:56, 12.40draws/s]"
     ]
    },
    {
     "name": "stderr",
     "output_type": "stream",
     "text": [
      "\r",
      "Sampling 3 chains, 88 divergences:  42%|████▏     | 506/1200 [00:28<00:50, 13.82draws/s]"
     ]
    },
    {
     "name": "stderr",
     "output_type": "stream",
     "text": [
      "\r",
      "Sampling 3 chains, 88 divergences:  42%|████▏     | 509/1200 [00:29<00:55, 12.55draws/s]"
     ]
    },
    {
     "name": "stderr",
     "output_type": "stream",
     "text": [
      "\r",
      "Sampling 3 chains, 88 divergences:  43%|████▎     | 511/1200 [00:29<01:09,  9.95draws/s]"
     ]
    },
    {
     "name": "stderr",
     "output_type": "stream",
     "text": [
      "\r",
      "Sampling 3 chains, 89 divergences:  43%|████▎     | 511/1200 [00:29<01:09,  9.95draws/s]"
     ]
    },
    {
     "name": "stderr",
     "output_type": "stream",
     "text": [
      "\r",
      "Sampling 3 chains, 90 divergences:  43%|████▎     | 513/1200 [00:29<01:09,  9.95draws/s]"
     ]
    },
    {
     "name": "stderr",
     "output_type": "stream",
     "text": [
      "\r",
      "Sampling 3 chains, 90 divergences:  43%|████▎     | 514/1200 [00:29<01:00, 11.32draws/s]"
     ]
    },
    {
     "name": "stderr",
     "output_type": "stream",
     "text": [
      "\r",
      "Sampling 3 chains, 91 divergences:  43%|████▎     | 514/1200 [00:29<01:00, 11.32draws/s]"
     ]
    },
    {
     "name": "stderr",
     "output_type": "stream",
     "text": [
      "\r",
      "Sampling 3 chains, 91 divergences:  43%|████▎     | 516/1200 [00:29<00:55, 12.30draws/s]"
     ]
    },
    {
     "name": "stderr",
     "output_type": "stream",
     "text": [
      "\r",
      "Sampling 3 chains, 92 divergences:  43%|████▎     | 517/1200 [00:29<00:55, 12.30draws/s]"
     ]
    },
    {
     "name": "stderr",
     "output_type": "stream",
     "text": [
      "\r",
      "Sampling 3 chains, 92 divergences:  43%|████▎     | 518/1200 [00:29<00:51, 13.32draws/s]"
     ]
    },
    {
     "name": "stderr",
     "output_type": "stream",
     "text": [
      "\r",
      "Sampling 3 chains, 93 divergences:  43%|████▎     | 518/1200 [00:30<00:51, 13.32draws/s]"
     ]
    },
    {
     "name": "stderr",
     "output_type": "stream",
     "text": [
      "\r",
      "Sampling 3 chains, 93 divergences:  43%|████▎     | 521/1200 [00:30<00:50, 13.46draws/s]"
     ]
    },
    {
     "name": "stderr",
     "output_type": "stream",
     "text": [
      "\r",
      "Sampling 3 chains, 93 divergences:  44%|████▎     | 523/1200 [00:30<00:45, 14.83draws/s]"
     ]
    },
    {
     "name": "stderr",
     "output_type": "stream",
     "text": [
      "\r",
      "Sampling 3 chains, 93 divergences:  44%|████▍     | 525/1200 [00:30<00:48, 14.05draws/s]"
     ]
    },
    {
     "name": "stderr",
     "output_type": "stream",
     "text": [
      "\r",
      "Sampling 3 chains, 93 divergences:  44%|████▍     | 527/1200 [00:30<00:53, 12.67draws/s]"
     ]
    },
    {
     "name": "stderr",
     "output_type": "stream",
     "text": [
      "\r",
      "Sampling 3 chains, 93 divergences:  44%|████▍     | 529/1200 [00:30<01:00, 11.04draws/s]"
     ]
    },
    {
     "name": "stderr",
     "output_type": "stream",
     "text": [
      "\r",
      "Sampling 3 chains, 93 divergences:  44%|████▍     | 531/1200 [00:31<01:02, 10.79draws/s]"
     ]
    },
    {
     "name": "stderr",
     "output_type": "stream",
     "text": [
      "\r",
      "Sampling 3 chains, 94 divergences:  44%|████▍     | 531/1200 [00:31<01:02, 10.79draws/s]"
     ]
    },
    {
     "name": "stderr",
     "output_type": "stream",
     "text": [
      "\r",
      "Sampling 3 chains, 94 divergences:  44%|████▍     | 533/1200 [00:31<00:59, 11.22draws/s]"
     ]
    },
    {
     "name": "stderr",
     "output_type": "stream",
     "text": [
      "\r",
      "Sampling 3 chains, 94 divergences:  45%|████▍     | 535/1200 [00:31<01:01, 10.80draws/s]"
     ]
    },
    {
     "name": "stderr",
     "output_type": "stream",
     "text": [
      "\r",
      "Sampling 3 chains, 95 divergences:  45%|████▍     | 535/1200 [00:31<01:01, 10.80draws/s]"
     ]
    },
    {
     "name": "stderr",
     "output_type": "stream",
     "text": [
      "\r",
      "Sampling 3 chains, 96 divergences:  45%|████▍     | 536/1200 [00:31<01:01, 10.80draws/s]"
     ]
    },
    {
     "name": "stderr",
     "output_type": "stream",
     "text": [
      "\r",
      "Sampling 3 chains, 96 divergences:  45%|████▍     | 537/1200 [00:31<00:56, 11.83draws/s]"
     ]
    },
    {
     "name": "stderr",
     "output_type": "stream",
     "text": [
      "\r",
      "Sampling 3 chains, 97 divergences:  45%|████▍     | 538/1200 [00:31<00:55, 11.83draws/s]"
     ]
    },
    {
     "name": "stderr",
     "output_type": "stream",
     "text": [
      "\r",
      "Sampling 3 chains, 97 divergences:  45%|████▍     | 539/1200 [00:31<00:53, 12.34draws/s]"
     ]
    },
    {
     "name": "stderr",
     "output_type": "stream",
     "text": [
      "\r",
      "Sampling 3 chains, 97 divergences:  45%|████▌     | 541/1200 [00:31<00:54, 12.18draws/s]"
     ]
    },
    {
     "name": "stderr",
     "output_type": "stream",
     "text": [
      "\r",
      "Sampling 3 chains, 97 divergences:  45%|████▌     | 543/1200 [00:32<01:09,  9.46draws/s]"
     ]
    },
    {
     "name": "stderr",
     "output_type": "stream",
     "text": [
      "\r",
      "Sampling 3 chains, 97 divergences:  45%|████▌     | 545/1200 [00:32<01:26,  7.56draws/s]"
     ]
    },
    {
     "name": "stderr",
     "output_type": "stream",
     "text": [
      "\r",
      "Sampling 3 chains, 97 divergences:  46%|████▌     | 547/1200 [00:32<01:28,  7.36draws/s]"
     ]
    },
    {
     "name": "stderr",
     "output_type": "stream",
     "text": [
      "\r",
      "Sampling 3 chains, 97 divergences:  46%|████▌     | 549/1200 [00:33<01:17,  8.39draws/s]"
     ]
    },
    {
     "name": "stderr",
     "output_type": "stream",
     "text": [
      "\r",
      "Sampling 3 chains, 98 divergences:  46%|████▌     | 550/1200 [00:33<01:17,  8.39draws/s]"
     ]
    },
    {
     "name": "stderr",
     "output_type": "stream",
     "text": [
      "\r",
      "Sampling 3 chains, 98 divergences:  46%|████▌     | 551/1200 [00:33<01:03, 10.15draws/s]"
     ]
    },
    {
     "name": "stderr",
     "output_type": "stream",
     "text": [
      "\r",
      "Sampling 3 chains, 99 divergences:  46%|████▌     | 551/1200 [00:33<01:03, 10.15draws/s]"
     ]
    },
    {
     "name": "stderr",
     "output_type": "stream",
     "text": [
      "\r",
      "Sampling 3 chains, 100 divergences:  46%|████▌     | 552/1200 [00:33<01:03, 10.15draws/s]"
     ]
    },
    {
     "name": "stderr",
     "output_type": "stream",
     "text": [
      "\r",
      "Sampling 3 chains, 100 divergences:  46%|████▌     | 554/1200 [00:33<00:53, 12.09draws/s]"
     ]
    },
    {
     "name": "stderr",
     "output_type": "stream",
     "text": [
      "\r",
      "Sampling 3 chains, 100 divergences:  46%|████▋     | 556/1200 [00:33<01:02, 10.29draws/s]"
     ]
    },
    {
     "name": "stderr",
     "output_type": "stream",
     "text": [
      "\r",
      "Sampling 3 chains, 100 divergences:  46%|████▋     | 558/1200 [00:33<01:02, 10.30draws/s]"
     ]
    },
    {
     "name": "stderr",
     "output_type": "stream",
     "text": [
      "\r",
      "Sampling 3 chains, 100 divergences:  47%|████▋     | 560/1200 [00:34<01:14,  8.56draws/s]"
     ]
    },
    {
     "name": "stderr",
     "output_type": "stream",
     "text": [
      "\r",
      "Sampling 3 chains, 101 divergences:  47%|████▋     | 560/1200 [00:34<01:14,  8.56draws/s]"
     ]
    },
    {
     "name": "stderr",
     "output_type": "stream",
     "text": [
      "\r",
      "Sampling 3 chains, 102 divergences:  47%|████▋     | 562/1200 [00:34<01:14,  8.56draws/s]"
     ]
    },
    {
     "name": "stderr",
     "output_type": "stream",
     "text": [
      "\r",
      "Sampling 3 chains, 102 divergences:  47%|████▋     | 563/1200 [00:34<01:06,  9.62draws/s]"
     ]
    },
    {
     "name": "stderr",
     "output_type": "stream",
     "text": [
      "\r",
      "Sampling 3 chains, 103 divergences:  47%|████▋     | 564/1200 [00:34<01:06,  9.62draws/s]"
     ]
    },
    {
     "name": "stderr",
     "output_type": "stream",
     "text": [
      "\r",
      "Sampling 3 chains, 103 divergences:  47%|████▋     | 565/1200 [00:34<00:58, 10.87draws/s]"
     ]
    },
    {
     "name": "stderr",
     "output_type": "stream",
     "text": [
      "\r",
      "Sampling 3 chains, 104 divergences:  47%|████▋     | 566/1200 [00:34<00:58, 10.87draws/s]"
     ]
    },
    {
     "name": "stderr",
     "output_type": "stream",
     "text": [
      "\r",
      "Sampling 3 chains, 104 divergences:  47%|████▋     | 567/1200 [00:34<00:51, 12.36draws/s]"
     ]
    },
    {
     "name": "stderr",
     "output_type": "stream",
     "text": [
      "\r",
      "Sampling 3 chains, 104 divergences:  47%|████▋     | 569/1200 [00:34<00:54, 11.56draws/s]"
     ]
    },
    {
     "name": "stderr",
     "output_type": "stream",
     "text": [
      "\r",
      "Sampling 3 chains, 104 divergences:  48%|████▊     | 571/1200 [00:34<01:03,  9.90draws/s]"
     ]
    },
    {
     "name": "stderr",
     "output_type": "stream",
     "text": [
      "\r",
      "Sampling 3 chains, 104 divergences:  48%|████▊     | 573/1200 [00:35<00:55, 11.28draws/s]"
     ]
    },
    {
     "name": "stderr",
     "output_type": "stream",
     "text": [
      "\r",
      "Sampling 3 chains, 104 divergences:  48%|████▊     | 575/1200 [00:35<00:57, 10.92draws/s]"
     ]
    },
    {
     "name": "stderr",
     "output_type": "stream",
     "text": [
      "\r",
      "Sampling 3 chains, 104 divergences:  48%|████▊     | 577/1200 [00:35<01:13,  8.46draws/s]"
     ]
    },
    {
     "name": "stderr",
     "output_type": "stream",
     "text": [
      "\r",
      "Sampling 3 chains, 104 divergences:  48%|████▊     | 579/1200 [00:35<01:17,  7.98draws/s]"
     ]
    },
    {
     "name": "stderr",
     "output_type": "stream",
     "text": [
      "\r",
      "Sampling 3 chains, 104 divergences:  48%|████▊     | 580/1200 [00:36<01:24,  7.37draws/s]"
     ]
    },
    {
     "name": "stderr",
     "output_type": "stream",
     "text": [
      "\r",
      "Sampling 3 chains, 105 divergences:  48%|████▊     | 581/1200 [00:36<01:23,  7.37draws/s]"
     ]
    },
    {
     "name": "stderr",
     "output_type": "stream",
     "text": [
      "\r",
      "Sampling 3 chains, 105 divergences:  49%|████▊     | 584/1200 [00:36<01:12,  8.55draws/s]"
     ]
    },
    {
     "name": "stderr",
     "output_type": "stream",
     "text": [
      "\r",
      "Sampling 3 chains, 105 divergences:  49%|████▉     | 586/1200 [00:36<01:08,  8.92draws/s]"
     ]
    },
    {
     "name": "stderr",
     "output_type": "stream",
     "text": [
      "\r",
      "Sampling 3 chains, 105 divergences:  49%|████▉     | 587/1200 [00:36<01:23,  7.33draws/s]"
     ]
    },
    {
     "name": "stderr",
     "output_type": "stream",
     "text": [
      "\r",
      "Sampling 3 chains, 105 divergences:  49%|████▉     | 589/1200 [00:37<01:16,  7.98draws/s]"
     ]
    },
    {
     "name": "stderr",
     "output_type": "stream",
     "text": [
      "\r",
      "Sampling 3 chains, 105 divergences:  49%|████▉     | 590/1200 [00:37<01:28,  6.90draws/s]"
     ]
    },
    {
     "name": "stderr",
     "output_type": "stream",
     "text": [
      "\r",
      "Sampling 3 chains, 105 divergences:  49%|████▉     | 592/1200 [00:37<01:19,  7.64draws/s]"
     ]
    },
    {
     "name": "stderr",
     "output_type": "stream",
     "text": [
      "\r",
      "Sampling 3 chains, 105 divergences:  49%|████▉     | 593/1200 [00:37<01:32,  6.56draws/s]"
     ]
    },
    {
     "name": "stderr",
     "output_type": "stream",
     "text": [
      "\r",
      "Sampling 3 chains, 105 divergences:  50%|████▉     | 594/1200 [00:37<01:40,  6.06draws/s]"
     ]
    },
    {
     "name": "stderr",
     "output_type": "stream",
     "text": [
      "\r",
      "Sampling 3 chains, 105 divergences:  50%|████▉     | 595/1200 [00:37<01:45,  5.75draws/s]"
     ]
    },
    {
     "name": "stderr",
     "output_type": "stream",
     "text": [
      "\r",
      "Sampling 3 chains, 105 divergences:  50%|████▉     | 597/1200 [00:38<01:31,  6.60draws/s]"
     ]
    },
    {
     "name": "stderr",
     "output_type": "stream",
     "text": [
      "\r",
      "Sampling 3 chains, 106 divergences:  50%|████▉     | 597/1200 [00:38<01:31,  6.60draws/s]"
     ]
    },
    {
     "name": "stderr",
     "output_type": "stream",
     "text": [
      "\r",
      "Sampling 3 chains, 106 divergences:  50%|████▉     | 598/1200 [00:38<01:32,  6.54draws/s]"
     ]
    },
    {
     "name": "stderr",
     "output_type": "stream",
     "text": [
      "\r",
      "Sampling 3 chains, 107 divergences:  50%|████▉     | 599/1200 [00:38<01:31,  6.54draws/s]"
     ]
    },
    {
     "name": "stderr",
     "output_type": "stream",
     "text": [
      "\r",
      "Sampling 3 chains, 107 divergences:  50%|█████     | 601/1200 [00:38<01:12,  8.21draws/s]"
     ]
    },
    {
     "name": "stderr",
     "output_type": "stream",
     "text": [
      "\r",
      "Sampling 3 chains, 108 divergences:  50%|█████     | 602/1200 [00:38<01:12,  8.21draws/s]"
     ]
    },
    {
     "name": "stderr",
     "output_type": "stream",
     "text": [
      "\r",
      "Sampling 3 chains, 108 divergences:  50%|█████     | 603/1200 [00:38<01:07,  8.79draws/s]"
     ]
    },
    {
     "name": "stderr",
     "output_type": "stream",
     "text": [
      "\r",
      "Sampling 3 chains, 109 divergences:  50%|█████     | 604/1200 [00:38<01:07,  8.79draws/s]"
     ]
    },
    {
     "name": "stderr",
     "output_type": "stream",
     "text": [
      "\r",
      "Sampling 3 chains, 109 divergences:  50%|█████     | 606/1200 [00:38<00:53, 11.14draws/s]"
     ]
    },
    {
     "name": "stderr",
     "output_type": "stream",
     "text": [
      "\r",
      "Sampling 3 chains, 109 divergences:  51%|█████     | 608/1200 [00:38<00:53, 10.97draws/s]"
     ]
    },
    {
     "name": "stderr",
     "output_type": "stream",
     "text": [
      "\r",
      "Sampling 3 chains, 109 divergences:  51%|█████     | 610/1200 [00:39<00:55, 10.73draws/s]"
     ]
    },
    {
     "name": "stderr",
     "output_type": "stream",
     "text": [
      "\r",
      "Sampling 3 chains, 110 divergences:  51%|█████     | 610/1200 [00:39<00:55, 10.73draws/s]"
     ]
    },
    {
     "name": "stderr",
     "output_type": "stream",
     "text": [
      "\r",
      "Sampling 3 chains, 110 divergences:  51%|█████     | 612/1200 [00:39<00:56, 10.34draws/s]"
     ]
    },
    {
     "name": "stderr",
     "output_type": "stream",
     "text": [
      "\r",
      "Sampling 3 chains, 111 divergences:  51%|█████     | 612/1200 [00:39<00:56, 10.34draws/s]"
     ]
    },
    {
     "name": "stderr",
     "output_type": "stream",
     "text": [
      "\r",
      "Sampling 3 chains, 112 divergences:  51%|█████     | 613/1200 [00:39<00:56, 10.34draws/s]"
     ]
    },
    {
     "name": "stderr",
     "output_type": "stream",
     "text": [
      "\r",
      "Sampling 3 chains, 112 divergences:  51%|█████     | 614/1200 [00:39<00:53, 10.91draws/s]"
     ]
    },
    {
     "name": "stderr",
     "output_type": "stream",
     "text": [
      "\r",
      "Sampling 3 chains, 113 divergences:  51%|█████     | 614/1200 [00:39<00:53, 10.91draws/s]"
     ]
    },
    {
     "name": "stderr",
     "output_type": "stream",
     "text": [
      "\r",
      "Sampling 3 chains, 114 divergences:  51%|█████▏    | 616/1200 [00:39<00:53, 10.91draws/s]"
     ]
    },
    {
     "name": "stderr",
     "output_type": "stream",
     "text": [
      "\r",
      "Sampling 3 chains, 115 divergences:  51%|█████▏    | 617/1200 [00:39<00:53, 10.91draws/s]"
     ]
    },
    {
     "name": "stderr",
     "output_type": "stream",
     "text": [
      "\r",
      "Sampling 3 chains, 116 divergences:  52%|█████▏    | 618/1200 [00:39<00:53, 10.91draws/s]"
     ]
    },
    {
     "name": "stderr",
     "output_type": "stream",
     "text": [
      "\r",
      "Sampling 3 chains, 116 divergences:  52%|█████▏    | 619/1200 [00:39<00:40, 14.24draws/s]"
     ]
    },
    {
     "name": "stderr",
     "output_type": "stream",
     "text": [
      "\r",
      "Sampling 3 chains, 117 divergences:  52%|█████▏    | 619/1200 [00:39<00:40, 14.24draws/s]"
     ]
    },
    {
     "name": "stderr",
     "output_type": "stream",
     "text": [
      "\r",
      "Sampling 3 chains, 118 divergences:  52%|█████▏    | 620/1200 [00:39<00:40, 14.24draws/s]"
     ]
    },
    {
     "name": "stderr",
     "output_type": "stream",
     "text": [
      "\r",
      "Sampling 3 chains, 119 divergences:  52%|█████▏    | 621/1200 [00:39<00:40, 14.24draws/s]"
     ]
    },
    {
     "name": "stderr",
     "output_type": "stream",
     "text": [
      "\r",
      "Sampling 3 chains, 119 divergences:  52%|█████▏    | 622/1200 [00:39<00:37, 15.29draws/s]"
     ]
    },
    {
     "name": "stderr",
     "output_type": "stream",
     "text": [
      "\r",
      "Sampling 3 chains, 120 divergences:  52%|█████▏    | 622/1200 [00:39<00:37, 15.29draws/s]"
     ]
    },
    {
     "name": "stderr",
     "output_type": "stream",
     "text": [
      "\r",
      "Sampling 3 chains, 121 divergences:  52%|█████▏    | 624/1200 [00:39<00:37, 15.29draws/s]"
     ]
    },
    {
     "name": "stderr",
     "output_type": "stream",
     "text": [
      "\r",
      "Sampling 3 chains, 121 divergences:  52%|█████▏    | 625/1200 [00:39<00:32, 17.82draws/s]"
     ]
    },
    {
     "name": "stderr",
     "output_type": "stream",
     "text": [
      "\r",
      "Sampling 3 chains, 122 divergences:  52%|█████▏    | 625/1200 [00:39<00:32, 17.82draws/s]"
     ]
    },
    {
     "name": "stderr",
     "output_type": "stream",
     "text": [
      "\r",
      "Sampling 3 chains, 123 divergences:  52%|█████▏    | 626/1200 [00:40<00:32, 17.82draws/s]"
     ]
    },
    {
     "name": "stderr",
     "output_type": "stream",
     "text": [
      "\r",
      "Sampling 3 chains, 124 divergences:  52%|█████▏    | 627/1200 [00:40<00:32, 17.82draws/s]"
     ]
    },
    {
     "name": "stderr",
     "output_type": "stream",
     "text": [
      "\r",
      "Sampling 3 chains, 124 divergences:  52%|█████▏    | 628/1200 [00:40<00:28, 19.77draws/s]"
     ]
    },
    {
     "name": "stderr",
     "output_type": "stream",
     "text": [
      "\r",
      "Sampling 3 chains, 125 divergences:  52%|█████▏    | 629/1200 [00:40<00:28, 19.77draws/s]"
     ]
    },
    {
     "name": "stderr",
     "output_type": "stream",
     "text": [
      "\r",
      "Sampling 3 chains, 126 divergences:  52%|█████▎    | 630/1200 [00:40<00:28, 19.77draws/s]"
     ]
    },
    {
     "name": "stderr",
     "output_type": "stream",
     "text": [
      "\r",
      "Sampling 3 chains, 126 divergences:  53%|█████▎    | 631/1200 [00:40<00:32, 17.31draws/s]"
     ]
    },
    {
     "name": "stderr",
     "output_type": "stream",
     "text": [
      "\r",
      "Sampling 3 chains, 127 divergences:  53%|█████▎    | 632/1200 [00:40<00:32, 17.31draws/s]"
     ]
    },
    {
     "name": "stderr",
     "output_type": "stream",
     "text": [
      "\r",
      "Sampling 3 chains, 128 divergences:  53%|█████▎    | 633/1200 [00:40<00:32, 17.31draws/s]"
     ]
    },
    {
     "name": "stderr",
     "output_type": "stream",
     "text": [
      "\r",
      "Sampling 3 chains, 128 divergences:  53%|█████▎    | 634/1200 [00:40<00:30, 18.75draws/s]"
     ]
    },
    {
     "name": "stderr",
     "output_type": "stream",
     "text": [
      "\r",
      "Sampling 3 chains, 129 divergences:  53%|█████▎    | 635/1200 [00:40<00:30, 18.75draws/s]"
     ]
    },
    {
     "name": "stderr",
     "output_type": "stream",
     "text": [
      "\r",
      "Sampling 3 chains, 129 divergences:  53%|█████▎    | 637/1200 [00:40<00:36, 15.55draws/s]"
     ]
    },
    {
     "name": "stderr",
     "output_type": "stream",
     "text": [
      "\r",
      "Sampling 3 chains, 130 divergences:  53%|█████▎    | 638/1200 [00:40<00:36, 15.55draws/s]"
     ]
    },
    {
     "name": "stderr",
     "output_type": "stream",
     "text": [
      "\r",
      "Sampling 3 chains, 130 divergences:  53%|█████▎    | 639/1200 [00:40<00:36, 15.16draws/s]"
     ]
    },
    {
     "name": "stderr",
     "output_type": "stream",
     "text": [
      "\r",
      "Sampling 3 chains, 131 divergences:  53%|█████▎    | 639/1200 [00:40<00:36, 15.16draws/s]"
     ]
    },
    {
     "name": "stderr",
     "output_type": "stream",
     "text": [
      "\r",
      "Sampling 3 chains, 131 divergences:  53%|█████▎    | 641/1200 [00:41<00:46, 11.97draws/s]"
     ]
    },
    {
     "name": "stderr",
     "output_type": "stream",
     "text": [
      "\r",
      "Sampling 3 chains, 132 divergences:  53%|█████▎    | 641/1200 [00:41<00:46, 11.97draws/s]"
     ]
    },
    {
     "name": "stderr",
     "output_type": "stream",
     "text": [
      "\r",
      "Sampling 3 chains, 132 divergences:  54%|█████▎    | 643/1200 [00:41<00:45, 12.26draws/s]"
     ]
    },
    {
     "name": "stderr",
     "output_type": "stream",
     "text": [
      "\r",
      "Sampling 3 chains, 133 divergences:  54%|█████▎    | 643/1200 [00:41<00:45, 12.26draws/s]"
     ]
    },
    {
     "name": "stderr",
     "output_type": "stream",
     "text": [
      "\r",
      "Sampling 3 chains, 134 divergences:  54%|█████▎    | 644/1200 [00:41<00:45, 12.26draws/s]"
     ]
    },
    {
     "name": "stderr",
     "output_type": "stream",
     "text": [
      "\r",
      "Sampling 3 chains, 134 divergences:  54%|█████▍    | 645/1200 [00:41<00:44, 12.54draws/s]"
     ]
    },
    {
     "name": "stderr",
     "output_type": "stream",
     "text": [
      "\r",
      "Sampling 3 chains, 135 divergences:  54%|█████▍    | 646/1200 [00:41<00:44, 12.54draws/s]"
     ]
    },
    {
     "name": "stderr",
     "output_type": "stream",
     "text": [
      "\r",
      "Sampling 3 chains, 135 divergences:  54%|█████▍    | 647/1200 [00:41<00:45, 12.12draws/s]"
     ]
    },
    {
     "name": "stderr",
     "output_type": "stream",
     "text": [
      "\r",
      "Sampling 3 chains, 136 divergences:  54%|█████▍    | 647/1200 [00:41<00:45, 12.12draws/s]"
     ]
    },
    {
     "name": "stderr",
     "output_type": "stream",
     "text": [
      "\r",
      "Sampling 3 chains, 137 divergences:  54%|█████▍    | 649/1200 [00:41<00:45, 12.12draws/s]"
     ]
    },
    {
     "name": "stderr",
     "output_type": "stream",
     "text": [
      "\r",
      "Sampling 3 chains, 137 divergences:  54%|█████▍    | 650/1200 [00:41<00:38, 14.41draws/s]"
     ]
    },
    {
     "name": "stderr",
     "output_type": "stream",
     "text": [
      "\r",
      "Sampling 3 chains, 138 divergences:  54%|█████▍    | 650/1200 [00:41<00:38, 14.41draws/s]"
     ]
    },
    {
     "name": "stderr",
     "output_type": "stream",
     "text": [
      "\r",
      "Sampling 3 chains, 139 divergences:  54%|█████▍    | 651/1200 [00:41<00:38, 14.41draws/s]"
     ]
    },
    {
     "name": "stderr",
     "output_type": "stream",
     "text": [
      "\r",
      "Sampling 3 chains, 139 divergences:  54%|█████▍    | 653/1200 [00:41<00:33, 16.43draws/s]"
     ]
    },
    {
     "name": "stderr",
     "output_type": "stream",
     "text": [
      "\r",
      "Sampling 3 chains, 139 divergences:  55%|█████▍    | 655/1200 [00:41<00:37, 14.40draws/s]"
     ]
    },
    {
     "name": "stderr",
     "output_type": "stream",
     "text": [
      "\r",
      "Sampling 3 chains, 139 divergences:  55%|█████▍    | 657/1200 [00:42<00:34, 15.68draws/s]"
     ]
    },
    {
     "name": "stderr",
     "output_type": "stream",
     "text": [
      "\r",
      "Sampling 3 chains, 139 divergences:  55%|█████▍    | 659/1200 [00:42<00:34, 15.90draws/s]"
     ]
    },
    {
     "name": "stderr",
     "output_type": "stream",
     "text": [
      "\r",
      "Sampling 3 chains, 140 divergences:  55%|█████▍    | 659/1200 [00:42<00:34, 15.90draws/s]"
     ]
    },
    {
     "name": "stderr",
     "output_type": "stream",
     "text": [
      "\r",
      "Sampling 3 chains, 140 divergences:  55%|█████▌    | 661/1200 [00:42<00:38, 13.85draws/s]"
     ]
    },
    {
     "name": "stderr",
     "output_type": "stream",
     "text": [
      "\r",
      "Sampling 3 chains, 140 divergences:  55%|█████▌    | 663/1200 [00:42<00:42, 12.65draws/s]"
     ]
    },
    {
     "name": "stderr",
     "output_type": "stream",
     "text": [
      "\r",
      "Sampling 3 chains, 141 divergences:  55%|█████▌    | 664/1200 [00:42<00:42, 12.65draws/s]"
     ]
    },
    {
     "name": "stderr",
     "output_type": "stream",
     "text": [
      "\r",
      "Sampling 3 chains, 141 divergences:  55%|█████▌    | 665/1200 [00:42<00:44, 12.07draws/s]"
     ]
    },
    {
     "name": "stderr",
     "output_type": "stream",
     "text": [
      "\r",
      "Sampling 3 chains, 142 divergences:  56%|█████▌    | 666/1200 [00:42<00:44, 12.07draws/s]"
     ]
    },
    {
     "name": "stderr",
     "output_type": "stream",
     "text": [
      "\r",
      "Sampling 3 chains, 143 divergences:  56%|█████▌    | 667/1200 [00:42<00:44, 12.07draws/s]"
     ]
    },
    {
     "name": "stderr",
     "output_type": "stream",
     "text": [
      "\r",
      "Sampling 3 chains, 143 divergences:  56%|█████▌    | 669/1200 [00:42<00:36, 14.45draws/s]"
     ]
    },
    {
     "name": "stderr",
     "output_type": "stream",
     "text": [
      "\r",
      "Sampling 3 chains, 144 divergences:  56%|█████▌    | 671/1200 [00:42<00:36, 14.45draws/s]"
     ]
    },
    {
     "name": "stderr",
     "output_type": "stream",
     "text": [
      "\r",
      "Sampling 3 chains, 144 divergences:  56%|█████▌    | 672/1200 [00:42<00:32, 16.18draws/s]"
     ]
    },
    {
     "name": "stderr",
     "output_type": "stream",
     "text": [
      "\r",
      "Sampling 3 chains, 144 divergences:  56%|█████▌    | 674/1200 [00:43<00:31, 16.76draws/s]"
     ]
    },
    {
     "name": "stderr",
     "output_type": "stream",
     "text": [
      "\r",
      "Sampling 3 chains, 145 divergences:  56%|█████▌    | 674/1200 [00:43<00:31, 16.76draws/s]"
     ]
    },
    {
     "name": "stderr",
     "output_type": "stream",
     "text": [
      "\r",
      "Sampling 3 chains, 145 divergences:  56%|█████▋    | 676/1200 [00:43<00:37, 14.04draws/s]"
     ]
    },
    {
     "name": "stderr",
     "output_type": "stream",
     "text": [
      "\r",
      "Sampling 3 chains, 146 divergences:  56%|█████▋    | 676/1200 [00:43<00:37, 14.04draws/s]"
     ]
    },
    {
     "name": "stderr",
     "output_type": "stream",
     "text": [
      "\r",
      "Sampling 3 chains, 146 divergences:  56%|█████▋    | 678/1200 [00:43<00:43, 12.07draws/s]"
     ]
    },
    {
     "name": "stderr",
     "output_type": "stream",
     "text": [
      "\r",
      "Sampling 3 chains, 146 divergences:  57%|█████▋    | 680/1200 [00:43<00:39, 13.27draws/s]"
     ]
    },
    {
     "name": "stderr",
     "output_type": "stream",
     "text": [
      "\r",
      "Sampling 3 chains, 146 divergences:  57%|█████▋    | 688/1200 [00:43<00:29, 17.15draws/s]"
     ]
    },
    {
     "name": "stderr",
     "output_type": "stream",
     "text": [
      "\r",
      "Sampling 3 chains, 146 divergences:  58%|█████▊    | 691/1200 [00:43<00:30, 16.46draws/s]"
     ]
    },
    {
     "name": "stderr",
     "output_type": "stream",
     "text": [
      "\r",
      "Sampling 3 chains, 146 divergences:  58%|█████▊    | 694/1200 [00:44<00:27, 18.60draws/s]"
     ]
    },
    {
     "name": "stderr",
     "output_type": "stream",
     "text": [
      "\r",
      "Sampling 3 chains, 146 divergences:  58%|█████▊    | 697/1200 [00:44<00:28, 17.60draws/s]"
     ]
    },
    {
     "name": "stderr",
     "output_type": "stream",
     "text": [
      "\r",
      "Sampling 3 chains, 146 divergences:  58%|█████▊    | 700/1200 [00:44<00:26, 18.54draws/s]"
     ]
    },
    {
     "name": "stderr",
     "output_type": "stream",
     "text": [
      "\r",
      "Sampling 3 chains, 146 divergences:  59%|█████▊    | 703/1200 [00:44<00:26, 19.07draws/s]"
     ]
    },
    {
     "name": "stderr",
     "output_type": "stream",
     "text": [
      "\r",
      "Sampling 3 chains, 146 divergences:  59%|█████▉    | 706/1200 [00:44<00:27, 17.70draws/s]"
     ]
    },
    {
     "name": "stderr",
     "output_type": "stream",
     "text": [
      "\r",
      "Sampling 3 chains, 146 divergences:  59%|█████▉    | 708/1200 [00:44<00:26, 18.25draws/s]"
     ]
    },
    {
     "name": "stderr",
     "output_type": "stream",
     "text": [
      "\r",
      "Sampling 3 chains, 146 divergences:  59%|█████▉    | 710/1200 [00:45<00:31, 15.33draws/s]"
     ]
    },
    {
     "name": "stderr",
     "output_type": "stream",
     "text": [
      "\r",
      "Sampling 3 chains, 146 divergences:  59%|█████▉    | 712/1200 [00:45<00:31, 15.52draws/s]"
     ]
    },
    {
     "name": "stderr",
     "output_type": "stream",
     "text": [
      "\r",
      "Sampling 3 chains, 147 divergences:  59%|█████▉    | 712/1200 [00:45<00:31, 15.52draws/s]"
     ]
    },
    {
     "name": "stderr",
     "output_type": "stream",
     "text": [
      "\r",
      "Sampling 3 chains, 147 divergences:  60%|█████▉    | 716/1200 [00:45<00:28, 17.17draws/s]"
     ]
    },
    {
     "name": "stderr",
     "output_type": "stream",
     "text": [
      "\r",
      "Sampling 3 chains, 147 divergences:  60%|█████▉    | 718/1200 [00:45<00:28, 16.97draws/s]"
     ]
    },
    {
     "name": "stderr",
     "output_type": "stream",
     "text": [
      "\r",
      "Sampling 3 chains, 147 divergences:  60%|██████    | 720/1200 [00:45<00:27, 17.28draws/s]"
     ]
    },
    {
     "name": "stderr",
     "output_type": "stream",
     "text": [
      "\r",
      "Sampling 3 chains, 148 divergences:  60%|██████    | 721/1200 [00:45<00:27, 17.28draws/s]"
     ]
    },
    {
     "name": "stderr",
     "output_type": "stream",
     "text": [
      "\r",
      "Sampling 3 chains, 148 divergences:  60%|██████    | 723/1200 [00:45<00:26, 18.27draws/s]"
     ]
    },
    {
     "name": "stderr",
     "output_type": "stream",
     "text": [
      "\r",
      "Sampling 3 chains, 148 divergences:  60%|██████    | 725/1200 [00:45<00:28, 16.76draws/s]"
     ]
    },
    {
     "name": "stderr",
     "output_type": "stream",
     "text": [
      "\r",
      "Sampling 3 chains, 149 divergences:  60%|██████    | 726/1200 [00:45<00:28, 16.76draws/s]"
     ]
    },
    {
     "name": "stderr",
     "output_type": "stream",
     "text": [
      "\r",
      "Sampling 3 chains, 149 divergences:  61%|██████    | 728/1200 [00:45<00:25, 18.82draws/s]"
     ]
    },
    {
     "name": "stderr",
     "output_type": "stream",
     "text": [
      "\r",
      "Sampling 3 chains, 150 divergences:  61%|██████    | 728/1200 [00:46<00:25, 18.82draws/s]"
     ]
    },
    {
     "name": "stderr",
     "output_type": "stream",
     "text": [
      "\r",
      "Sampling 3 chains, 151 divergences:  61%|██████    | 730/1200 [00:46<00:24, 18.82draws/s]"
     ]
    },
    {
     "name": "stderr",
     "output_type": "stream",
     "text": [
      "\r",
      "Sampling 3 chains, 151 divergences:  61%|██████    | 731/1200 [00:46<00:25, 18.73draws/s]"
     ]
    },
    {
     "name": "stderr",
     "output_type": "stream",
     "text": [
      "\r",
      "Sampling 3 chains, 152 divergences:  61%|██████    | 732/1200 [00:46<00:24, 18.73draws/s]"
     ]
    },
    {
     "name": "stderr",
     "output_type": "stream",
     "text": [
      "\r",
      "Sampling 3 chains, 153 divergences:  61%|██████    | 733/1200 [00:46<00:24, 18.73draws/s]"
     ]
    },
    {
     "name": "stderr",
     "output_type": "stream",
     "text": [
      "\r",
      "Sampling 3 chains, 153 divergences:  61%|██████▏   | 735/1200 [00:46<00:22, 21.04draws/s]"
     ]
    },
    {
     "name": "stderr",
     "output_type": "stream",
     "text": [
      "\r",
      "Sampling 3 chains, 154 divergences:  61%|██████▏   | 735/1200 [00:46<00:22, 21.04draws/s]"
     ]
    },
    {
     "name": "stderr",
     "output_type": "stream",
     "text": [
      "\r",
      "Sampling 3 chains, 155 divergences:  61%|██████▏   | 737/1200 [00:46<00:22, 21.04draws/s]"
     ]
    },
    {
     "name": "stderr",
     "output_type": "stream",
     "text": [
      "\r",
      "Sampling 3 chains, 155 divergences:  62%|██████▏   | 738/1200 [00:46<00:22, 20.55draws/s]"
     ]
    },
    {
     "name": "stderr",
     "output_type": "stream",
     "text": [
      "\r",
      "Sampling 3 chains, 156 divergences:  62%|██████▏   | 739/1200 [00:46<00:22, 20.55draws/s]"
     ]
    },
    {
     "name": "stderr",
     "output_type": "stream",
     "text": [
      "\r",
      "Sampling 3 chains, 157 divergences:  62%|██████▏   | 740/1200 [00:46<00:22, 20.55draws/s]"
     ]
    },
    {
     "name": "stderr",
     "output_type": "stream",
     "text": [
      "\r",
      "Sampling 3 chains, 157 divergences:  62%|██████▏   | 741/1200 [00:46<00:22, 20.72draws/s]"
     ]
    },
    {
     "name": "stderr",
     "output_type": "stream",
     "text": [
      "\r",
      "Sampling 3 chains, 157 divergences:  62%|██████▏   | 744/1200 [00:46<00:24, 18.74draws/s]"
     ]
    },
    {
     "name": "stderr",
     "output_type": "stream",
     "text": [
      "\r",
      "Sampling 3 chains, 157 divergences:  62%|██████▏   | 746/1200 [00:46<00:27, 16.33draws/s]"
     ]
    },
    {
     "name": "stderr",
     "output_type": "stream",
     "text": [
      "\r",
      "Sampling 3 chains, 157 divergences:  62%|██████▏   | 749/1200 [00:47<00:28, 16.02draws/s]"
     ]
    },
    {
     "name": "stderr",
     "output_type": "stream",
     "text": [
      "\r",
      "Sampling 3 chains, 157 divergences:  63%|██████▎   | 751/1200 [00:47<00:27, 16.13draws/s]"
     ]
    },
    {
     "name": "stderr",
     "output_type": "stream",
     "text": [
      "\r",
      "Sampling 3 chains, 157 divergences:  63%|██████▎   | 753/1200 [00:47<00:26, 16.96draws/s]"
     ]
    },
    {
     "name": "stderr",
     "output_type": "stream",
     "text": [
      "\r",
      "Sampling 3 chains, 157 divergences:  63%|██████▎   | 755/1200 [00:47<00:25, 17.50draws/s]"
     ]
    },
    {
     "name": "stderr",
     "output_type": "stream",
     "text": [
      "\r",
      "Sampling 3 chains, 157 divergences:  63%|██████▎   | 757/1200 [00:47<00:24, 18.09draws/s]"
     ]
    },
    {
     "name": "stderr",
     "output_type": "stream",
     "text": [
      "\r",
      "Sampling 3 chains, 157 divergences:  63%|██████▎   | 759/1200 [00:47<00:23, 18.57draws/s]"
     ]
    },
    {
     "name": "stderr",
     "output_type": "stream",
     "text": [
      "\r",
      "Sampling 3 chains, 157 divergences:  63%|██████▎   | 761/1200 [00:47<00:29, 14.94draws/s]"
     ]
    },
    {
     "name": "stderr",
     "output_type": "stream",
     "text": [
      "\r",
      "Sampling 3 chains, 157 divergences:  64%|██████▎   | 764/1200 [00:48<00:28, 15.07draws/s]"
     ]
    },
    {
     "name": "stderr",
     "output_type": "stream",
     "text": [
      "\r",
      "Sampling 3 chains, 157 divergences:  64%|██████▍   | 766/1200 [00:48<00:26, 16.20draws/s]"
     ]
    },
    {
     "name": "stderr",
     "output_type": "stream",
     "text": [
      "\r",
      "Sampling 3 chains, 157 divergences:  64%|██████▍   | 768/1200 [00:48<00:31, 13.93draws/s]"
     ]
    },
    {
     "name": "stderr",
     "output_type": "stream",
     "text": [
      "\r",
      "Sampling 3 chains, 157 divergences:  64%|██████▍   | 770/1200 [00:48<00:28, 15.28draws/s]"
     ]
    },
    {
     "name": "stderr",
     "output_type": "stream",
     "text": [
      "\r",
      "Sampling 3 chains, 157 divergences:  64%|██████▍   | 773/1200 [00:48<00:27, 15.35draws/s]"
     ]
    },
    {
     "name": "stderr",
     "output_type": "stream",
     "text": [
      "\r",
      "Sampling 3 chains, 157 divergences:  65%|██████▍   | 775/1200 [00:48<00:28, 14.90draws/s]"
     ]
    },
    {
     "name": "stderr",
     "output_type": "stream",
     "text": [
      "\r",
      "Sampling 3 chains, 157 divergences:  65%|██████▍   | 777/1200 [00:48<00:26, 15.95draws/s]"
     ]
    },
    {
     "name": "stderr",
     "output_type": "stream",
     "text": [
      "\r",
      "Sampling 3 chains, 157 divergences:  65%|██████▌   | 780/1200 [00:49<00:25, 16.50draws/s]"
     ]
    },
    {
     "name": "stderr",
     "output_type": "stream",
     "text": [
      "\r",
      "Sampling 3 chains, 157 divergences:  65%|██████▌   | 783/1200 [00:49<00:25, 16.10draws/s]"
     ]
    },
    {
     "name": "stderr",
     "output_type": "stream",
     "text": [
      "\r",
      "Sampling 3 chains, 157 divergences:  66%|██████▌   | 786/1200 [00:49<00:26, 15.90draws/s]"
     ]
    },
    {
     "name": "stderr",
     "output_type": "stream",
     "text": [
      "\r",
      "Sampling 3 chains, 158 divergences:  66%|██████▌   | 788/1200 [00:49<00:25, 15.90draws/s]"
     ]
    },
    {
     "name": "stderr",
     "output_type": "stream",
     "text": [
      "\r",
      "Sampling 3 chains, 158 divergences:  66%|██████▌   | 789/1200 [00:49<00:22, 17.99draws/s]"
     ]
    },
    {
     "name": "stderr",
     "output_type": "stream",
     "text": [
      "\r",
      "Sampling 3 chains, 158 divergences:  66%|██████▌   | 791/1200 [00:49<00:22, 18.49draws/s]"
     ]
    },
    {
     "name": "stderr",
     "output_type": "stream",
     "text": [
      "\r",
      "Sampling 3 chains, 158 divergences:  66%|██████▌   | 794/1200 [00:49<00:23, 17.14draws/s]"
     ]
    },
    {
     "name": "stderr",
     "output_type": "stream",
     "text": [
      "\r",
      "Sampling 3 chains, 158 divergences:  66%|██████▋   | 797/1200 [00:50<00:22, 17.82draws/s]"
     ]
    },
    {
     "name": "stderr",
     "output_type": "stream",
     "text": [
      "\r",
      "Sampling 3 chains, 158 divergences:  67%|██████▋   | 799/1200 [00:50<00:27, 14.57draws/s]"
     ]
    },
    {
     "name": "stderr",
     "output_type": "stream",
     "text": [
      "\r",
      "Sampling 3 chains, 158 divergences:  67%|██████▋   | 802/1200 [00:50<00:24, 16.52draws/s]"
     ]
    },
    {
     "name": "stderr",
     "output_type": "stream",
     "text": [
      "\r",
      "Sampling 3 chains, 158 divergences:  67%|██████▋   | 805/1200 [00:50<00:23, 16.71draws/s]"
     ]
    },
    {
     "name": "stderr",
     "output_type": "stream",
     "text": [
      "\r",
      "Sampling 3 chains, 159 divergences:  67%|██████▋   | 807/1200 [00:50<00:23, 16.71draws/s]"
     ]
    },
    {
     "name": "stderr",
     "output_type": "stream",
     "text": [
      "\r",
      "Sampling 3 chains, 159 divergences:  67%|██████▋   | 809/1200 [00:50<00:21, 18.21draws/s]"
     ]
    },
    {
     "name": "stderr",
     "output_type": "stream",
     "text": [
      "\r",
      "Sampling 3 chains, 160 divergences:  67%|██████▋   | 809/1200 [00:50<00:21, 18.21draws/s]"
     ]
    },
    {
     "name": "stderr",
     "output_type": "stream",
     "text": [
      "\r",
      "Sampling 3 chains, 160 divergences:  68%|██████▊   | 812/1200 [00:50<00:22, 17.23draws/s]"
     ]
    },
    {
     "name": "stderr",
     "output_type": "stream",
     "text": [
      "\r",
      "Sampling 3 chains, 160 divergences:  68%|██████▊   | 815/1200 [00:51<00:21, 18.10draws/s]"
     ]
    },
    {
     "name": "stderr",
     "output_type": "stream",
     "text": [
      "\r",
      "Sampling 3 chains, 160 divergences:  68%|██████▊   | 817/1200 [00:51<00:26, 14.44draws/s]"
     ]
    },
    {
     "name": "stderr",
     "output_type": "stream",
     "text": [
      "\r",
      "Sampling 3 chains, 160 divergences:  68%|██████▊   | 819/1200 [00:51<00:25, 14.73draws/s]"
     ]
    },
    {
     "name": "stderr",
     "output_type": "stream",
     "text": [
      "\r",
      "Sampling 3 chains, 160 divergences:  68%|██████▊   | 821/1200 [00:51<00:27, 13.69draws/s]"
     ]
    },
    {
     "name": "stderr",
     "output_type": "stream",
     "text": [
      "\r",
      "Sampling 3 chains, 160 divergences:  69%|██████▊   | 823/1200 [00:51<00:30, 12.44draws/s]"
     ]
    },
    {
     "name": "stderr",
     "output_type": "stream",
     "text": [
      "\r",
      "Sampling 3 chains, 161 divergences:  69%|██████▊   | 823/1200 [00:51<00:30, 12.44draws/s]"
     ]
    },
    {
     "name": "stderr",
     "output_type": "stream",
     "text": [
      "\r",
      "Sampling 3 chains, 161 divergences:  69%|██████▉   | 826/1200 [00:51<00:26, 14.38draws/s]"
     ]
    },
    {
     "name": "stderr",
     "output_type": "stream",
     "text": [
      "\r",
      "Sampling 3 chains, 161 divergences:  69%|██████▉   | 828/1200 [00:51<00:24, 15.48draws/s]"
     ]
    },
    {
     "name": "stderr",
     "output_type": "stream",
     "text": [
      "\r",
      "Sampling 3 chains, 161 divergences:  69%|██████▉   | 830/1200 [00:52<00:27, 13.50draws/s]"
     ]
    },
    {
     "name": "stderr",
     "output_type": "stream",
     "text": [
      "\r",
      "Sampling 3 chains, 161 divergences:  69%|██████▉   | 832/1200 [00:52<00:24, 14.80draws/s]"
     ]
    },
    {
     "name": "stderr",
     "output_type": "stream",
     "text": [
      "\r",
      "Sampling 3 chains, 162 divergences:  69%|██████▉   | 832/1200 [00:52<00:24, 14.80draws/s]"
     ]
    },
    {
     "name": "stderr",
     "output_type": "stream",
     "text": [
      "\r",
      "Sampling 3 chains, 162 divergences:  70%|██████▉   | 835/1200 [00:52<00:24, 15.00draws/s]"
     ]
    },
    {
     "name": "stderr",
     "output_type": "stream",
     "text": [
      "\r",
      "Sampling 3 chains, 162 divergences:  70%|██████▉   | 838/1200 [00:52<00:23, 15.10draws/s]"
     ]
    },
    {
     "name": "stderr",
     "output_type": "stream",
     "text": [
      "\r",
      "Sampling 3 chains, 162 divergences:  70%|███████   | 841/1200 [00:52<00:23, 15.18draws/s]"
     ]
    },
    {
     "name": "stderr",
     "output_type": "stream",
     "text": [
      "\r",
      "Sampling 3 chains, 163 divergences:  70%|███████   | 843/1200 [00:53<00:23, 15.18draws/s]"
     ]
    },
    {
     "name": "stderr",
     "output_type": "stream",
     "text": [
      "\r",
      "Sampling 3 chains, 163 divergences:  70%|███████   | 844/1200 [00:53<00:22, 15.60draws/s]"
     ]
    },
    {
     "name": "stderr",
     "output_type": "stream",
     "text": [
      "\r",
      "Sampling 3 chains, 163 divergences:  70%|███████   | 846/1200 [00:53<00:36,  9.70draws/s]"
     ]
    },
    {
     "name": "stderr",
     "output_type": "stream",
     "text": [
      "\r",
      "Sampling 3 chains, 163 divergences:  71%|███████   | 849/1200 [00:53<00:32, 10.89draws/s]"
     ]
    },
    {
     "name": "stderr",
     "output_type": "stream",
     "text": [
      "\r",
      "Sampling 3 chains, 163 divergences:  71%|███████   | 852/1200 [00:53<00:29, 11.94draws/s]"
     ]
    },
    {
     "name": "stderr",
     "output_type": "stream",
     "text": [
      "\r",
      "Sampling 3 chains, 163 divergences:  71%|███████▏  | 855/1200 [00:54<00:26, 12.82draws/s]"
     ]
    },
    {
     "name": "stderr",
     "output_type": "stream",
     "text": [
      "\r",
      "Sampling 3 chains, 164 divergences:  71%|███████▏  | 856/1200 [00:54<00:26, 12.82draws/s]"
     ]
    },
    {
     "name": "stderr",
     "output_type": "stream",
     "text": [
      "\r",
      "Sampling 3 chains, 164 divergences:  71%|███████▏  | 857/1200 [00:54<00:25, 13.52draws/s]"
     ]
    },
    {
     "name": "stderr",
     "output_type": "stream",
     "text": [
      "\r",
      "Sampling 3 chains, 164 divergences:  72%|███████▏  | 859/1200 [00:54<00:25, 13.35draws/s]"
     ]
    },
    {
     "name": "stderr",
     "output_type": "stream",
     "text": [
      "\r",
      "Sampling 3 chains, 164 divergences:  72%|███████▏  | 861/1200 [00:54<00:24, 13.65draws/s]"
     ]
    },
    {
     "name": "stderr",
     "output_type": "stream",
     "text": [
      "\r",
      "Sampling 3 chains, 164 divergences:  72%|███████▏  | 863/1200 [00:54<00:22, 15.04draws/s]"
     ]
    },
    {
     "name": "stderr",
     "output_type": "stream",
     "text": [
      "\r",
      "Sampling 3 chains, 164 divergences:  72%|███████▏  | 865/1200 [00:54<00:23, 14.07draws/s]"
     ]
    },
    {
     "name": "stderr",
     "output_type": "stream",
     "text": [
      "\r",
      "Sampling 3 chains, 165 divergences:  72%|███████▏  | 866/1200 [00:54<00:23, 14.07draws/s]"
     ]
    },
    {
     "name": "stderr",
     "output_type": "stream",
     "text": [
      "\r",
      "Sampling 3 chains, 165 divergences:  72%|███████▏  | 867/1200 [00:54<00:22, 15.13draws/s]"
     ]
    },
    {
     "name": "stderr",
     "output_type": "stream",
     "text": [
      "\r",
      "Sampling 3 chains, 166 divergences:  72%|███████▏  | 867/1200 [00:54<00:22, 15.13draws/s]"
     ]
    },
    {
     "name": "stderr",
     "output_type": "stream",
     "text": [
      "\r",
      "Sampling 3 chains, 166 divergences:  72%|███████▏  | 869/1200 [00:54<00:20, 16.08draws/s]"
     ]
    },
    {
     "name": "stderr",
     "output_type": "stream",
     "text": [
      "\r",
      "Sampling 3 chains, 166 divergences:  73%|███████▎  | 872/1200 [00:55<00:20, 15.87draws/s]"
     ]
    },
    {
     "name": "stderr",
     "output_type": "stream",
     "text": [
      "\r",
      "Sampling 3 chains, 166 divergences:  73%|███████▎  | 874/1200 [00:55<00:24, 13.35draws/s]"
     ]
    },
    {
     "name": "stderr",
     "output_type": "stream",
     "text": [
      "\r",
      "Sampling 3 chains, 166 divergences:  73%|███████▎  | 877/1200 [00:55<00:23, 13.89draws/s]"
     ]
    },
    {
     "name": "stderr",
     "output_type": "stream",
     "text": [
      "\r",
      "Sampling 3 chains, 166 divergences:  73%|███████▎  | 879/1200 [00:55<00:25, 12.49draws/s]"
     ]
    },
    {
     "name": "stderr",
     "output_type": "stream",
     "text": [
      "\r",
      "Sampling 3 chains, 166 divergences:  73%|███████▎  | 881/1200 [00:55<00:22, 13.98draws/s]"
     ]
    },
    {
     "name": "stderr",
     "output_type": "stream",
     "text": [
      "\r",
      "Sampling 3 chains, 166 divergences:  74%|███████▎  | 883/1200 [00:55<00:24, 13.16draws/s]"
     ]
    },
    {
     "name": "stderr",
     "output_type": "stream",
     "text": [
      "\r",
      "Sampling 3 chains, 166 divergences:  74%|███████▍  | 885/1200 [00:56<00:22, 14.07draws/s]"
     ]
    },
    {
     "name": "stderr",
     "output_type": "stream",
     "text": [
      "\r",
      "Sampling 3 chains, 167 divergences:  74%|███████▍  | 887/1200 [00:56<00:22, 14.07draws/s]"
     ]
    },
    {
     "name": "stderr",
     "output_type": "stream",
     "text": [
      "\r",
      "Sampling 3 chains, 167 divergences:  74%|███████▍  | 888/1200 [00:56<00:21, 14.63draws/s]"
     ]
    },
    {
     "name": "stderr",
     "output_type": "stream",
     "text": [
      "\r",
      "Sampling 3 chains, 167 divergences:  74%|███████▍  | 890/1200 [00:56<00:19, 15.64draws/s]"
     ]
    },
    {
     "name": "stderr",
     "output_type": "stream",
     "text": [
      "\r",
      "Sampling 3 chains, 167 divergences:  74%|███████▍  | 892/1200 [00:56<00:22, 13.45draws/s]"
     ]
    },
    {
     "name": "stderr",
     "output_type": "stream",
     "text": [
      "\r",
      "Sampling 3 chains, 168 divergences:  74%|███████▍  | 894/1200 [00:56<00:22, 13.45draws/s]"
     ]
    },
    {
     "name": "stderr",
     "output_type": "stream",
     "text": [
      "\r",
      "Sampling 3 chains, 168 divergences:  75%|███████▍  | 895/1200 [00:56<00:20, 15.05draws/s]"
     ]
    },
    {
     "name": "stderr",
     "output_type": "stream",
     "text": [
      "\r",
      "Sampling 3 chains, 169 divergences:  75%|███████▍  | 895/1200 [00:56<00:20, 15.05draws/s]"
     ]
    },
    {
     "name": "stderr",
     "output_type": "stream",
     "text": [
      "\r",
      "Sampling 3 chains, 169 divergences:  75%|███████▍  | 897/1200 [00:56<00:20, 14.63draws/s]"
     ]
    },
    {
     "name": "stderr",
     "output_type": "stream",
     "text": [
      "\r",
      "Sampling 3 chains, 169 divergences:  75%|███████▍  | 899/1200 [00:57<00:20, 14.44draws/s]"
     ]
    },
    {
     "name": "stderr",
     "output_type": "stream",
     "text": [
      "\r",
      "Sampling 3 chains, 169 divergences:  75%|███████▌  | 902/1200 [00:57<00:20, 14.65draws/s]"
     ]
    },
    {
     "name": "stderr",
     "output_type": "stream",
     "text": [
      "\r",
      "Sampling 3 chains, 169 divergences:  75%|███████▌  | 904/1200 [00:57<00:22, 13.04draws/s]"
     ]
    },
    {
     "name": "stderr",
     "output_type": "stream",
     "text": [
      "\r",
      "Sampling 3 chains, 170 divergences:  75%|███████▌  | 904/1200 [00:57<00:22, 13.04draws/s]"
     ]
    },
    {
     "name": "stderr",
     "output_type": "stream",
     "text": [
      "\r",
      "Sampling 3 chains, 170 divergences:  76%|███████▌  | 906/1200 [00:57<00:20, 14.51draws/s]"
     ]
    },
    {
     "name": "stderr",
     "output_type": "stream",
     "text": [
      "\r",
      "Sampling 3 chains, 170 divergences:  76%|███████▌  | 908/1200 [00:57<00:19, 14.91draws/s]"
     ]
    },
    {
     "name": "stderr",
     "output_type": "stream",
     "text": [
      "\r",
      "Sampling 3 chains, 170 divergences:  76%|███████▌  | 910/1200 [00:57<00:20, 13.89draws/s]"
     ]
    },
    {
     "name": "stderr",
     "output_type": "stream",
     "text": [
      "\r",
      "Sampling 3 chains, 171 divergences:  76%|███████▌  | 911/1200 [00:57<00:20, 13.89draws/s]"
     ]
    },
    {
     "name": "stderr",
     "output_type": "stream",
     "text": [
      "\r",
      "Sampling 3 chains, 171 divergences:  76%|███████▌  | 913/1200 [00:58<00:20, 14.11draws/s]"
     ]
    },
    {
     "name": "stderr",
     "output_type": "stream",
     "text": [
      "\r",
      "Sampling 3 chains, 172 divergences:  76%|███████▌  | 913/1200 [00:58<00:20, 14.11draws/s]"
     ]
    },
    {
     "name": "stderr",
     "output_type": "stream",
     "text": [
      "\r",
      "Sampling 3 chains, 172 divergences:  76%|███████▋  | 916/1200 [00:58<00:19, 14.23draws/s]"
     ]
    },
    {
     "name": "stderr",
     "output_type": "stream",
     "text": [
      "\r",
      "Sampling 3 chains, 172 divergences:  76%|███████▋  | 918/1200 [00:58<00:18, 15.38draws/s]"
     ]
    },
    {
     "name": "stderr",
     "output_type": "stream",
     "text": [
      "\r",
      "Sampling 3 chains, 172 divergences:  77%|███████▋  | 921/1200 [00:58<00:18, 15.34draws/s]"
     ]
    },
    {
     "name": "stderr",
     "output_type": "stream",
     "text": [
      "\r",
      "Sampling 3 chains, 173 divergences:  77%|███████▋  | 923/1200 [00:58<00:18, 15.34draws/s]"
     ]
    },
    {
     "name": "stderr",
     "output_type": "stream",
     "text": [
      "\r",
      "Sampling 3 chains, 173 divergences:  77%|███████▋  | 924/1200 [00:58<00:16, 17.01draws/s]"
     ]
    },
    {
     "name": "stderr",
     "output_type": "stream",
     "text": [
      "\r",
      "Sampling 3 chains, 174 divergences:  77%|███████▋  | 924/1200 [00:58<00:16, 17.01draws/s]"
     ]
    },
    {
     "name": "stderr",
     "output_type": "stream",
     "text": [
      "\r",
      "Sampling 3 chains, 174 divergences:  77%|███████▋  | 926/1200 [00:58<00:17, 15.28draws/s]"
     ]
    },
    {
     "name": "stderr",
     "output_type": "stream",
     "text": [
      "\r",
      "Sampling 3 chains, 174 divergences:  77%|███████▋  | 928/1200 [00:59<00:20, 13.23draws/s]"
     ]
    },
    {
     "name": "stderr",
     "output_type": "stream",
     "text": [
      "\r",
      "Sampling 3 chains, 174 divergences:  78%|███████▊  | 930/1200 [00:59<00:19, 13.79draws/s]"
     ]
    },
    {
     "name": "stderr",
     "output_type": "stream",
     "text": [
      "\r",
      "Sampling 3 chains, 174 divergences:  78%|███████▊  | 933/1200 [00:59<00:18, 14.20draws/s]"
     ]
    },
    {
     "name": "stderr",
     "output_type": "stream",
     "text": [
      "\r",
      "Sampling 3 chains, 174 divergences:  78%|███████▊  | 935/1200 [00:59<00:20, 12.75draws/s]"
     ]
    },
    {
     "name": "stderr",
     "output_type": "stream",
     "text": [
      "\r",
      "Sampling 3 chains, 174 divergences:  78%|███████▊  | 938/1200 [00:59<00:19, 13.40draws/s]"
     ]
    },
    {
     "name": "stderr",
     "output_type": "stream",
     "text": [
      "\r",
      "Sampling 3 chains, 174 divergences:  78%|███████▊  | 941/1200 [00:59<00:18, 13.89draws/s]"
     ]
    },
    {
     "name": "stderr",
     "output_type": "stream",
     "text": [
      "\r",
      "Sampling 3 chains, 174 divergences:  79%|███████▊  | 943/1200 [01:00<00:17, 15.10draws/s]"
     ]
    },
    {
     "name": "stderr",
     "output_type": "stream",
     "text": [
      "\r",
      "Sampling 3 chains, 175 divergences:  79%|███████▊  | 944/1200 [01:00<00:16, 15.10draws/s]"
     ]
    },
    {
     "name": "stderr",
     "output_type": "stream",
     "text": [
      "\r",
      "Sampling 3 chains, 175 divergences:  79%|███████▉  | 945/1200 [01:00<00:16, 15.77draws/s]"
     ]
    },
    {
     "name": "stderr",
     "output_type": "stream",
     "text": [
      "\r",
      "Sampling 3 chains, 176 divergences:  79%|███████▉  | 946/1200 [01:00<00:16, 15.77draws/s]"
     ]
    },
    {
     "name": "stderr",
     "output_type": "stream",
     "text": [
      "\r",
      "Sampling 3 chains, 176 divergences:  79%|███████▉  | 947/1200 [01:00<00:16, 15.09draws/s]"
     ]
    },
    {
     "name": "stderr",
     "output_type": "stream",
     "text": [
      "\r",
      "Sampling 3 chains, 176 divergences:  79%|███████▉  | 949/1200 [01:00<00:16, 14.95draws/s]"
     ]
    },
    {
     "name": "stderr",
     "output_type": "stream",
     "text": [
      "\r",
      "Sampling 3 chains, 176 divergences:  79%|███████▉  | 952/1200 [01:00<00:16, 15.07draws/s]"
     ]
    },
    {
     "name": "stderr",
     "output_type": "stream",
     "text": [
      "\r",
      "Sampling 3 chains, 176 divergences:  80%|███████▉  | 955/1200 [01:00<00:16, 15.13draws/s]"
     ]
    },
    {
     "name": "stderr",
     "output_type": "stream",
     "text": [
      "\r",
      "Sampling 3 chains, 177 divergences:  80%|███████▉  | 957/1200 [01:01<00:16, 15.13draws/s]"
     ]
    },
    {
     "name": "stderr",
     "output_type": "stream",
     "text": [
      "\r",
      "Sampling 3 chains, 177 divergences:  80%|███████▉  | 958/1200 [01:01<00:15, 15.37draws/s]"
     ]
    },
    {
     "name": "stderr",
     "output_type": "stream",
     "text": [
      "\r",
      "Sampling 3 chains, 178 divergences:  80%|███████▉  | 958/1200 [01:01<00:15, 15.37draws/s]"
     ]
    },
    {
     "name": "stderr",
     "output_type": "stream",
     "text": [
      "\r",
      "Sampling 3 chains, 178 divergences:  80%|████████  | 960/1200 [01:01<00:14, 16.30draws/s]"
     ]
    },
    {
     "name": "stderr",
     "output_type": "stream",
     "text": [
      "\r",
      "Sampling 3 chains, 178 divergences:  80%|████████  | 962/1200 [01:01<00:15, 15.24draws/s]"
     ]
    },
    {
     "name": "stderr",
     "output_type": "stream",
     "text": [
      "\r",
      "Sampling 3 chains, 178 divergences:  80%|████████  | 964/1200 [01:01<00:15, 14.82draws/s]"
     ]
    },
    {
     "name": "stderr",
     "output_type": "stream",
     "text": [
      "\r",
      "Sampling 3 chains, 178 divergences:  80%|████████  | 966/1200 [01:01<00:14, 15.71draws/s]"
     ]
    },
    {
     "name": "stderr",
     "output_type": "stream",
     "text": [
      "\r",
      "Sampling 3 chains, 179 divergences:  81%|████████  | 967/1200 [01:01<00:14, 15.71draws/s]"
     ]
    },
    {
     "name": "stderr",
     "output_type": "stream",
     "text": [
      "\r",
      "Sampling 3 chains, 179 divergences:  81%|████████  | 968/1200 [01:01<00:15, 14.54draws/s]"
     ]
    },
    {
     "name": "stderr",
     "output_type": "stream",
     "text": [
      "\r",
      "Sampling 3 chains, 179 divergences:  81%|████████  | 970/1200 [01:01<00:21, 10.80draws/s]"
     ]
    },
    {
     "name": "stderr",
     "output_type": "stream",
     "text": [
      "\r",
      "Sampling 3 chains, 180 divergences:  81%|████████  | 970/1200 [01:02<00:21, 10.80draws/s]"
     ]
    },
    {
     "name": "stderr",
     "output_type": "stream",
     "text": [
      "\r",
      "Sampling 3 chains, 180 divergences:  81%|████████  | 972/1200 [01:02<00:18, 12.17draws/s]"
     ]
    },
    {
     "name": "stderr",
     "output_type": "stream",
     "text": [
      "\r",
      "Sampling 3 chains, 180 divergences:  81%|████████  | 974/1200 [01:02<00:17, 12.87draws/s]"
     ]
    },
    {
     "name": "stderr",
     "output_type": "stream",
     "text": [
      "\r",
      "Sampling 3 chains, 180 divergences:  81%|████████▏ | 977/1200 [01:02<00:16, 13.52draws/s]"
     ]
    },
    {
     "name": "stderr",
     "output_type": "stream",
     "text": [
      "\r",
      "Sampling 3 chains, 180 divergences:  82%|████████▏ | 979/1200 [01:02<00:18, 12.10draws/s]"
     ]
    },
    {
     "name": "stderr",
     "output_type": "stream",
     "text": [
      "\r",
      "Sampling 3 chains, 180 divergences:  82%|████████▏ | 982/1200 [01:02<00:17, 12.80draws/s]"
     ]
    },
    {
     "name": "stderr",
     "output_type": "stream",
     "text": [
      "\r",
      "Sampling 3 chains, 180 divergences:  82%|████████▏ | 985/1200 [01:03<00:15, 13.47draws/s]"
     ]
    },
    {
     "name": "stderr",
     "output_type": "stream",
     "text": [
      "\r",
      "Sampling 3 chains, 180 divergences:  82%|████████▏ | 988/1200 [01:03<00:15, 13.95draws/s]"
     ]
    },
    {
     "name": "stderr",
     "output_type": "stream",
     "text": [
      "\r",
      "Sampling 3 chains, 181 divergences:  82%|████████▎ | 990/1200 [01:03<00:15, 13.95draws/s]"
     ]
    },
    {
     "name": "stderr",
     "output_type": "stream",
     "text": [
      "\r",
      "Sampling 3 chains, 181 divergences:  83%|████████▎ | 991/1200 [01:03<00:14, 13.97draws/s]"
     ]
    },
    {
     "name": "stderr",
     "output_type": "stream",
     "text": [
      "\r",
      "Sampling 3 chains, 182 divergences:  83%|████████▎ | 991/1200 [01:03<00:14, 13.97draws/s]"
     ]
    },
    {
     "name": "stderr",
     "output_type": "stream",
     "text": [
      "\r",
      "Sampling 3 chains, 182 divergences:  83%|████████▎ | 993/1200 [01:03<00:17, 12.17draws/s]"
     ]
    },
    {
     "name": "stderr",
     "output_type": "stream",
     "text": [
      "\r",
      "Sampling 3 chains, 183 divergences:  83%|████████▎ | 993/1200 [01:03<00:17, 12.17draws/s]"
     ]
    },
    {
     "name": "stderr",
     "output_type": "stream",
     "text": [
      "\r",
      "Sampling 3 chains, 183 divergences:  83%|████████▎ | 996/1200 [01:03<00:16, 12.21draws/s]"
     ]
    },
    {
     "name": "stderr",
     "output_type": "stream",
     "text": [
      "\r",
      "Sampling 3 chains, 183 divergences:  83%|████████▎ | 998/1200 [01:04<00:18, 10.99draws/s]"
     ]
    },
    {
     "name": "stderr",
     "output_type": "stream",
     "text": [
      "\r",
      "Sampling 3 chains, 183 divergences:  83%|████████▎ | 1000/1200 [01:04<00:21,  9.26draws/s]"
     ]
    },
    {
     "name": "stderr",
     "output_type": "stream",
     "text": [
      "\r",
      "Sampling 3 chains, 183 divergences:  84%|████████▎ | 1002/1200 [01:04<00:18, 10.89draws/s]"
     ]
    },
    {
     "name": "stderr",
     "output_type": "stream",
     "text": [
      "\r",
      "Sampling 3 chains, 183 divergences:  84%|████████▎ | 1004/1200 [01:04<00:17, 11.23draws/s]"
     ]
    },
    {
     "name": "stderr",
     "output_type": "stream",
     "text": [
      "\r",
      "Sampling 3 chains, 184 divergences:  84%|████████▍ | 1005/1200 [01:04<00:17, 11.23draws/s]"
     ]
    },
    {
     "name": "stderr",
     "output_type": "stream",
     "text": [
      "\r",
      "Sampling 3 chains, 184 divergences:  84%|████████▍ | 1006/1200 [01:04<00:17, 10.93draws/s]"
     ]
    },
    {
     "name": "stderr",
     "output_type": "stream",
     "text": [
      "\r",
      "Sampling 3 chains, 184 divergences:  84%|████████▍ | 1008/1200 [01:05<00:15, 12.00draws/s]"
     ]
    },
    {
     "name": "stderr",
     "output_type": "stream",
     "text": [
      "\r",
      "Sampling 3 chains, 184 divergences:  84%|████████▍ | 1011/1200 [01:05<00:14, 12.90draws/s]"
     ]
    },
    {
     "name": "stderr",
     "output_type": "stream",
     "text": [
      "\r",
      "Sampling 3 chains, 184 divergences:  84%|████████▍ | 1014/1200 [01:05<00:13, 13.54draws/s]"
     ]
    },
    {
     "name": "stderr",
     "output_type": "stream",
     "text": [
      "\r",
      "Sampling 3 chains, 185 divergences:  84%|████████▍ | 1014/1200 [01:05<00:13, 13.54draws/s]"
     ]
    },
    {
     "name": "stderr",
     "output_type": "stream",
     "text": [
      "\r",
      "Sampling 3 chains, 186 divergences:  85%|████████▍ | 1015/1200 [01:05<00:13, 13.54draws/s]"
     ]
    },
    {
     "name": "stderr",
     "output_type": "stream",
     "text": [
      "\r",
      "Sampling 3 chains, 186 divergences:  85%|████████▍ | 1017/1200 [01:05<00:14, 12.52draws/s]"
     ]
    },
    {
     "name": "stderr",
     "output_type": "stream",
     "text": [
      "\r",
      "Sampling 3 chains, 186 divergences:  85%|████████▍ | 1019/1200 [01:05<00:15, 11.68draws/s]"
     ]
    },
    {
     "name": "stderr",
     "output_type": "stream",
     "text": [
      "\r",
      "Sampling 3 chains, 187 divergences:  85%|████████▌ | 1020/1200 [01:06<00:15, 11.68draws/s]"
     ]
    },
    {
     "name": "stderr",
     "output_type": "stream",
     "text": [
      "\r",
      "Sampling 3 chains, 187 divergences:  85%|████████▌ | 1021/1200 [01:06<00:14, 12.65draws/s]"
     ]
    },
    {
     "name": "stderr",
     "output_type": "stream",
     "text": [
      "\r",
      "Sampling 3 chains, 187 divergences:  85%|████████▌ | 1023/1200 [01:06<00:15, 11.51draws/s]"
     ]
    },
    {
     "name": "stderr",
     "output_type": "stream",
     "text": [
      "\r",
      "Sampling 3 chains, 188 divergences:  85%|████████▌ | 1024/1200 [01:06<00:15, 11.51draws/s]"
     ]
    },
    {
     "name": "stderr",
     "output_type": "stream",
     "text": [
      "\r",
      "Sampling 3 chains, 188 divergences:  86%|████████▌ | 1026/1200 [01:06<00:13, 12.81draws/s]"
     ]
    },
    {
     "name": "stderr",
     "output_type": "stream",
     "text": [
      "\r",
      "Sampling 3 chains, 189 divergences:  86%|████████▌ | 1026/1200 [01:06<00:13, 12.81draws/s]"
     ]
    },
    {
     "name": "stderr",
     "output_type": "stream",
     "text": [
      "\r",
      "Sampling 3 chains, 190 divergences:  86%|████████▌ | 1027/1200 [01:06<00:13, 12.81draws/s]"
     ]
    },
    {
     "name": "stderr",
     "output_type": "stream",
     "text": [
      "\r",
      "Sampling 3 chains, 190 divergences:  86%|████████▌ | 1030/1200 [01:06<00:13, 13.01draws/s]"
     ]
    },
    {
     "name": "stderr",
     "output_type": "stream",
     "text": [
      "\r",
      "Sampling 3 chains, 190 divergences:  86%|████████▌ | 1032/1200 [01:06<00:14, 11.96draws/s]"
     ]
    },
    {
     "name": "stderr",
     "output_type": "stream",
     "text": [
      "\r",
      "Sampling 3 chains, 190 divergences:  86%|████████▌ | 1034/1200 [01:06<00:12, 13.52draws/s]"
     ]
    },
    {
     "name": "stderr",
     "output_type": "stream",
     "text": [
      "\r",
      "Sampling 3 chains, 190 divergences:  86%|████████▋ | 1036/1200 [01:07<00:11, 14.82draws/s]"
     ]
    },
    {
     "name": "stderr",
     "output_type": "stream",
     "text": [
      "\r",
      "Sampling 3 chains, 190 divergences:  86%|████████▋ | 1038/1200 [01:07<00:12, 13.28draws/s]"
     ]
    },
    {
     "name": "stderr",
     "output_type": "stream",
     "text": [
      "\r",
      "Sampling 3 chains, 190 divergences:  87%|████████▋ | 1041/1200 [01:07<00:11, 13.74draws/s]"
     ]
    },
    {
     "name": "stderr",
     "output_type": "stream",
     "text": [
      "\r",
      "Sampling 3 chains, 190 divergences:  87%|████████▋ | 1043/1200 [01:07<00:12, 12.58draws/s]"
     ]
    },
    {
     "name": "stderr",
     "output_type": "stream",
     "text": [
      "\r",
      "Sampling 3 chains, 190 divergences:  87%|████████▋ | 1045/1200 [01:07<00:13, 11.82draws/s]"
     ]
    },
    {
     "name": "stderr",
     "output_type": "stream",
     "text": [
      "\r",
      "Sampling 3 chains, 190 divergences:  87%|████████▋ | 1047/1200 [01:08<00:17,  8.50draws/s]"
     ]
    },
    {
     "name": "stderr",
     "output_type": "stream",
     "text": [
      "\r",
      "Sampling 3 chains, 190 divergences:  87%|████████▋ | 1049/1200 [01:08<00:21,  7.06draws/s]"
     ]
    },
    {
     "name": "stderr",
     "output_type": "stream",
     "text": [
      "\r",
      "Sampling 3 chains, 190 divergences:  88%|████████▊ | 1050/1200 [01:08<00:23,  6.38draws/s]"
     ]
    },
    {
     "name": "stderr",
     "output_type": "stream",
     "text": [
      "\r",
      "Sampling 3 chains, 190 divergences:  88%|████████▊ | 1052/1200 [01:09<00:22,  6.55draws/s]"
     ]
    },
    {
     "name": "stderr",
     "output_type": "stream",
     "text": [
      "\r",
      "Sampling 3 chains, 190 divergences:  88%|████████▊ | 1053/1200 [01:09<00:24,  6.08draws/s]"
     ]
    },
    {
     "name": "stderr",
     "output_type": "stream",
     "text": [
      "\r",
      "Sampling 3 chains, 190 divergences:  88%|████████▊ | 1055/1200 [01:09<00:22,  6.31draws/s]"
     ]
    },
    {
     "name": "stderr",
     "output_type": "stream",
     "text": [
      "\r",
      "Sampling 3 chains, 190 divergences:  88%|████████▊ | 1056/1200 [01:09<00:24,  5.95draws/s]"
     ]
    },
    {
     "name": "stderr",
     "output_type": "stream",
     "text": [
      "\r",
      "Sampling 3 chains, 190 divergences:  88%|████████▊ | 1058/1200 [01:09<00:21,  6.76draws/s]"
     ]
    },
    {
     "name": "stderr",
     "output_type": "stream",
     "text": [
      "\r",
      "Sampling 3 chains, 190 divergences:  88%|████████▊ | 1060/1200 [01:10<00:18,  7.56draws/s]"
     ]
    },
    {
     "name": "stderr",
     "output_type": "stream",
     "text": [
      "\r",
      "Sampling 3 chains, 190 divergences:  88%|████████▊ | 1062/1200 [01:10<00:16,  8.17draws/s]"
     ]
    },
    {
     "name": "stderr",
     "output_type": "stream",
     "text": [
      "\r",
      "Sampling 3 chains, 190 divergences:  89%|████████▊ | 1064/1200 [01:10<00:21,  6.34draws/s]"
     ]
    },
    {
     "name": "stderr",
     "output_type": "stream",
     "text": [
      "\r",
      "Sampling 3 chains, 190 divergences:  89%|████████▉ | 1066/1200 [01:11<00:18,  7.20draws/s]"
     ]
    },
    {
     "name": "stderr",
     "output_type": "stream",
     "text": [
      "\r",
      "Sampling 3 chains, 190 divergences:  89%|████████▉ | 1067/1200 [01:11<00:28,  4.74draws/s]"
     ]
    },
    {
     "name": "stderr",
     "output_type": "stream",
     "text": [
      "\r",
      "Sampling 3 chains, 190 divergences:  89%|████████▉ | 1068/1200 [01:11<00:34,  3.79draws/s]"
     ]
    },
    {
     "name": "stderr",
     "output_type": "stream",
     "text": [
      "\r",
      "Sampling 3 chains, 190 divergences:  89%|████████▉ | 1070/1200 [01:12<00:27,  4.67draws/s]"
     ]
    },
    {
     "name": "stderr",
     "output_type": "stream",
     "text": [
      "\r",
      "Sampling 3 chains, 190 divergences:  89%|████████▉ | 1071/1200 [01:12<00:34,  3.69draws/s]"
     ]
    },
    {
     "name": "stderr",
     "output_type": "stream",
     "text": [
      "\r",
      "Sampling 3 chains, 190 divergences:  89%|████████▉ | 1073/1200 [01:12<00:27,  4.59draws/s]"
     ]
    },
    {
     "name": "stderr",
     "output_type": "stream",
     "text": [
      "\r",
      "Sampling 3 chains, 190 divergences:  90%|████████▉ | 1074/1200 [01:12<00:26,  4.70draws/s]"
     ]
    },
    {
     "name": "stderr",
     "output_type": "stream",
     "text": [
      "\r",
      "Sampling 3 chains, 191 divergences:  90%|████████▉ | 1074/1200 [01:13<00:26,  4.70draws/s]"
     ]
    },
    {
     "name": "stderr",
     "output_type": "stream",
     "text": [
      "\r",
      "Sampling 3 chains, 191 divergences:  90%|████████▉ | 1075/1200 [01:13<00:30,  4.04draws/s]"
     ]
    },
    {
     "name": "stderr",
     "output_type": "stream",
     "text": [
      "\r",
      "Sampling 3 chains, 191 divergences:  90%|████████▉ | 1076/1200 [01:13<00:28,  4.35draws/s]"
     ]
    },
    {
     "name": "stderr",
     "output_type": "stream",
     "text": [
      "\r",
      "Sampling 3 chains, 191 divergences:  90%|████████▉ | 1078/1200 [01:13<00:26,  4.58draws/s]"
     ]
    },
    {
     "name": "stderr",
     "output_type": "stream",
     "text": [
      "\r",
      "Sampling 3 chains, 191 divergences:  90%|█████████ | 1080/1200 [01:13<00:21,  5.50draws/s]"
     ]
    },
    {
     "name": "stderr",
     "output_type": "stream",
     "text": [
      "\r",
      "Sampling 3 chains, 191 divergences:  90%|█████████ | 1081/1200 [01:14<00:25,  4.62draws/s]"
     ]
    },
    {
     "name": "stderr",
     "output_type": "stream",
     "text": [
      "\r",
      "Sampling 3 chains, 191 divergences:  90%|█████████ | 1082/1200 [01:14<00:31,  3.75draws/s]"
     ]
    },
    {
     "name": "stderr",
     "output_type": "stream",
     "text": [
      "\r",
      "Sampling 3 chains, 191 divergences:  90%|█████████ | 1083/1200 [01:14<00:25,  4.59draws/s]"
     ]
    },
    {
     "name": "stderr",
     "output_type": "stream",
     "text": [
      "\r",
      "Sampling 3 chains, 192 divergences:  90%|█████████ | 1083/1200 [01:14<00:25,  4.59draws/s]"
     ]
    },
    {
     "name": "stderr",
     "output_type": "stream",
     "text": [
      "\r",
      "Sampling 3 chains, 192 divergences:  90%|█████████ | 1084/1200 [01:14<00:22,  5.24draws/s]"
     ]
    },
    {
     "name": "stderr",
     "output_type": "stream",
     "text": [
      "\r",
      "Sampling 3 chains, 192 divergences:  90%|█████████ | 1085/1200 [01:15<00:25,  4.50draws/s]"
     ]
    },
    {
     "name": "stderr",
     "output_type": "stream",
     "text": [
      "\r",
      "Sampling 3 chains, 193 divergences:  90%|█████████ | 1085/1200 [01:15<00:25,  4.50draws/s]"
     ]
    },
    {
     "name": "stderr",
     "output_type": "stream",
     "text": [
      "\r",
      "Sampling 3 chains, 193 divergences:  91%|█████████ | 1087/1200 [01:15<00:22,  5.13draws/s]"
     ]
    },
    {
     "name": "stderr",
     "output_type": "stream",
     "text": [
      "\r",
      "Sampling 3 chains, 193 divergences:  91%|█████████ | 1089/1200 [01:15<00:18,  6.04draws/s]"
     ]
    },
    {
     "name": "stderr",
     "output_type": "stream",
     "text": [
      "\r",
      "Sampling 3 chains, 193 divergences:  91%|█████████ | 1090/1200 [01:15<00:25,  4.31draws/s]"
     ]
    },
    {
     "name": "stderr",
     "output_type": "stream",
     "text": [
      "\r",
      "Sampling 3 chains, 194 divergences:  91%|█████████ | 1090/1200 [01:16<00:25,  4.31draws/s]"
     ]
    },
    {
     "name": "stderr",
     "output_type": "stream",
     "text": [
      "\r",
      "Sampling 3 chains, 194 divergences:  91%|█████████ | 1091/1200 [01:16<00:21,  5.10draws/s]"
     ]
    },
    {
     "name": "stderr",
     "output_type": "stream",
     "text": [
      "\r",
      "Sampling 3 chains, 195 divergences:  91%|█████████ | 1091/1200 [01:16<00:21,  5.10draws/s]"
     ]
    },
    {
     "name": "stderr",
     "output_type": "stream",
     "text": [
      "\r",
      "Sampling 3 chains, 195 divergences:  91%|█████████ | 1092/1200 [01:16<00:20,  5.22draws/s]"
     ]
    },
    {
     "name": "stderr",
     "output_type": "stream",
     "text": [
      "\r",
      "Sampling 3 chains, 195 divergences:  91%|█████████ | 1094/1200 [01:16<00:17,  6.14draws/s]"
     ]
    },
    {
     "name": "stderr",
     "output_type": "stream",
     "text": [
      "\r",
      "Sampling 3 chains, 196 divergences:  91%|█████████ | 1094/1200 [01:16<00:17,  6.14draws/s]"
     ]
    },
    {
     "name": "stderr",
     "output_type": "stream",
     "text": [
      "\r",
      "Sampling 3 chains, 197 divergences:  91%|█████████▏| 1095/1200 [01:16<00:17,  6.14draws/s]"
     ]
    },
    {
     "name": "stderr",
     "output_type": "stream",
     "text": [
      "\r",
      "Sampling 3 chains, 197 divergences:  91%|█████████▏| 1096/1200 [01:16<00:13,  7.68draws/s]"
     ]
    },
    {
     "name": "stderr",
     "output_type": "stream",
     "text": [
      "\r",
      "Sampling 3 chains, 198 divergences:  91%|█████████▏| 1097/1200 [01:17<00:13,  7.68draws/s]"
     ]
    },
    {
     "name": "stderr",
     "output_type": "stream",
     "text": [
      "\r",
      "Sampling 3 chains, 198 divergences:  92%|█████████▏| 1098/1200 [01:17<00:17,  5.95draws/s]"
     ]
    },
    {
     "name": "stderr",
     "output_type": "stream",
     "text": [
      "\r",
      "Sampling 3 chains, 198 divergences:  92%|█████████▏| 1099/1200 [01:17<00:15,  6.73draws/s]"
     ]
    },
    {
     "name": "stderr",
     "output_type": "stream",
     "text": [
      "\r",
      "Sampling 3 chains, 198 divergences:  92%|█████████▏| 1100/1200 [01:17<00:16,  6.09draws/s]"
     ]
    },
    {
     "name": "stderr",
     "output_type": "stream",
     "text": [
      "\r",
      "Sampling 3 chains, 198 divergences:  92%|█████████▏| 1102/1200 [01:17<00:18,  5.36draws/s]"
     ]
    },
    {
     "name": "stderr",
     "output_type": "stream",
     "text": [
      "\r",
      "Sampling 3 chains, 198 divergences:  92%|█████████▏| 1103/1200 [01:18<00:18,  5.25draws/s]"
     ]
    },
    {
     "name": "stderr",
     "output_type": "stream",
     "text": [
      "\r",
      "Sampling 3 chains, 198 divergences:  92%|█████████▏| 1105/1200 [01:18<00:19,  4.87draws/s]"
     ]
    },
    {
     "name": "stderr",
     "output_type": "stream",
     "text": [
      "\r",
      "Sampling 3 chains, 199 divergences:  92%|█████████▏| 1105/1200 [01:18<00:19,  4.87draws/s]"
     ]
    },
    {
     "name": "stderr",
     "output_type": "stream",
     "text": [
      "\r",
      "Sampling 3 chains, 199 divergences:  92%|█████████▏| 1106/1200 [01:18<00:17,  5.35draws/s]"
     ]
    },
    {
     "name": "stderr",
     "output_type": "stream",
     "text": [
      "\r",
      "Sampling 3 chains, 199 divergences:  92%|█████████▏| 1107/1200 [01:18<00:20,  4.62draws/s]"
     ]
    },
    {
     "name": "stderr",
     "output_type": "stream",
     "text": [
      "\r",
      "Sampling 3 chains, 200 divergences:  92%|█████████▏| 1107/1200 [01:19<00:20,  4.62draws/s]"
     ]
    },
    {
     "name": "stderr",
     "output_type": "stream",
     "text": [
      "\r",
      "Sampling 3 chains, 200 divergences:  92%|█████████▏| 1109/1200 [01:19<00:16,  5.65draws/s]"
     ]
    },
    {
     "name": "stderr",
     "output_type": "stream",
     "text": [
      "\r",
      "Sampling 3 chains, 201 divergences:  92%|█████████▏| 1109/1200 [01:19<00:16,  5.65draws/s]"
     ]
    },
    {
     "name": "stderr",
     "output_type": "stream",
     "text": [
      "\r",
      "Sampling 3 chains, 202 divergences:  92%|█████████▎| 1110/1200 [01:19<00:15,  5.65draws/s]"
     ]
    },
    {
     "name": "stderr",
     "output_type": "stream",
     "text": [
      "\r",
      "Sampling 3 chains, 202 divergences:  93%|█████████▎| 1111/1200 [01:19<00:12,  7.01draws/s]"
     ]
    },
    {
     "name": "stderr",
     "output_type": "stream",
     "text": [
      "\r",
      "Sampling 3 chains, 203 divergences:  93%|█████████▎| 1111/1200 [01:19<00:12,  7.01draws/s]"
     ]
    },
    {
     "name": "stderr",
     "output_type": "stream",
     "text": [
      "\r",
      "Sampling 3 chains, 204 divergences:  93%|█████████▎| 1112/1200 [01:19<00:12,  7.01draws/s]"
     ]
    },
    {
     "name": "stderr",
     "output_type": "stream",
     "text": [
      "\r",
      "Sampling 3 chains, 204 divergences:  93%|█████████▎| 1113/1200 [01:19<00:11,  7.49draws/s]"
     ]
    },
    {
     "name": "stderr",
     "output_type": "stream",
     "text": [
      "\r",
      "Sampling 3 chains, 205 divergences:  93%|█████████▎| 1113/1200 [01:19<00:11,  7.49draws/s]"
     ]
    },
    {
     "name": "stderr",
     "output_type": "stream",
     "text": [
      "\r",
      "Sampling 3 chains, 206 divergences:  93%|█████████▎| 1114/1200 [01:19<00:11,  7.49draws/s]"
     ]
    },
    {
     "name": "stderr",
     "output_type": "stream",
     "text": [
      "\r",
      "Sampling 3 chains, 206 divergences:  93%|█████████▎| 1116/1200 [01:19<00:09,  9.10draws/s]"
     ]
    },
    {
     "name": "stderr",
     "output_type": "stream",
     "text": [
      "\r",
      "Sampling 3 chains, 207 divergences:  93%|█████████▎| 1116/1200 [01:19<00:09,  9.10draws/s]"
     ]
    },
    {
     "name": "stderr",
     "output_type": "stream",
     "text": [
      "\r",
      "Sampling 3 chains, 208 divergences:  93%|█████████▎| 1117/1200 [01:19<00:09,  9.10draws/s]"
     ]
    },
    {
     "name": "stderr",
     "output_type": "stream",
     "text": [
      "\r",
      "Sampling 3 chains, 208 divergences:  93%|█████████▎| 1118/1200 [01:19<00:09,  8.92draws/s]"
     ]
    },
    {
     "name": "stderr",
     "output_type": "stream",
     "text": [
      "\r",
      "Sampling 3 chains, 208 divergences:  93%|█████████▎| 1120/1200 [01:20<00:12,  6.66draws/s]"
     ]
    },
    {
     "name": "stderr",
     "output_type": "stream",
     "text": [
      "\r",
      "Sampling 3 chains, 208 divergences:  93%|█████████▎| 1121/1200 [01:20<00:13,  6.06draws/s]"
     ]
    },
    {
     "name": "stderr",
     "output_type": "stream",
     "text": [
      "\r",
      "Sampling 3 chains, 208 divergences:  94%|█████████▎| 1122/1200 [01:20<00:11,  6.86draws/s]"
     ]
    },
    {
     "name": "stderr",
     "output_type": "stream",
     "text": [
      "\r",
      "Sampling 3 chains, 208 divergences:  94%|█████████▎| 1123/1200 [01:21<00:16,  4.64draws/s]"
     ]
    },
    {
     "name": "stderr",
     "output_type": "stream",
     "text": [
      "\r",
      "Sampling 3 chains, 209 divergences:  94%|█████████▎| 1124/1200 [01:21<00:16,  4.64draws/s]"
     ]
    },
    {
     "name": "stderr",
     "output_type": "stream",
     "text": [
      "\r",
      "Sampling 3 chains, 209 divergences:  94%|█████████▍| 1125/1200 [01:21<00:12,  5.93draws/s]"
     ]
    },
    {
     "name": "stderr",
     "output_type": "stream",
     "text": [
      "\r",
      "Sampling 3 chains, 209 divergences:  94%|█████████▍| 1127/1200 [01:21<00:11,  6.22draws/s]"
     ]
    },
    {
     "name": "stderr",
     "output_type": "stream",
     "text": [
      "\r",
      "Sampling 3 chains, 209 divergences:  94%|█████████▍| 1128/1200 [01:21<00:12,  5.86draws/s]"
     ]
    },
    {
     "name": "stderr",
     "output_type": "stream",
     "text": [
      "\r",
      "Sampling 3 chains, 209 divergences:  94%|█████████▍| 1129/1200 [01:21<00:12,  5.67draws/s]"
     ]
    },
    {
     "name": "stderr",
     "output_type": "stream",
     "text": [
      "\r",
      "Sampling 3 chains, 209 divergences:  94%|█████████▍| 1130/1200 [01:21<00:10,  6.46draws/s]"
     ]
    },
    {
     "name": "stderr",
     "output_type": "stream",
     "text": [
      "\r",
      "Sampling 3 chains, 209 divergences:  94%|█████████▍| 1131/1200 [01:22<00:11,  5.98draws/s]"
     ]
    },
    {
     "name": "stderr",
     "output_type": "stream",
     "text": [
      "\r",
      "Sampling 3 chains, 209 divergences:  94%|█████████▍| 1132/1200 [01:22<00:12,  5.67draws/s]"
     ]
    },
    {
     "name": "stderr",
     "output_type": "stream",
     "text": [
      "\r",
      "Sampling 3 chains, 209 divergences:  94%|█████████▍| 1134/1200 [01:22<00:11,  5.92draws/s]"
     ]
    },
    {
     "name": "stderr",
     "output_type": "stream",
     "text": [
      "\r",
      "Sampling 3 chains, 209 divergences:  95%|█████████▍| 1135/1200 [01:22<00:15,  4.29draws/s]"
     ]
    },
    {
     "name": "stderr",
     "output_type": "stream",
     "text": [
      "\r",
      "Sampling 3 chains, 209 divergences:  95%|█████████▍| 1137/1200 [01:23<00:12,  5.19draws/s]"
     ]
    },
    {
     "name": "stderr",
     "output_type": "stream",
     "text": [
      "\r",
      "Sampling 3 chains, 209 divergences:  95%|█████████▍| 1138/1200 [01:23<00:11,  5.19draws/s]"
     ]
    },
    {
     "name": "stderr",
     "output_type": "stream",
     "text": [
      "\r",
      "Sampling 3 chains, 210 divergences:  95%|█████████▍| 1139/1200 [01:23<00:11,  5.19draws/s]"
     ]
    },
    {
     "name": "stderr",
     "output_type": "stream",
     "text": [
      "\r",
      "Sampling 3 chains, 210 divergences:  95%|█████████▌| 1140/1200 [01:23<00:10,  5.56draws/s]"
     ]
    },
    {
     "name": "stderr",
     "output_type": "stream",
     "text": [
      "\r",
      "Sampling 3 chains, 211 divergences:  95%|█████████▌| 1140/1200 [01:24<00:10,  5.56draws/s]"
     ]
    },
    {
     "name": "stderr",
     "output_type": "stream",
     "text": [
      "\r",
      "Sampling 3 chains, 211 divergences:  95%|█████████▌| 1141/1200 [01:24<00:13,  4.35draws/s]"
     ]
    },
    {
     "name": "stderr",
     "output_type": "stream",
     "text": [
      "\r",
      "Sampling 3 chains, 211 divergences:  95%|█████████▌| 1142/1200 [01:24<00:16,  3.61draws/s]"
     ]
    },
    {
     "name": "stderr",
     "output_type": "stream",
     "text": [
      "\r",
      "Sampling 3 chains, 211 divergences:  95%|█████████▌| 1143/1200 [01:24<00:14,  3.97draws/s]"
     ]
    },
    {
     "name": "stderr",
     "output_type": "stream",
     "text": [
      "\r",
      "Sampling 3 chains, 212 divergences:  95%|█████████▌| 1143/1200 [01:24<00:14,  3.97draws/s]"
     ]
    },
    {
     "name": "stderr",
     "output_type": "stream",
     "text": [
      "\r",
      "Sampling 3 chains, 212 divergences:  95%|█████████▌| 1145/1200 [01:24<00:10,  5.04draws/s]"
     ]
    },
    {
     "name": "stderr",
     "output_type": "stream",
     "text": [
      "\r",
      "Sampling 3 chains, 213 divergences:  95%|█████████▌| 1145/1200 [01:24<00:10,  5.04draws/s]"
     ]
    },
    {
     "name": "stderr",
     "output_type": "stream",
     "text": [
      "\r",
      "Sampling 3 chains, 213 divergences:  96%|█████████▌| 1146/1200 [01:24<00:09,  5.62draws/s]"
     ]
    },
    {
     "name": "stderr",
     "output_type": "stream",
     "text": [
      "\r",
      "Sampling 3 chains, 214 divergences:  96%|█████████▌| 1146/1200 [01:25<00:09,  5.62draws/s]"
     ]
    },
    {
     "name": "stderr",
     "output_type": "stream",
     "text": [
      "\r",
      "Sampling 3 chains, 214 divergences:  96%|█████████▌| 1147/1200 [01:25<00:09,  5.35draws/s]"
     ]
    },
    {
     "name": "stderr",
     "output_type": "stream",
     "text": [
      "\r",
      "Sampling 3 chains, 214 divergences:  96%|█████████▌| 1148/1200 [01:25<00:09,  5.34draws/s]"
     ]
    },
    {
     "name": "stderr",
     "output_type": "stream",
     "text": [
      "\r",
      "Sampling 3 chains, 214 divergences:  96%|█████████▌| 1150/1200 [01:25<00:08,  5.69draws/s]"
     ]
    },
    {
     "name": "stderr",
     "output_type": "stream",
     "text": [
      "\r",
      "Sampling 3 chains, 214 divergences:  96%|█████████▌| 1152/1200 [01:25<00:07,  6.02draws/s]"
     ]
    },
    {
     "name": "stderr",
     "output_type": "stream",
     "text": [
      "\r",
      "Sampling 3 chains, 214 divergences:  96%|█████████▌| 1154/1200 [01:26<00:07,  6.21draws/s]"
     ]
    },
    {
     "name": "stderr",
     "output_type": "stream",
     "text": [
      "\r",
      "Sampling 3 chains, 214 divergences:  96%|█████████▋| 1156/1200 [01:26<00:08,  5.44draws/s]"
     ]
    },
    {
     "name": "stderr",
     "output_type": "stream",
     "text": [
      "\r",
      "Sampling 3 chains, 215 divergences:  96%|█████████▋| 1156/1200 [01:26<00:08,  5.44draws/s]"
     ]
    },
    {
     "name": "stderr",
     "output_type": "stream",
     "text": [
      "\r",
      "Sampling 3 chains, 215 divergences:  96%|█████████▋| 1157/1200 [01:26<00:07,  5.78draws/s]"
     ]
    },
    {
     "name": "stderr",
     "output_type": "stream",
     "text": [
      "\r",
      "Sampling 3 chains, 215 divergences:  97%|█████████▋| 1159/1200 [01:27<00:06,  6.12draws/s]"
     ]
    },
    {
     "name": "stderr",
     "output_type": "stream",
     "text": [
      "\r",
      "Sampling 3 chains, 215 divergences:  97%|█████████▋| 1161/1200 [01:27<00:06,  6.31draws/s]"
     ]
    },
    {
     "name": "stderr",
     "output_type": "stream",
     "text": [
      "\r",
      "Sampling 3 chains, 215 divergences:  97%|█████████▋| 1162/1200 [01:27<00:08,  4.47draws/s]"
     ]
    },
    {
     "name": "stderr",
     "output_type": "stream",
     "text": [
      "\r",
      "Sampling 3 chains, 215 divergences:  97%|█████████▋| 1163/1200 [01:27<00:06,  5.30draws/s]"
     ]
    },
    {
     "name": "stderr",
     "output_type": "stream",
     "text": [
      "\r",
      "Sampling 3 chains, 215 divergences:  97%|█████████▋| 1164/1200 [01:28<00:06,  5.18draws/s]"
     ]
    },
    {
     "name": "stderr",
     "output_type": "stream",
     "text": [
      "\r",
      "Sampling 3 chains, 215 divergences:  97%|█████████▋| 1165/1200 [01:28<00:08,  4.00draws/s]"
     ]
    },
    {
     "name": "stderr",
     "output_type": "stream",
     "text": [
      "\r",
      "Sampling 3 chains, 215 divergences:  97%|█████████▋| 1166/1200 [01:28<00:07,  4.31draws/s]"
     ]
    },
    {
     "name": "stderr",
     "output_type": "stream",
     "text": [
      "\r",
      "Sampling 3 chains, 215 divergences:  97%|█████████▋| 1167/1200 [01:29<00:09,  3.60draws/s]"
     ]
    },
    {
     "name": "stderr",
     "output_type": "stream",
     "text": [
      "\r",
      "Sampling 3 chains, 215 divergences:  97%|█████████▋| 1168/1200 [01:29<00:09,  3.23draws/s]"
     ]
    },
    {
     "name": "stderr",
     "output_type": "stream",
     "text": [
      "\r",
      "Sampling 3 chains, 215 divergences:  97%|█████████▋| 1169/1200 [01:29<00:10,  3.02draws/s]"
     ]
    },
    {
     "name": "stderr",
     "output_type": "stream",
     "text": [
      "\r",
      "Sampling 3 chains, 215 divergences:  98%|█████████▊| 1170/1200 [01:30<00:10,  2.87draws/s]"
     ]
    },
    {
     "name": "stderr",
     "output_type": "stream",
     "text": [
      "\r",
      "Sampling 3 chains, 215 divergences:  98%|█████████▊| 1171/1200 [01:30<00:10,  2.79draws/s]"
     ]
    },
    {
     "name": "stderr",
     "output_type": "stream",
     "text": [
      "\r",
      "Sampling 3 chains, 215 divergences:  98%|█████████▊| 1172/1200 [01:30<00:08,  3.25draws/s]"
     ]
    },
    {
     "name": "stderr",
     "output_type": "stream",
     "text": [
      "\r",
      "Sampling 3 chains, 215 divergences:  98%|█████████▊| 1173/1200 [01:31<00:08,  3.03draws/s]"
     ]
    },
    {
     "name": "stderr",
     "output_type": "stream",
     "text": [
      "\r",
      "Sampling 3 chains, 215 divergences:  98%|█████████▊| 1174/1200 [01:31<00:08,  2.91draws/s]"
     ]
    },
    {
     "name": "stderr",
     "output_type": "stream",
     "text": [
      "\r",
      "Sampling 3 chains, 215 divergences:  98%|█████████▊| 1175/1200 [01:31<00:08,  2.80draws/s]"
     ]
    },
    {
     "name": "stderr",
     "output_type": "stream",
     "text": [
      "\r",
      "Sampling 3 chains, 215 divergences:  98%|█████████▊| 1176/1200 [01:32<00:08,  2.71draws/s]"
     ]
    },
    {
     "name": "stderr",
     "output_type": "stream",
     "text": [
      "\r",
      "Sampling 3 chains, 215 divergences:  98%|█████████▊| 1177/1200 [01:32<00:07,  2.90draws/s]"
     ]
    },
    {
     "name": "stderr",
     "output_type": "stream",
     "text": [
      "\r",
      "Sampling 3 chains, 215 divergences:  98%|█████████▊| 1178/1200 [01:32<00:07,  2.81draws/s]"
     ]
    },
    {
     "name": "stderr",
     "output_type": "stream",
     "text": [
      "\r",
      "Sampling 3 chains, 215 divergences:  98%|█████████▊| 1179/1200 [01:33<00:07,  2.67draws/s]"
     ]
    },
    {
     "name": "stderr",
     "output_type": "stream",
     "text": [
      "\r",
      "Sampling 3 chains, 215 divergences:  98%|█████████▊| 1180/1200 [01:33<00:07,  2.66draws/s]"
     ]
    },
    {
     "name": "stderr",
     "output_type": "stream",
     "text": [
      "\r",
      "Sampling 3 chains, 215 divergences:  98%|█████████▊| 1181/1200 [01:34<00:07,  2.60draws/s]"
     ]
    },
    {
     "name": "stderr",
     "output_type": "stream",
     "text": [
      "\r",
      "Sampling 3 chains, 215 divergences:  98%|█████████▊| 1182/1200 [01:34<00:06,  2.60draws/s]"
     ]
    },
    {
     "name": "stderr",
     "output_type": "stream",
     "text": [
      "\r",
      "Sampling 3 chains, 216 divergences:  98%|█████████▊| 1182/1200 [01:34<00:06,  2.60draws/s]"
     ]
    },
    {
     "name": "stderr",
     "output_type": "stream",
     "text": [
      "\r",
      "Sampling 3 chains, 216 divergences:  99%|█████████▊| 1183/1200 [01:34<00:05,  3.03draws/s]"
     ]
    },
    {
     "name": "stderr",
     "output_type": "stream",
     "text": [
      "\r",
      "Sampling 3 chains, 217 divergences:  99%|█████████▊| 1183/1200 [01:34<00:05,  3.03draws/s]"
     ]
    },
    {
     "name": "stderr",
     "output_type": "stream",
     "text": [
      "\r",
      "Sampling 3 chains, 217 divergences:  99%|█████████▊| 1184/1200 [01:34<00:04,  3.45draws/s]"
     ]
    },
    {
     "name": "stderr",
     "output_type": "stream",
     "text": [
      "\r",
      "Sampling 3 chains, 217 divergences:  99%|█████████▉| 1185/1200 [01:35<00:04,  3.15draws/s]"
     ]
    },
    {
     "name": "stderr",
     "output_type": "stream",
     "text": [
      "\r",
      "Sampling 3 chains, 217 divergences:  99%|█████████▉| 1186/1200 [01:35<00:04,  2.97draws/s]"
     ]
    },
    {
     "name": "stderr",
     "output_type": "stream",
     "text": [
      "\r",
      "Sampling 3 chains, 217 divergences:  99%|█████████▉| 1187/1200 [01:36<00:04,  2.86draws/s]"
     ]
    },
    {
     "name": "stderr",
     "output_type": "stream",
     "text": [
      "\r",
      "Sampling 3 chains, 217 divergences:  99%|█████████▉| 1188/1200 [01:36<00:04,  2.78draws/s]"
     ]
    },
    {
     "name": "stderr",
     "output_type": "stream",
     "text": [
      "\r",
      "Sampling 3 chains, 217 divergences:  99%|█████████▉| 1190/1200 [01:36<00:02,  3.57draws/s]"
     ]
    },
    {
     "name": "stderr",
     "output_type": "stream",
     "text": [
      "\r",
      "Sampling 3 chains, 217 divergences:  99%|█████████▉| 1191/1200 [01:37<00:02,  3.20draws/s]"
     ]
    },
    {
     "name": "stderr",
     "output_type": "stream",
     "text": [
      "\r",
      "Sampling 3 chains, 217 divergences:  99%|█████████▉| 1192/1200 [01:37<00:02,  3.00draws/s]"
     ]
    },
    {
     "name": "stderr",
     "output_type": "stream",
     "text": [
      "\r",
      "Sampling 3 chains, 217 divergences:  99%|█████████▉| 1193/1200 [01:37<00:02,  2.89draws/s]"
     ]
    },
    {
     "name": "stderr",
     "output_type": "stream",
     "text": [
      "\r",
      "Sampling 3 chains, 217 divergences: 100%|█████████▉| 1194/1200 [01:38<00:02,  2.78draws/s]"
     ]
    },
    {
     "name": "stderr",
     "output_type": "stream",
     "text": [
      "\r",
      "Sampling 3 chains, 217 divergences: 100%|█████████▉| 1195/1200 [01:38<00:01,  2.72draws/s]"
     ]
    },
    {
     "name": "stderr",
     "output_type": "stream",
     "text": [
      "\r",
      "Sampling 3 chains, 217 divergences: 100%|█████████▉| 1196/1200 [01:38<00:01,  2.90draws/s]"
     ]
    },
    {
     "name": "stderr",
     "output_type": "stream",
     "text": [
      "\r",
      "Sampling 3 chains, 217 divergences: 100%|█████████▉| 1198/1200 [01:39<00:00,  3.20draws/s]"
     ]
    },
    {
     "name": "stderr",
     "output_type": "stream",
     "text": [
      "\r",
      "Sampling 3 chains, 217 divergences: 100%|█████████▉| 1199/1200 [01:39<00:00,  3.00draws/s]"
     ]
    },
    {
     "name": "stderr",
     "output_type": "stream",
     "text": [
      "\r",
      "Sampling 3 chains, 217 divergences: 100%|██████████| 1200/1200 [01:40<00:00,  2.86draws/s]"
     ]
    },
    {
     "name": "stderr",
     "output_type": "stream",
     "text": [
      "\r",
      "Sampling 3 chains, 217 divergences: 100%|██████████| 1200/1200 [01:40<00:00, 11.98draws/s]"
     ]
    },
    {
     "name": "stderr",
     "output_type": "stream",
     "text": [
      "\n"
     ]
    },
    {
     "name": "stderr",
     "output_type": "stream",
     "text": [
      "There were 48 divergences after tuning. Increase `target_accept` or reparameterize.\n"
     ]
    },
    {
     "name": "stderr",
     "output_type": "stream",
     "text": [
      "There were 131 divergences after tuning. Increase `target_accept` or reparameterize.\n"
     ]
    },
    {
     "name": "stderr",
     "output_type": "stream",
     "text": [
      "The acceptance probability does not match the target. It is 0.5716826308476388, but should be close to 0.8. Try to increase the number of tuning steps.\n"
     ]
    },
    {
     "name": "stderr",
     "output_type": "stream",
     "text": [
      "There were 38 divergences after tuning. Increase `target_accept` or reparameterize.\n"
     ]
    },
    {
     "name": "stderr",
     "output_type": "stream",
     "text": [
      "The chain reached the maximum tree depth. Increase max_treedepth, increase target_accept or reparameterize.\n"
     ]
    },
    {
     "name": "stderr",
     "output_type": "stream",
     "text": [
      "The rhat statistic is larger than 1.4 for some parameters. The sampler did not converge.\n"
     ]
    },
    {
     "name": "stderr",
     "output_type": "stream",
     "text": [
      "The estimated number of effective samples is smaller than 200 for some parameters.\n"
     ]
    }
   ],
   "source": [
    "#hide\n",
    "\n",
    "# Initialize the model:\n",
    "mod = initialize_model(df)\n",
    "\n",
    "# Run MCMC sampler1\n",
    "with mod:\n",
    "    trace = pm.sample(300, tune=100,\n",
    "                      chains=3, cores=2)"
   ]
  },
  {
   "cell_type": "code",
   "execution_count": 9,
   "metadata": {
    "colab": {
     "base_uri": "https://localhost:8080/",
     "height": 572
    },
    "colab_type": "code",
    "id": "avV7l1JWTtAp",
    "outputId": "786c8ebb-d672-4ef1-d16b-b6ffbe8d168f",
    "papermill": {
     "duration": 2.705936,
     "end_time": "2020-03-20T08:17:45.730066",
     "exception": false,
     "start_time": "2020-03-20T08:17:43.024130",
     "status": "completed"
    },
    "tags": []
   },
   "outputs": [
    {
     "name": "stdout",
     "output_type": "stream",
     "text": [
      "COVID-19 Global Mortality Rate Estimation:\n",
      "Posterior mean: 0.93%\n",
      "Posterior median: 0.75%\n",
      "95% posterior interval: (0.26%, 2.81%)\n",
      "Probability true rate less than reported rate (4.08%) = 99.78%\n",
      "\n",
      "Posterior probability density for COVID-19 mortality rate, controlling for country factors:\n"
     ]
    },
    {
     "data": {
      "image/png": "[encoded data removed]",
      "text/plain": [
       "<Figure size 1296x576 with 1 Axes>"
      ]
     },
     "metadata": {
      "needs_background": "light"
     },
     "output_type": "display_data"
    }
   ],
   "source": [
    "#collapse-hide\n",
    "\n",
    "n_samp = len(trace['mu_0'])\n",
    "mu0_summary = pm.summary(trace).loc['mu_0']\n",
    "print(\"COVID-19 Global Mortality Rate Estimation:\")\n",
    "print(\"Posterior mean: %0.2f%%\" % (100*trace['mu_0'].mean()))\n",
    "print(\"Posterior median: %0.2f%%\" % (100*np.median(trace['mu_0'])))\n",
    "lower = np.sort(trace['mu_0'])[int(n_samp*0.025)]\n",
    "upper = np.sort(trace['mu_0'])[int(n_samp*0.975)]\n",
    "print(\"95%% posterior interval: (%0.2f%%, %0.2f%%)\" % (100*lower, 100*upper))\n",
    "prob_lt_reported = sum(trace['mu_0'] < reported_mortality_rate) / len(trace['mu_0'])\n",
    "print(\"Probability true rate less than reported rate (%.2f%%) = %.2f%%\" %\n",
    "     (100*reported_mortality_rate, 100*prob_lt_reported))\n",
    "print(\"\")\n",
    "\n",
    "# Posterior plot for mu0\n",
    "print('Posterior probability density for COVID-19 mortality rate, controlling for country factors:')\n",
    "ax = pm.plot_posterior(trace, var_names=['mu_0'], figsize=(18, 8), textsize=18,\n",
    "                       credible_interval=0.95, bw=3.0, lw=3, kind='kde',\n",
    "                       ref_val=round(reported_mortality_rate, 3))"
   ]
  },
  {
   "cell_type": "markdown",
   "metadata": {
    "colab_type": "text",
    "id": "8kGfpMrGU1ML",
    "papermill": {
     "duration": 0.241206,
     "end_time": "2020-03-20T08:17:46.215249",
     "exception": false,
     "start_time": "2020-03-20T08:17:45.974043",
     "status": "completed"
    },
    "tags": []
   },
   "source": [
    "## Magnitude and Significance of Factors \n",
    "\n",
    "For bias in reported COVID-19 mortality rate"
   ]
  },
  {
   "cell_type": "code",
   "execution_count": 10,
   "metadata": {
    "colab": {},
    "colab_type": "code",
    "id": "HUgv4QaNVOMt",
    "papermill": {
     "duration": 2.54284,
     "end_time": "2020-03-20T08:17:48.998731",
     "exception": false,
     "start_time": "2020-03-20T08:17:46.455891",
     "status": "completed"
    },
    "tags": []
   },
   "outputs": [
    {
     "data": {
      "image/png": "[encoded data removed]",
      "text/plain": [
       "<Figure size 1008x504 with 1 Axes>"
      ]
     },
     "metadata": {
      "needs_background": "light"
     },
     "output_type": "display_data"
    }
   ],
   "source": [
    "#collapse-hide\n",
    "\n",
    "# Posterior summary for the beta parameters:\n",
    "beta_summary = pm.summary(trace).head(7)\n",
    "beta_summary.index = ['days_since_first_case', 'cpi', 'healthcare_oop', 'hospital_beds', 'hci', 'percent_over65', 'percent_rural']\n",
    "beta_summary.reset_index(drop=False, inplace=True)\n",
    "\n",
    "err_vals = ((beta_summary['hpd_3%'] - beta_summary['mean']).values,\n",
    "            (beta_summary['hpd_97%'] - beta_summary['mean']).values)\n",
    "ax = beta_summary.plot(x='index', y='mean', kind='bar', figsize=(14, 7),\n",
    "                 title='Posterior Distribution of Beta Parameters',\n",
    "                 yerr=err_vals, color='lightgrey',\n",
    "                 legend=False, grid=True,\n",
    "                 capsize=5)\n",
    "beta_summary.plot(x='index', y='mean', color='k', marker='o', linestyle='None',\n",
    "                  ax=ax, grid=True, legend=False, xlim=plt.gca().get_xlim())\n",
    "\n",
    "plt.savefig('../images/corvid-mortality.png')"
   ]
  },
  {
   "cell_type": "markdown",
   "metadata": {
    "papermill": {
     "duration": 0.243877,
     "end_time": "2020-03-20T08:17:49.482752",
     "exception": false,
     "start_time": "2020-03-20T08:17:49.238875",
     "status": "completed"
    },
    "tags": []
   },
   "source": [
    "# About This Analysis\n",
    "\n",
    "This analysis was done by [Joseph Richards](https://twitter.com/joeyrichar)\n",
    "\n",
    "In this project[^3], we attempt to estimate the true mortality rate[^1] for COVID-19 while controlling for country-level covariates[^2][^4] such as:\n",
    "* age of outbreak in the country\n",
    "* transparency of the country's government\n",
    "* access to healthcare\n",
    "* demographics such as age of population and rural vs. urban\n",
    "\n",
    "Estimating a mortality rate lower than the overall reported rate likely implies that there has been **significant under-testing and under-reporting of cases globally**.\n",
    "\n",
    "## Interpretation of Country-Level Parameters \n",
    "\n",
    "1. days_since_first_case - positive (very statistically significant).  As time since outbreak increases, expected mortality rate **increases**, as expected.\n",
    "2. cpi - negative (statistically significant).  As government transparency increases, expected mortality rate **decreases**.  This may mean that less transparent governments under-report cases, hence inflating the mortality rate.\n",
    "3. healthcare avg. out-of-pocket spending - no significant trend.\n",
    "4. hospital beds per capita - no significant trend.\n",
    "5. Human Capital Index - no significant trend (slightly negative = mortality rates decrease with increased mobilization of the country)\n",
    "6. percent over 65 - positive (statistically significant).  As population age increases, the mortality rate also **increases**, as expected.\n",
    "7. percent rural - no significant trend.\n",
    "\n",
    "\n",
    "[^1]: As of March 10, the **overall reported mortality rate is 3.5%**.  However, this figure does not account for **systematic biases in case reporting and testing**.  The observed mortality of COVID-19 has varied widely from country to country (as of early March 2020).  For instance, as of March 10, mortality rates have ranged from < 0.1% in places like Germany (1100+ cases) to upwards of 5% in Italy (9000+ cases) and 3.9% in China (80k+ cases).\n",
    "\n",
    "[^2]: The point of our modelling work here is to **try to understand and correct for the country-to-country differences that may cause the observed discrepancies in COVID-19 country-wide mortality rates**.  That way we can \"undo\" those biases and try to **pin down an overall *real* mortality rate**.\n",
    "\n",
    "[^3]: Full details about the model are available at:  https://github.com/jwrichar/COVID19-mortality\n",
    "\n",
    "[^4]: The affects of these parameters are subject to change as more data are collected.\n",
    "            "
   ]
  },
  {
   "cell_type": "markdown",
   "metadata": {
    "papermill": {
     "duration": 0.245613,
     "end_time": "2020-03-20T08:17:49.994209",
     "exception": false,
     "start_time": "2020-03-20T08:17:49.748596",
     "status": "completed"
    },
    "tags": []
   },
   "source": [
    "# Appendix: Model Diagnostics\n",
    "\n",
    "The following trace plots help to assess the convergence of the MCMC sampler."
   ]
  },
  {
   "cell_type": "code",
   "execution_count": 11,
   "metadata": {
    "papermill": {
     "duration": 13.038794,
     "end_time": "2020-03-20T08:18:03.277557",
     "exception": false,
     "start_time": "2020-03-20T08:17:50.238763",
     "status": "completed"
    },
    "tags": []
   },
   "outputs": [
    {
     "data": {
      "image/png": "[encoded data removed]",
      "text/plain": [
       "<Figure size 864x864 with 12 Axes>"
      ]
     },
     "metadata": {
      "needs_background": "light"
     },
     "output_type": "display_data"
    }
   ],
   "source": [
    "#hide_input\n",
    "import arviz as az\n",
    "az.plot_trace(trace, compact=True);"
   ]
  },
  {
   "cell_type": "code",
   "execution_count": null,
   "metadata": {
    "papermill": {
     "duration": 0.252959,
     "end_time": "2020-03-20T08:18:03.785106",
     "exception": false,
     "start_time": "2020-03-20T08:18:03.532147",
     "status": "completed"
    },
    "tags": []
   },
   "outputs": [],
   "source": []
  }
 ],
 "metadata": {
  "colab": {
   "collapsed_sections": [],
   "name": "2020-03-13-Mortality-Rate.ipynb",
   "provenance": []
  },
  "kernelspec": {
   "display_name": "visualization-curriculum-gF8wUgMm",
   "language": "python",
   "name": "visualization-curriculum-gf8wugmm"
  },
  "language_info": {
   "codemirror_mode": {
    "name": "ipython",
    "version": 3
   },
   "file_extension": ".py",
   "mimetype": "text/x-python",
   "name": "python",
   "nbconvert_exporter": "python",
   "pygments_lexer": "ipython3",
   "version": "3.6.10"
  },
  "papermill": {
   "duration": 209.698988,
   "end_time": "2020-03-20T08:18:04.044978",
   "environment_variables": {},
   "exception": null,
   "input_path": "2020-03-11-Mortality_Rate.ipynb",
   "output_path": "2020-03-11-Mortality_Rate.ipynb",
   "parameters": {},
   "start_time": "2020-03-20T08:14:34.345990",
   "version": "2.0.0"
  }
 },
 "nbformat": 4,
 "nbformat_minor": 1
}